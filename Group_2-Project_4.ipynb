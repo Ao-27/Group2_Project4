{
 "cells": [
  {
   "cell_type": "code",
   "execution_count": 34,
   "id": "be674c32",
   "metadata": {},
   "outputs": [],
   "source": [
    "import numpy as np\n",
    "import pandas as pd\n",
    "import matplotlib.pyplot as plt\n",
    "import plotly.graph_objects as go\n",
    "from plotly.subplots import make_subplots\n",
    "import seaborn as sns\n",
    "import yfinance as yf\n",
    "import ta  # Technical Analysis library for financial indicators\n",
    "from sklearn.preprocessing import MinMaxScaler\n",
    "from sklearn.model_selection import train_test_split\n",
    "from sklearn.metrics import mean_squared_error, mean_absolute_error, r2_score\n",
    "from tensorflow.keras.models import Sequential\n",
    "from tensorflow.keras.layers import LSTM, Dense, Dropout\n",
    "from tensorflow.keras.callbacks import EarlyStopping, ReduceLROnPlateau\n",
    "from tensorflow.keras.regularizers import l2\n",
    "import plotly.express as px"
   ]
  },
  {
   "cell_type": "code",
   "execution_count": 2,
   "id": "bea9e77e",
   "metadata": {},
   "outputs": [
    {
     "name": "stdout",
     "output_type": "stream",
     "text": [
      "[*********************100%***********************]  1 of 1 completed\n"
     ]
    }
   ],
   "source": [
    "# Data Collection\n",
    "data = yf.download('BTC-USD', start='2022-01-01', end='2023-11-15')\n",
    "data = data[['Open', 'High', 'Low', 'Close', 'Volume']]  # Using multiple features\n"
   ]
  },
  {
   "cell_type": "code",
   "execution_count": 3,
   "id": "b9a15ed6",
   "metadata": {},
   "outputs": [],
   "source": [
    "# Save the DataFrame to a CSV file\n",
    "data.to_csv('bitcoin_trading_data.csv', index=True)"
   ]
  },
  {
   "cell_type": "code",
   "execution_count": 4,
   "id": "b9625507",
   "metadata": {},
   "outputs": [],
   "source": [
    "# Read the DataFrame from the CSV file\n",
    "data = pd.read_csv('bitcoin_trading_data.csv', index_col=0)"
   ]
  },
  {
   "cell_type": "code",
   "execution_count": 5,
   "id": "d3ab7daf",
   "metadata": {},
   "outputs": [],
   "source": [
    "# Preprocessing\n",
    "scaler = MinMaxScaler(feature_range=(0, 1))\n",
    "scaled_data = scaler.fit_transform(data)"
   ]
  },
  {
   "cell_type": "code",
   "execution_count": 6,
   "id": "f8dfdefa",
   "metadata": {},
   "outputs": [],
   "source": [
    "def create_dataset(dataset, time_step=1):\n",
    "    X, Y = [], []\n",
    "    for i in range(len(dataset) - time_step - 1):\n",
    "        X.append(dataset[i:(i + time_step), :])\n",
    "        Y.append(dataset[i + time_step, 3])  # Target is still the 'Close' price\n",
    "    return np.array(X), np.array(Y)\n",
    "\n",
    "time_step = 60\n",
    "X, y = create_dataset(scaled_data, time_step)\n",
    "X_train, X_test, y_train, y_test = train_test_split(X, y, test_size=0.2, random_state=42)\n",
    "\n",
    "\n"
   ]
  },
  {
   "cell_type": "code",
   "execution_count": 7,
   "id": "63826e55",
   "metadata": {},
   "outputs": [],
   "source": [
    "# LSTM Model\n",
    "model = Sequential()\n",
    "model.add(LSTM(100, return_sequences=True, input_shape=(time_step, X_train.shape[2])))\n",
    "model.add(Dropout(0.2))\n",
    "model.add(LSTM(100, return_sequences=False))\n",
    "model.add(Dropout(0.2))\n",
    "model.add(Dense(1))\n"
   ]
  },
  {
   "cell_type": "code",
   "execution_count": 8,
   "id": "b0709975",
   "metadata": {},
   "outputs": [],
   "source": [
    "# Compile the model\n",
    "model.compile(optimizer='adam', loss='mean_squared_error')"
   ]
  },
  {
   "cell_type": "code",
   "execution_count": 9,
   "id": "a9023045",
   "metadata": {
    "scrolled": false
   },
   "outputs": [
    {
     "name": "stdout",
     "output_type": "stream",
     "text": [
      "Epoch 1/200\n",
      "14/14 [==============================] - 4s 102ms/step - loss: 0.0265 - val_loss: 0.0046 - lr: 0.0010\n",
      "Epoch 2/200\n",
      "14/14 [==============================] - 1s 60ms/step - loss: 0.0053 - val_loss: 0.0052 - lr: 0.0010\n",
      "Epoch 3/200\n",
      "14/14 [==============================] - 1s 62ms/step - loss: 0.0045 - val_loss: 0.0038 - lr: 0.0010\n",
      "Epoch 4/200\n",
      "14/14 [==============================] - 1s 59ms/step - loss: 0.0042 - val_loss: 0.0035 - lr: 0.0010\n",
      "Epoch 5/200\n",
      "14/14 [==============================] - 1s 60ms/step - loss: 0.0041 - val_loss: 0.0033 - lr: 0.0010\n",
      "Epoch 6/200\n",
      "14/14 [==============================] - 1s 61ms/step - loss: 0.0036 - val_loss: 0.0030 - lr: 0.0010\n",
      "Epoch 7/200\n",
      "14/14 [==============================] - 1s 65ms/step - loss: 0.0033 - val_loss: 0.0032 - lr: 0.0010\n",
      "Epoch 8/200\n",
      "14/14 [==============================] - 1s 62ms/step - loss: 0.0033 - val_loss: 0.0030 - lr: 0.0010\n",
      "Epoch 9/200\n",
      "14/14 [==============================] - 1s 61ms/step - loss: 0.0032 - val_loss: 0.0031 - lr: 0.0010\n",
      "Epoch 10/200\n",
      "14/14 [==============================] - 1s 60ms/step - loss: 0.0032 - val_loss: 0.0026 - lr: 0.0010\n",
      "Epoch 11/200\n",
      "14/14 [==============================] - 1s 60ms/step - loss: 0.0030 - val_loss: 0.0025 - lr: 0.0010\n",
      "Epoch 12/200\n",
      "14/14 [==============================] - 1s 62ms/step - loss: 0.0033 - val_loss: 0.0024 - lr: 0.0010\n",
      "Epoch 13/200\n",
      "14/14 [==============================] - 1s 58ms/step - loss: 0.0030 - val_loss: 0.0027 - lr: 0.0010\n",
      "Epoch 14/200\n",
      "14/14 [==============================] - 1s 56ms/step - loss: 0.0033 - val_loss: 0.0024 - lr: 0.0010\n",
      "Epoch 15/200\n",
      "14/14 [==============================] - 1s 60ms/step - loss: 0.0025 - val_loss: 0.0022 - lr: 0.0010\n",
      "Epoch 16/200\n",
      "14/14 [==============================] - 1s 61ms/step - loss: 0.0032 - val_loss: 0.0022 - lr: 0.0010\n",
      "Epoch 17/200\n",
      "14/14 [==============================] - 1s 62ms/step - loss: 0.0029 - val_loss: 0.0022 - lr: 0.0010\n",
      "Epoch 18/200\n",
      "14/14 [==============================] - 1s 59ms/step - loss: 0.0028 - val_loss: 0.0020 - lr: 0.0010\n",
      "Epoch 19/200\n",
      "14/14 [==============================] - 1s 63ms/step - loss: 0.0028 - val_loss: 0.0025 - lr: 0.0010\n",
      "Epoch 20/200\n",
      "14/14 [==============================] - 1s 60ms/step - loss: 0.0027 - val_loss: 0.0021 - lr: 0.0010\n",
      "Epoch 21/200\n",
      "14/14 [==============================] - 1s 58ms/step - loss: 0.0026 - val_loss: 0.0020 - lr: 0.0010\n",
      "Epoch 22/200\n",
      "14/14 [==============================] - 1s 55ms/step - loss: 0.0024 - val_loss: 0.0018 - lr: 0.0010\n",
      "Epoch 23/200\n",
      "14/14 [==============================] - 1s 57ms/step - loss: 0.0029 - val_loss: 0.0017 - lr: 0.0010\n",
      "Epoch 24/200\n",
      "14/14 [==============================] - 1s 54ms/step - loss: 0.0029 - val_loss: 0.0017 - lr: 0.0010\n",
      "Epoch 25/200\n",
      "14/14 [==============================] - 1s 54ms/step - loss: 0.0026 - val_loss: 0.0020 - lr: 0.0010\n",
      "Epoch 26/200\n",
      "14/14 [==============================] - 1s 55ms/step - loss: 0.0025 - val_loss: 0.0017 - lr: 0.0010\n",
      "Epoch 27/200\n",
      "14/14 [==============================] - 1s 53ms/step - loss: 0.0024 - val_loss: 0.0016 - lr: 0.0010\n",
      "Epoch 28/200\n",
      "14/14 [==============================] - 1s 54ms/step - loss: 0.0026 - val_loss: 0.0020 - lr: 0.0010\n",
      "Epoch 29/200\n",
      "14/14 [==============================] - 1s 55ms/step - loss: 0.0028 - val_loss: 0.0021 - lr: 0.0010\n",
      "Epoch 30/200\n",
      "14/14 [==============================] - 1s 54ms/step - loss: 0.0025 - val_loss: 0.0015 - lr: 0.0010\n",
      "Epoch 31/200\n",
      "14/14 [==============================] - 1s 52ms/step - loss: 0.0023 - val_loss: 0.0017 - lr: 0.0010\n",
      "Epoch 32/200\n",
      "14/14 [==============================] - 1s 55ms/step - loss: 0.0021 - val_loss: 0.0015 - lr: 0.0010\n",
      "Epoch 33/200\n",
      "14/14 [==============================] - 1s 54ms/step - loss: 0.0021 - val_loss: 0.0014 - lr: 0.0010\n",
      "Epoch 34/200\n",
      "14/14 [==============================] - 1s 55ms/step - loss: 0.0022 - val_loss: 0.0015 - lr: 0.0010\n",
      "Epoch 35/200\n",
      "14/14 [==============================] - 1s 55ms/step - loss: 0.0021 - val_loss: 0.0014 - lr: 0.0010\n",
      "Epoch 36/200\n",
      "14/14 [==============================] - 1s 55ms/step - loss: 0.0023 - val_loss: 0.0014 - lr: 0.0010\n",
      "Epoch 37/200\n",
      "14/14 [==============================] - 1s 59ms/step - loss: 0.0021 - val_loss: 0.0014 - lr: 0.0010\n",
      "Epoch 38/200\n",
      "14/14 [==============================] - 1s 58ms/step - loss: 0.0018 - val_loss: 0.0015 - lr: 0.0010\n",
      "Epoch 39/200\n",
      "14/14 [==============================] - 1s 58ms/step - loss: 0.0021 - val_loss: 0.0017 - lr: 0.0010\n",
      "Epoch 40/200\n",
      "14/14 [==============================] - 1s 55ms/step - loss: 0.0020 - val_loss: 0.0014 - lr: 0.0010\n",
      "Epoch 41/200\n",
      "14/14 [==============================] - 1s 54ms/step - loss: 0.0019 - val_loss: 0.0020 - lr: 0.0010\n",
      "Epoch 42/200\n",
      "14/14 [==============================] - 1s 55ms/step - loss: 0.0021 - val_loss: 0.0017 - lr: 0.0010\n",
      "Epoch 43/200\n",
      "14/14 [==============================] - 1s 55ms/step - loss: 0.0019 - val_loss: 0.0015 - lr: 0.0010\n",
      "Epoch 44/200\n",
      "14/14 [==============================] - 1s 53ms/step - loss: 0.0020 - val_loss: 0.0013 - lr: 0.0010\n",
      "Epoch 45/200\n",
      "14/14 [==============================] - 1s 53ms/step - loss: 0.0019 - val_loss: 0.0013 - lr: 0.0010\n",
      "Epoch 46/200\n",
      "14/14 [==============================] - 1s 54ms/step - loss: 0.0019 - val_loss: 0.0013 - lr: 0.0010\n",
      "Epoch 47/200\n",
      "14/14 [==============================] - 1s 54ms/step - loss: 0.0020 - val_loss: 0.0016 - lr: 0.0010\n",
      "Epoch 48/200\n",
      "14/14 [==============================] - 1s 54ms/step - loss: 0.0023 - val_loss: 0.0013 - lr: 0.0010\n",
      "Epoch 49/200\n",
      "14/14 [==============================] - 1s 54ms/step - loss: 0.0026 - val_loss: 0.0032 - lr: 0.0010\n",
      "Epoch 50/200\n",
      "14/14 [==============================] - 1s 55ms/step - loss: 0.0023 - val_loss: 0.0024 - lr: 0.0010\n",
      "Epoch 51/200\n",
      "14/14 [==============================] - 1s 53ms/step - loss: 0.0019 - val_loss: 0.0012 - lr: 0.0010\n",
      "Epoch 52/200\n",
      "14/14 [==============================] - 1s 54ms/step - loss: 0.0019 - val_loss: 0.0012 - lr: 0.0010\n",
      "Epoch 53/200\n",
      "14/14 [==============================] - 1s 55ms/step - loss: 0.0016 - val_loss: 0.0011 - lr: 0.0010\n",
      "Epoch 54/200\n",
      "14/14 [==============================] - 1s 55ms/step - loss: 0.0019 - val_loss: 0.0013 - lr: 0.0010\n",
      "Epoch 55/200\n",
      "14/14 [==============================] - 1s 55ms/step - loss: 0.0018 - val_loss: 0.0013 - lr: 0.0010\n",
      "Epoch 56/200\n",
      "14/14 [==============================] - 1s 55ms/step - loss: 0.0017 - val_loss: 0.0013 - lr: 0.0010\n",
      "Epoch 57/200\n",
      "14/14 [==============================] - 1s 54ms/step - loss: 0.0021 - val_loss: 0.0011 - lr: 0.0010\n",
      "Epoch 58/200\n",
      "14/14 [==============================] - 1s 55ms/step - loss: 0.0020 - val_loss: 0.0012 - lr: 0.0010\n",
      "Epoch 59/200\n",
      "14/14 [==============================] - 1s 56ms/step - loss: 0.0017 - val_loss: 0.0014 - lr: 0.0010\n",
      "Epoch 60/200\n",
      "14/14 [==============================] - 1s 54ms/step - loss: 0.0017 - val_loss: 0.0011 - lr: 0.0010\n",
      "Epoch 61/200\n",
      "14/14 [==============================] - 1s 54ms/step - loss: 0.0018 - val_loss: 0.0019 - lr: 0.0010\n",
      "Epoch 62/200\n",
      "14/14 [==============================] - 1s 56ms/step - loss: 0.0018 - val_loss: 0.0011 - lr: 0.0010\n",
      "Epoch 63/200\n",
      "14/14 [==============================] - 1s 60ms/step - loss: 0.0018 - val_loss: 0.0014 - lr: 0.0010\n",
      "Epoch 64/200\n",
      "14/14 [==============================] - 1s 59ms/step - loss: 0.0019 - val_loss: 0.0017 - lr: 0.0010\n",
      "4/4 [==============================] - 1s 14ms/step\n",
      "R-Squared score: 0.9720896728090918\n",
      "MSE: 1269882.2074817827\n",
      "MAE: 883.3769054553569\n"
     ]
    }
   ],
   "source": [
    "# Define early stopping callback\n",
    "early_stopping = EarlyStopping(monitor='val_loss', patience=7, restore_best_weights=True)\n",
    "reduce_lr = ReduceLROnPlateau(monitor='val_loss', factor=0.2, patience=5, min_lr=0.001)\n",
    "\n",
    "# Training with potentially adjusted batch size and epochs\n",
    "model.fit(X_train, y_train, epochs=200, batch_size=32, validation_split=0.1, callbacks=[early_stopping, reduce_lr])\n",
    "\n",
    "# Prediction and Evaluation\n",
    "y_pred = model.predict(X_test)\n",
    "y_test_scaled_back = scaler.inverse_transform(np.concatenate((np.zeros_like(y_test).reshape(-1,1), y_test.reshape(-1,1), np.zeros((len(y_test), scaled_data.shape[1] - 2))), axis=1))[:, 1]\n",
    "dummy_test = np.zeros((len(y_pred), scaled_data.shape[1]))\n",
    "dummy_test[:, 3] = y_pred.flatten()\n",
    "y_pred_transformed = scaler.inverse_transform(dummy_test)[:, 3]\n",
    "\n",
    "r_squared = r2_score(y_test_scaled_back, y_pred_transformed)\n",
    "mse = mean_squared_error(y_test_scaled_back, y_pred_transformed)\n",
    "mae = mean_absolute_error(y_test_scaled_back, y_pred_transformed)\n",
    "\n",
    "print(\"R-Squared score:\", r_squared)\n",
    "print(\"MSE:\", mse)\n",
    "print(\"MAE:\", mae)\n"
   ]
  },
  {
   "cell_type": "code",
   "execution_count": 10,
   "id": "98698787",
   "metadata": {},
   "outputs": [
    {
     "name": "stdout",
     "output_type": "stream",
     "text": [
      "1/1 [==============================] - 0s 21ms/step\n",
      "Predicted Next Day Price: [36298.42822171]\n"
     ]
    }
   ],
   "source": [
    "# Predict the next day's closing price\n",
    "last_sequence = scaled_data[-time_step:]\n",
    "last_sequence = last_sequence.reshape(1, time_step, scaled_data.shape[1])\n",
    "next_day_prediction = model.predict(last_sequence)\n",
    "next_day_dummy = np.zeros((1, scaled_data.shape[1]))\n",
    "next_day_dummy[:, 3] = next_day_prediction.flatten()\n",
    "predicted_close_price = scaler.inverse_transform(next_day_dummy)[:, 3]\n",
    "\n",
    "print(\"Predicted Next Day Price:\", predicted_close_price)"
   ]
  },
  {
   "cell_type": "code",
   "execution_count": 11,
   "id": "8e5c42f6",
   "metadata": {},
   "outputs": [
    {
     "name": "stdout",
     "output_type": "stream",
     "text": [
      "1/1 [==============================] - 0s 22ms/step\n"
     ]
    }
   ],
   "source": [
    "# Predict the next day\n",
    "last_sequence = scaled_data[-time_step:]\n",
    "last_sequence = last_sequence.reshape(1, time_step, 5)\n",
    "next_day_prediction = model.predict(last_sequence)\n",
    "predicted_close_price = scaler.inverse_transform(np.concatenate((next_day_prediction, np.zeros((1, 4))), axis=1))[:, 0]"
   ]
  },
  {
   "cell_type": "code",
   "execution_count": 12,
   "id": "3c9dd6d8",
   "metadata": {},
   "outputs": [
    {
     "name": "stdout",
     "output_type": "stream",
     "text": [
      "1/1 [==============================] - 0s 20ms/step\n",
      "Predicted Next Day Price: [36298.42822171]\n",
      "Actual values: [0.1611059  0.38842895 0.17996516 0.03325575 0.15085655 0.14727457\n",
      " 0.1091179  0.10283383 0.33608436 0.25256181]\n",
      "Predicted values: [20290.81803395 28030.09403362 21168.21774313 17181.62126346\n",
      " 19549.42260944 20455.39167945 19030.8544621  19040.04017019\n",
      " 26652.24114734 21658.22389741]\n",
      "X_test shape: (125, 60, 5)\n"
     ]
    }
   ],
   "source": [
    "# Predict the next day's closing price\n",
    "last_sequence = scaled_data[-time_step:]\n",
    "last_sequence = last_sequence.reshape(1, time_step, 5)\n",
    "next_day_prediction = model.predict(last_sequence)\n",
    "\n",
    "# Adjust the shape of next_day_prediction for inverse transformation\n",
    "next_day_dummy = np.zeros((1, scaled_data.shape[1]))\n",
    "next_day_dummy[:, 3] = next_day_prediction.flatten()\n",
    "predicted_close_price = scaler.inverse_transform(next_day_dummy)[:, 3]\n",
    "\n",
    "# Print the predicted next day price\n",
    "print(\"Predicted Next Day Price:\", predicted_close_price)\n",
    "print(\"Actual values:\", y_test[:10])\n",
    "print(\"Predicted values:\", y_pred_transformed[:10])\n",
    "print(\"X_test shape:\", X_test.shape)\n"
   ]
  },
  {
   "cell_type": "code",
   "execution_count": 13,
   "id": "078f4b6d",
   "metadata": {},
   "outputs": [],
   "source": [
    "# Add the predicted price to the DataFrame\n",
    "# Convert the index to datetime if it's not already\n",
    "data.index = pd.to_datetime(data.index)\n",
    "\n",
    "# Now, adding a Timedelta should work\n",
    "next_day = data.index[-1] + pd.Timedelta(days=1)\n",
    "data.loc[next_day] = [np.nan, np.nan, np.nan, predicted_close_price, np.nan]"
   ]
  },
  {
   "cell_type": "code",
   "execution_count": 38,
   "id": "39a2c162",
   "metadata": {},
   "outputs": [
    {
     "data": {
      "application/vnd.plotly.v1+json": {
       "config": {
        "plotlyServerURL": "https://plot.ly"
       },
       "data": [
        {
         "name": "Historical Daily Close Price",
         "type": "scatter",
         "x": [
          "2023-09-17T00:00:00",
          "2023-09-18T00:00:00",
          "2023-09-19T00:00:00",
          "2023-09-20T00:00:00",
          "2023-09-21T00:00:00",
          "2023-09-22T00:00:00",
          "2023-09-23T00:00:00",
          "2023-09-24T00:00:00",
          "2023-09-25T00:00:00",
          "2023-09-26T00:00:00",
          "2023-09-27T00:00:00",
          "2023-09-28T00:00:00",
          "2023-09-29T00:00:00",
          "2023-09-30T00:00:00",
          "2023-10-01T00:00:00",
          "2023-10-02T00:00:00",
          "2023-10-03T00:00:00",
          "2023-10-04T00:00:00",
          "2023-10-05T00:00:00",
          "2023-10-06T00:00:00",
          "2023-10-07T00:00:00",
          "2023-10-08T00:00:00",
          "2023-10-09T00:00:00",
          "2023-10-10T00:00:00",
          "2023-10-11T00:00:00",
          "2023-10-12T00:00:00",
          "2023-10-13T00:00:00",
          "2023-10-14T00:00:00",
          "2023-10-15T00:00:00",
          "2023-10-16T00:00:00",
          "2023-10-17T00:00:00",
          "2023-10-18T00:00:00",
          "2023-10-19T00:00:00",
          "2023-10-20T00:00:00",
          "2023-10-21T00:00:00",
          "2023-10-22T00:00:00",
          "2023-10-23T00:00:00",
          "2023-10-24T00:00:00",
          "2023-10-25T00:00:00",
          "2023-10-26T00:00:00",
          "2023-10-27T00:00:00",
          "2023-10-28T00:00:00",
          "2023-10-29T00:00:00",
          "2023-10-30T00:00:00",
          "2023-10-31T00:00:00",
          "2023-11-01T00:00:00",
          "2023-11-02T00:00:00",
          "2023-11-03T00:00:00",
          "2023-11-04T00:00:00",
          "2023-11-05T00:00:00",
          "2023-11-06T00:00:00",
          "2023-11-07T00:00:00",
          "2023-11-08T00:00:00",
          "2023-11-09T00:00:00",
          "2023-11-10T00:00:00",
          "2023-11-11T00:00:00",
          "2023-11-12T00:00:00",
          "2023-11-13T00:00:00",
          "2023-11-14T00:00:00",
          "2023-11-15T00:00:00"
         ],
         "xaxis": "x",
         "y": [
          26568.28125,
          26534.1875,
          26754.28125,
          27211.1171875,
          27132.0078125,
          26567.6328125,
          26579.568359375,
          26579.390625,
          26256.826171875,
          26298.48046875,
          26217.25,
          26352.716796875,
          27021.546875,
          26911.720703125,
          26967.916015625,
          27983.75,
          27530.78515625,
          27429.978515625,
          27799.39453125,
          27415.912109375,
          27946.59765625,
          27968.83984375,
          27935.08984375,
          27583.677734375,
          27391.01953125,
          26873.3203125,
          26756.798828125,
          26862.375,
          26861.70703125,
          27159.65234375,
          28519.466796875,
          28415.748046875,
          28328.341796875,
          28719.806640625,
          29682.94921875,
          29918.412109375,
          29993.896484375,
          33086.234375,
          33901.52734375,
          34502.8203125,
          34156.6484375,
          33909.80078125,
          34089.57421875,
          34538.48046875,
          34502.36328125,
          34667.78125,
          35437.25390625,
          34938.2421875,
          34732.32421875,
          35082.1953125,
          35049.35546875,
          35037.37109375,
          35443.5625,
          35655.27734375,
          36693.125,
          37313.96875,
          37138.05078125,
          37054.51953125,
          36502.35546875,
          35537.640625
         ],
         "yaxis": "y"
        },
        {
         "marker": {
          "color": "orange"
         },
         "name": "Trading Volume",
         "type": "scatter",
         "x": [
          "2023-09-17T00:00:00",
          "2023-09-18T00:00:00",
          "2023-09-19T00:00:00",
          "2023-09-20T00:00:00",
          "2023-09-21T00:00:00",
          "2023-09-22T00:00:00",
          "2023-09-23T00:00:00",
          "2023-09-24T00:00:00",
          "2023-09-25T00:00:00",
          "2023-09-26T00:00:00",
          "2023-09-27T00:00:00",
          "2023-09-28T00:00:00",
          "2023-09-29T00:00:00",
          "2023-09-30T00:00:00",
          "2023-10-01T00:00:00",
          "2023-10-02T00:00:00",
          "2023-10-03T00:00:00",
          "2023-10-04T00:00:00",
          "2023-10-05T00:00:00",
          "2023-10-06T00:00:00",
          "2023-10-07T00:00:00",
          "2023-10-08T00:00:00",
          "2023-10-09T00:00:00",
          "2023-10-10T00:00:00",
          "2023-10-11T00:00:00",
          "2023-10-12T00:00:00",
          "2023-10-13T00:00:00",
          "2023-10-14T00:00:00",
          "2023-10-15T00:00:00",
          "2023-10-16T00:00:00",
          "2023-10-17T00:00:00",
          "2023-10-18T00:00:00",
          "2023-10-19T00:00:00",
          "2023-10-20T00:00:00",
          "2023-10-21T00:00:00",
          "2023-10-22T00:00:00",
          "2023-10-23T00:00:00",
          "2023-10-24T00:00:00",
          "2023-10-25T00:00:00",
          "2023-10-26T00:00:00",
          "2023-10-27T00:00:00",
          "2023-10-28T00:00:00",
          "2023-10-29T00:00:00",
          "2023-10-30T00:00:00",
          "2023-10-31T00:00:00",
          "2023-11-01T00:00:00",
          "2023-11-02T00:00:00",
          "2023-11-03T00:00:00",
          "2023-11-04T00:00:00",
          "2023-11-05T00:00:00",
          "2023-11-06T00:00:00",
          "2023-11-07T00:00:00",
          "2023-11-08T00:00:00",
          "2023-11-09T00:00:00",
          "2023-11-10T00:00:00",
          "2023-11-11T00:00:00",
          "2023-11-12T00:00:00",
          "2023-11-13T00:00:00",
          "2023-11-14T00:00:00",
          "2023-11-15T00:00:00"
         ],
         "xaxis": "x",
         "y": [
          7402031417,
          6774210670,
          15615339655,
          13807690550,
          13281116604,
          13371443708,
          10578746709,
          7404700301,
          8192867686,
          11997833257,
          9985498161,
          11718380997,
          14079002707,
          10396435377,
          5331172801,
          9503917434,
          19793041322,
          11407814187,
          11143355314,
          11877253670,
          13492391599,
          6553044316,
          7916875290,
          12007668568,
          9973350678,
          13648094333,
          9392909295,
          15165312851,
          5388116782,
          7098201980,
          27833876539,
          14872527508,
          12724128586,
          14448058195,
          21536125230,
          11541146996,
          10446520040,
          38363572311,
          44934999645,
          25254318008,
          19427195376,
          16418032871,
          10160330825,
          11160323986,
          17184860315,
          15758270810,
          22446272005,
          20998158544,
          17158456701,
          9561294264,
          12412743996,
          12693436420,
          18834737789,
          17295394918,
          37762672382,
          22711265155,
          13924272142,
          11545715999,
          19057712790,
          23857403554
         ],
         "yaxis": "y2"
        },
        {
         "marker": {
          "color": "red",
          "size": 10
         },
         "mode": "markers",
         "name": "Predicted Next Day Price",
         "type": "scatter",
         "x": [
          "2023-11-15T00:00:00"
         ],
         "xaxis": "x",
         "y": [
          [
           36298.42822171358
          ]
         ],
         "yaxis": "y"
        }
       ],
       "layout": {
        "template": {
         "data": {
          "bar": [
           {
            "error_x": {
             "color": "#2a3f5f"
            },
            "error_y": {
             "color": "#2a3f5f"
            },
            "marker": {
             "line": {
              "color": "#E5ECF6",
              "width": 0.5
             },
             "pattern": {
              "fillmode": "overlay",
              "size": 10,
              "solidity": 0.2
             }
            },
            "type": "bar"
           }
          ],
          "barpolar": [
           {
            "marker": {
             "line": {
              "color": "#E5ECF6",
              "width": 0.5
             },
             "pattern": {
              "fillmode": "overlay",
              "size": 10,
              "solidity": 0.2
             }
            },
            "type": "barpolar"
           }
          ],
          "carpet": [
           {
            "aaxis": {
             "endlinecolor": "#2a3f5f",
             "gridcolor": "white",
             "linecolor": "white",
             "minorgridcolor": "white",
             "startlinecolor": "#2a3f5f"
            },
            "baxis": {
             "endlinecolor": "#2a3f5f",
             "gridcolor": "white",
             "linecolor": "white",
             "minorgridcolor": "white",
             "startlinecolor": "#2a3f5f"
            },
            "type": "carpet"
           }
          ],
          "choropleth": [
           {
            "colorbar": {
             "outlinewidth": 0,
             "ticks": ""
            },
            "type": "choropleth"
           }
          ],
          "contour": [
           {
            "colorbar": {
             "outlinewidth": 0,
             "ticks": ""
            },
            "colorscale": [
             [
              0,
              "#0d0887"
             ],
             [
              0.1111111111111111,
              "#46039f"
             ],
             [
              0.2222222222222222,
              "#7201a8"
             ],
             [
              0.3333333333333333,
              "#9c179e"
             ],
             [
              0.4444444444444444,
              "#bd3786"
             ],
             [
              0.5555555555555556,
              "#d8576b"
             ],
             [
              0.6666666666666666,
              "#ed7953"
             ],
             [
              0.7777777777777778,
              "#fb9f3a"
             ],
             [
              0.8888888888888888,
              "#fdca26"
             ],
             [
              1,
              "#f0f921"
             ]
            ],
            "type": "contour"
           }
          ],
          "contourcarpet": [
           {
            "colorbar": {
             "outlinewidth": 0,
             "ticks": ""
            },
            "type": "contourcarpet"
           }
          ],
          "heatmap": [
           {
            "colorbar": {
             "outlinewidth": 0,
             "ticks": ""
            },
            "colorscale": [
             [
              0,
              "#0d0887"
             ],
             [
              0.1111111111111111,
              "#46039f"
             ],
             [
              0.2222222222222222,
              "#7201a8"
             ],
             [
              0.3333333333333333,
              "#9c179e"
             ],
             [
              0.4444444444444444,
              "#bd3786"
             ],
             [
              0.5555555555555556,
              "#d8576b"
             ],
             [
              0.6666666666666666,
              "#ed7953"
             ],
             [
              0.7777777777777778,
              "#fb9f3a"
             ],
             [
              0.8888888888888888,
              "#fdca26"
             ],
             [
              1,
              "#f0f921"
             ]
            ],
            "type": "heatmap"
           }
          ],
          "heatmapgl": [
           {
            "colorbar": {
             "outlinewidth": 0,
             "ticks": ""
            },
            "colorscale": [
             [
              0,
              "#0d0887"
             ],
             [
              0.1111111111111111,
              "#46039f"
             ],
             [
              0.2222222222222222,
              "#7201a8"
             ],
             [
              0.3333333333333333,
              "#9c179e"
             ],
             [
              0.4444444444444444,
              "#bd3786"
             ],
             [
              0.5555555555555556,
              "#d8576b"
             ],
             [
              0.6666666666666666,
              "#ed7953"
             ],
             [
              0.7777777777777778,
              "#fb9f3a"
             ],
             [
              0.8888888888888888,
              "#fdca26"
             ],
             [
              1,
              "#f0f921"
             ]
            ],
            "type": "heatmapgl"
           }
          ],
          "histogram": [
           {
            "marker": {
             "pattern": {
              "fillmode": "overlay",
              "size": 10,
              "solidity": 0.2
             }
            },
            "type": "histogram"
           }
          ],
          "histogram2d": [
           {
            "colorbar": {
             "outlinewidth": 0,
             "ticks": ""
            },
            "colorscale": [
             [
              0,
              "#0d0887"
             ],
             [
              0.1111111111111111,
              "#46039f"
             ],
             [
              0.2222222222222222,
              "#7201a8"
             ],
             [
              0.3333333333333333,
              "#9c179e"
             ],
             [
              0.4444444444444444,
              "#bd3786"
             ],
             [
              0.5555555555555556,
              "#d8576b"
             ],
             [
              0.6666666666666666,
              "#ed7953"
             ],
             [
              0.7777777777777778,
              "#fb9f3a"
             ],
             [
              0.8888888888888888,
              "#fdca26"
             ],
             [
              1,
              "#f0f921"
             ]
            ],
            "type": "histogram2d"
           }
          ],
          "histogram2dcontour": [
           {
            "colorbar": {
             "outlinewidth": 0,
             "ticks": ""
            },
            "colorscale": [
             [
              0,
              "#0d0887"
             ],
             [
              0.1111111111111111,
              "#46039f"
             ],
             [
              0.2222222222222222,
              "#7201a8"
             ],
             [
              0.3333333333333333,
              "#9c179e"
             ],
             [
              0.4444444444444444,
              "#bd3786"
             ],
             [
              0.5555555555555556,
              "#d8576b"
             ],
             [
              0.6666666666666666,
              "#ed7953"
             ],
             [
              0.7777777777777778,
              "#fb9f3a"
             ],
             [
              0.8888888888888888,
              "#fdca26"
             ],
             [
              1,
              "#f0f921"
             ]
            ],
            "type": "histogram2dcontour"
           }
          ],
          "mesh3d": [
           {
            "colorbar": {
             "outlinewidth": 0,
             "ticks": ""
            },
            "type": "mesh3d"
           }
          ],
          "parcoords": [
           {
            "line": {
             "colorbar": {
              "outlinewidth": 0,
              "ticks": ""
             }
            },
            "type": "parcoords"
           }
          ],
          "pie": [
           {
            "automargin": true,
            "type": "pie"
           }
          ],
          "scatter": [
           {
            "fillpattern": {
             "fillmode": "overlay",
             "size": 10,
             "solidity": 0.2
            },
            "type": "scatter"
           }
          ],
          "scatter3d": [
           {
            "line": {
             "colorbar": {
              "outlinewidth": 0,
              "ticks": ""
             }
            },
            "marker": {
             "colorbar": {
              "outlinewidth": 0,
              "ticks": ""
             }
            },
            "type": "scatter3d"
           }
          ],
          "scattercarpet": [
           {
            "marker": {
             "colorbar": {
              "outlinewidth": 0,
              "ticks": ""
             }
            },
            "type": "scattercarpet"
           }
          ],
          "scattergeo": [
           {
            "marker": {
             "colorbar": {
              "outlinewidth": 0,
              "ticks": ""
             }
            },
            "type": "scattergeo"
           }
          ],
          "scattergl": [
           {
            "marker": {
             "colorbar": {
              "outlinewidth": 0,
              "ticks": ""
             }
            },
            "type": "scattergl"
           }
          ],
          "scattermapbox": [
           {
            "marker": {
             "colorbar": {
              "outlinewidth": 0,
              "ticks": ""
             }
            },
            "type": "scattermapbox"
           }
          ],
          "scatterpolar": [
           {
            "marker": {
             "colorbar": {
              "outlinewidth": 0,
              "ticks": ""
             }
            },
            "type": "scatterpolar"
           }
          ],
          "scatterpolargl": [
           {
            "marker": {
             "colorbar": {
              "outlinewidth": 0,
              "ticks": ""
             }
            },
            "type": "scatterpolargl"
           }
          ],
          "scatterternary": [
           {
            "marker": {
             "colorbar": {
              "outlinewidth": 0,
              "ticks": ""
             }
            },
            "type": "scatterternary"
           }
          ],
          "surface": [
           {
            "colorbar": {
             "outlinewidth": 0,
             "ticks": ""
            },
            "colorscale": [
             [
              0,
              "#0d0887"
             ],
             [
              0.1111111111111111,
              "#46039f"
             ],
             [
              0.2222222222222222,
              "#7201a8"
             ],
             [
              0.3333333333333333,
              "#9c179e"
             ],
             [
              0.4444444444444444,
              "#bd3786"
             ],
             [
              0.5555555555555556,
              "#d8576b"
             ],
             [
              0.6666666666666666,
              "#ed7953"
             ],
             [
              0.7777777777777778,
              "#fb9f3a"
             ],
             [
              0.8888888888888888,
              "#fdca26"
             ],
             [
              1,
              "#f0f921"
             ]
            ],
            "type": "surface"
           }
          ],
          "table": [
           {
            "cells": {
             "fill": {
              "color": "#EBF0F8"
             },
             "line": {
              "color": "white"
             }
            },
            "header": {
             "fill": {
              "color": "#C8D4E3"
             },
             "line": {
              "color": "white"
             }
            },
            "type": "table"
           }
          ]
         },
         "layout": {
          "annotationdefaults": {
           "arrowcolor": "#2a3f5f",
           "arrowhead": 0,
           "arrowwidth": 1
          },
          "autotypenumbers": "strict",
          "coloraxis": {
           "colorbar": {
            "outlinewidth": 0,
            "ticks": ""
           }
          },
          "colorscale": {
           "diverging": [
            [
             0,
             "#8e0152"
            ],
            [
             0.1,
             "#c51b7d"
            ],
            [
             0.2,
             "#de77ae"
            ],
            [
             0.3,
             "#f1b6da"
            ],
            [
             0.4,
             "#fde0ef"
            ],
            [
             0.5,
             "#f7f7f7"
            ],
            [
             0.6,
             "#e6f5d0"
            ],
            [
             0.7,
             "#b8e186"
            ],
            [
             0.8,
             "#7fbc41"
            ],
            [
             0.9,
             "#4d9221"
            ],
            [
             1,
             "#276419"
            ]
           ],
           "sequential": [
            [
             0,
             "#0d0887"
            ],
            [
             0.1111111111111111,
             "#46039f"
            ],
            [
             0.2222222222222222,
             "#7201a8"
            ],
            [
             0.3333333333333333,
             "#9c179e"
            ],
            [
             0.4444444444444444,
             "#bd3786"
            ],
            [
             0.5555555555555556,
             "#d8576b"
            ],
            [
             0.6666666666666666,
             "#ed7953"
            ],
            [
             0.7777777777777778,
             "#fb9f3a"
            ],
            [
             0.8888888888888888,
             "#fdca26"
            ],
            [
             1,
             "#f0f921"
            ]
           ],
           "sequentialminus": [
            [
             0,
             "#0d0887"
            ],
            [
             0.1111111111111111,
             "#46039f"
            ],
            [
             0.2222222222222222,
             "#7201a8"
            ],
            [
             0.3333333333333333,
             "#9c179e"
            ],
            [
             0.4444444444444444,
             "#bd3786"
            ],
            [
             0.5555555555555556,
             "#d8576b"
            ],
            [
             0.6666666666666666,
             "#ed7953"
            ],
            [
             0.7777777777777778,
             "#fb9f3a"
            ],
            [
             0.8888888888888888,
             "#fdca26"
            ],
            [
             1,
             "#f0f921"
            ]
           ]
          },
          "colorway": [
           "#636efa",
           "#EF553B",
           "#00cc96",
           "#ab63fa",
           "#FFA15A",
           "#19d3f3",
           "#FF6692",
           "#B6E880",
           "#FF97FF",
           "#FECB52"
          ],
          "font": {
           "color": "#2a3f5f"
          },
          "geo": {
           "bgcolor": "white",
           "lakecolor": "white",
           "landcolor": "#E5ECF6",
           "showlakes": true,
           "showland": true,
           "subunitcolor": "white"
          },
          "hoverlabel": {
           "align": "left"
          },
          "hovermode": "closest",
          "mapbox": {
           "style": "light"
          },
          "paper_bgcolor": "white",
          "plot_bgcolor": "#E5ECF6",
          "polar": {
           "angularaxis": {
            "gridcolor": "white",
            "linecolor": "white",
            "ticks": ""
           },
           "bgcolor": "#E5ECF6",
           "radialaxis": {
            "gridcolor": "white",
            "linecolor": "white",
            "ticks": ""
           }
          },
          "scene": {
           "xaxis": {
            "backgroundcolor": "#E5ECF6",
            "gridcolor": "white",
            "gridwidth": 2,
            "linecolor": "white",
            "showbackground": true,
            "ticks": "",
            "zerolinecolor": "white"
           },
           "yaxis": {
            "backgroundcolor": "#E5ECF6",
            "gridcolor": "white",
            "gridwidth": 2,
            "linecolor": "white",
            "showbackground": true,
            "ticks": "",
            "zerolinecolor": "white"
           },
           "zaxis": {
            "backgroundcolor": "#E5ECF6",
            "gridcolor": "white",
            "gridwidth": 2,
            "linecolor": "white",
            "showbackground": true,
            "ticks": "",
            "zerolinecolor": "white"
           }
          },
          "shapedefaults": {
           "line": {
            "color": "#2a3f5f"
           }
          },
          "ternary": {
           "aaxis": {
            "gridcolor": "white",
            "linecolor": "white",
            "ticks": ""
           },
           "baxis": {
            "gridcolor": "white",
            "linecolor": "white",
            "ticks": ""
           },
           "bgcolor": "#E5ECF6",
           "caxis": {
            "gridcolor": "white",
            "linecolor": "white",
            "ticks": ""
           }
          },
          "title": {
           "x": 0.05
          },
          "xaxis": {
           "automargin": true,
           "gridcolor": "white",
           "linecolor": "white",
           "ticks": "",
           "title": {
            "standoff": 15
           },
           "zerolinecolor": "white",
           "zerolinewidth": 2
          },
          "yaxis": {
           "automargin": true,
           "gridcolor": "white",
           "linecolor": "white",
           "ticks": "",
           "title": {
            "standoff": 15
           },
           "zerolinecolor": "white",
           "zerolinewidth": 2
          }
         }
        },
        "title": {
         "text": "BTC Price and Volume Trend"
        },
        "xaxis": {
         "anchor": "y",
         "domain": [
          0,
          0.94
         ],
         "title": {
          "text": "Date"
         }
        },
        "yaxis": {
         "anchor": "x",
         "domain": [
          0,
          1
         ],
         "title": {
          "text": "Close Price (USD)"
         }
        },
        "yaxis2": {
         "anchor": "x",
         "overlaying": "y",
         "side": "right",
         "title": {
          "text": "Volume"
         }
        }
       }
      },
      "text/html": [
       "<div>                            <div id=\"2515294c-134e-4735-97c1-7f45e857414e\" class=\"plotly-graph-div\" style=\"height:525px; width:100%;\"></div>            <script type=\"text/javascript\">                require([\"plotly\"], function(Plotly) {                    window.PLOTLYENV=window.PLOTLYENV || {};                                    if (document.getElementById(\"2515294c-134e-4735-97c1-7f45e857414e\")) {                    Plotly.newPlot(                        \"2515294c-134e-4735-97c1-7f45e857414e\",                        [{\"name\":\"Historical Daily Close Price\",\"x\":[\"2023-09-17T00:00:00\",\"2023-09-18T00:00:00\",\"2023-09-19T00:00:00\",\"2023-09-20T00:00:00\",\"2023-09-21T00:00:00\",\"2023-09-22T00:00:00\",\"2023-09-23T00:00:00\",\"2023-09-24T00:00:00\",\"2023-09-25T00:00:00\",\"2023-09-26T00:00:00\",\"2023-09-27T00:00:00\",\"2023-09-28T00:00:00\",\"2023-09-29T00:00:00\",\"2023-09-30T00:00:00\",\"2023-10-01T00:00:00\",\"2023-10-02T00:00:00\",\"2023-10-03T00:00:00\",\"2023-10-04T00:00:00\",\"2023-10-05T00:00:00\",\"2023-10-06T00:00:00\",\"2023-10-07T00:00:00\",\"2023-10-08T00:00:00\",\"2023-10-09T00:00:00\",\"2023-10-10T00:00:00\",\"2023-10-11T00:00:00\",\"2023-10-12T00:00:00\",\"2023-10-13T00:00:00\",\"2023-10-14T00:00:00\",\"2023-10-15T00:00:00\",\"2023-10-16T00:00:00\",\"2023-10-17T00:00:00\",\"2023-10-18T00:00:00\",\"2023-10-19T00:00:00\",\"2023-10-20T00:00:00\",\"2023-10-21T00:00:00\",\"2023-10-22T00:00:00\",\"2023-10-23T00:00:00\",\"2023-10-24T00:00:00\",\"2023-10-25T00:00:00\",\"2023-10-26T00:00:00\",\"2023-10-27T00:00:00\",\"2023-10-28T00:00:00\",\"2023-10-29T00:00:00\",\"2023-10-30T00:00:00\",\"2023-10-31T00:00:00\",\"2023-11-01T00:00:00\",\"2023-11-02T00:00:00\",\"2023-11-03T00:00:00\",\"2023-11-04T00:00:00\",\"2023-11-05T00:00:00\",\"2023-11-06T00:00:00\",\"2023-11-07T00:00:00\",\"2023-11-08T00:00:00\",\"2023-11-09T00:00:00\",\"2023-11-10T00:00:00\",\"2023-11-11T00:00:00\",\"2023-11-12T00:00:00\",\"2023-11-13T00:00:00\",\"2023-11-14T00:00:00\",\"2023-11-15T00:00:00\"],\"y\":[26568.28125,26534.1875,26754.28125,27211.1171875,27132.0078125,26567.6328125,26579.568359375,26579.390625,26256.826171875,26298.48046875,26217.25,26352.716796875,27021.546875,26911.720703125,26967.916015625,27983.75,27530.78515625,27429.978515625,27799.39453125,27415.912109375,27946.59765625,27968.83984375,27935.08984375,27583.677734375,27391.01953125,26873.3203125,26756.798828125,26862.375,26861.70703125,27159.65234375,28519.466796875,28415.748046875,28328.341796875,28719.806640625,29682.94921875,29918.412109375,29993.896484375,33086.234375,33901.52734375,34502.8203125,34156.6484375,33909.80078125,34089.57421875,34538.48046875,34502.36328125,34667.78125,35437.25390625,34938.2421875,34732.32421875,35082.1953125,35049.35546875,35037.37109375,35443.5625,35655.27734375,36693.125,37313.96875,37138.05078125,37054.51953125,36502.35546875,35537.640625],\"type\":\"scatter\",\"xaxis\":\"x\",\"yaxis\":\"y\"},{\"marker\":{\"color\":\"orange\"},\"name\":\"Trading Volume\",\"x\":[\"2023-09-17T00:00:00\",\"2023-09-18T00:00:00\",\"2023-09-19T00:00:00\",\"2023-09-20T00:00:00\",\"2023-09-21T00:00:00\",\"2023-09-22T00:00:00\",\"2023-09-23T00:00:00\",\"2023-09-24T00:00:00\",\"2023-09-25T00:00:00\",\"2023-09-26T00:00:00\",\"2023-09-27T00:00:00\",\"2023-09-28T00:00:00\",\"2023-09-29T00:00:00\",\"2023-09-30T00:00:00\",\"2023-10-01T00:00:00\",\"2023-10-02T00:00:00\",\"2023-10-03T00:00:00\",\"2023-10-04T00:00:00\",\"2023-10-05T00:00:00\",\"2023-10-06T00:00:00\",\"2023-10-07T00:00:00\",\"2023-10-08T00:00:00\",\"2023-10-09T00:00:00\",\"2023-10-10T00:00:00\",\"2023-10-11T00:00:00\",\"2023-10-12T00:00:00\",\"2023-10-13T00:00:00\",\"2023-10-14T00:00:00\",\"2023-10-15T00:00:00\",\"2023-10-16T00:00:00\",\"2023-10-17T00:00:00\",\"2023-10-18T00:00:00\",\"2023-10-19T00:00:00\",\"2023-10-20T00:00:00\",\"2023-10-21T00:00:00\",\"2023-10-22T00:00:00\",\"2023-10-23T00:00:00\",\"2023-10-24T00:00:00\",\"2023-10-25T00:00:00\",\"2023-10-26T00:00:00\",\"2023-10-27T00:00:00\",\"2023-10-28T00:00:00\",\"2023-10-29T00:00:00\",\"2023-10-30T00:00:00\",\"2023-10-31T00:00:00\",\"2023-11-01T00:00:00\",\"2023-11-02T00:00:00\",\"2023-11-03T00:00:00\",\"2023-11-04T00:00:00\",\"2023-11-05T00:00:00\",\"2023-11-06T00:00:00\",\"2023-11-07T00:00:00\",\"2023-11-08T00:00:00\",\"2023-11-09T00:00:00\",\"2023-11-10T00:00:00\",\"2023-11-11T00:00:00\",\"2023-11-12T00:00:00\",\"2023-11-13T00:00:00\",\"2023-11-14T00:00:00\",\"2023-11-15T00:00:00\"],\"y\":[7402031417.0,6774210670.0,15615339655.0,13807690550.0,13281116604.0,13371443708.0,10578746709.0,7404700301.0,8192867686.0,11997833257.0,9985498161.0,11718380997.0,14079002707.0,10396435377.0,5331172801.0,9503917434.0,19793041322.0,11407814187.0,11143355314.0,11877253670.0,13492391599.0,6553044316.0,7916875290.0,12007668568.0,9973350678.0,13648094333.0,9392909295.0,15165312851.0,5388116782.0,7098201980.0,27833876539.0,14872527508.0,12724128586.0,14448058195.0,21536125230.0,11541146996.0,10446520040.0,38363572311.0,44934999645.0,25254318008.0,19427195376.0,16418032871.0,10160330825.0,11160323986.0,17184860315.0,15758270810.0,22446272005.0,20998158544.0,17158456701.0,9561294264.0,12412743996.0,12693436420.0,18834737789.0,17295394918.0,37762672382.0,22711265155.0,13924272142.0,11545715999.0,19057712790.0,23857403554.0],\"type\":\"scatter\",\"xaxis\":\"x\",\"yaxis\":\"y2\"},{\"marker\":{\"color\":\"red\",\"size\":10},\"mode\":\"markers\",\"name\":\"Predicted Next Day Price\",\"x\":[\"2023-11-15T00:00:00\"],\"y\":[[36298.42822171358]],\"type\":\"scatter\",\"xaxis\":\"x\",\"yaxis\":\"y\"}],                        {\"template\":{\"data\":{\"histogram2dcontour\":[{\"type\":\"histogram2dcontour\",\"colorbar\":{\"outlinewidth\":0,\"ticks\":\"\"},\"colorscale\":[[0.0,\"#0d0887\"],[0.1111111111111111,\"#46039f\"],[0.2222222222222222,\"#7201a8\"],[0.3333333333333333,\"#9c179e\"],[0.4444444444444444,\"#bd3786\"],[0.5555555555555556,\"#d8576b\"],[0.6666666666666666,\"#ed7953\"],[0.7777777777777778,\"#fb9f3a\"],[0.8888888888888888,\"#fdca26\"],[1.0,\"#f0f921\"]]}],\"choropleth\":[{\"type\":\"choropleth\",\"colorbar\":{\"outlinewidth\":0,\"ticks\":\"\"}}],\"histogram2d\":[{\"type\":\"histogram2d\",\"colorbar\":{\"outlinewidth\":0,\"ticks\":\"\"},\"colorscale\":[[0.0,\"#0d0887\"],[0.1111111111111111,\"#46039f\"],[0.2222222222222222,\"#7201a8\"],[0.3333333333333333,\"#9c179e\"],[0.4444444444444444,\"#bd3786\"],[0.5555555555555556,\"#d8576b\"],[0.6666666666666666,\"#ed7953\"],[0.7777777777777778,\"#fb9f3a\"],[0.8888888888888888,\"#fdca26\"],[1.0,\"#f0f921\"]]}],\"heatmap\":[{\"type\":\"heatmap\",\"colorbar\":{\"outlinewidth\":0,\"ticks\":\"\"},\"colorscale\":[[0.0,\"#0d0887\"],[0.1111111111111111,\"#46039f\"],[0.2222222222222222,\"#7201a8\"],[0.3333333333333333,\"#9c179e\"],[0.4444444444444444,\"#bd3786\"],[0.5555555555555556,\"#d8576b\"],[0.6666666666666666,\"#ed7953\"],[0.7777777777777778,\"#fb9f3a\"],[0.8888888888888888,\"#fdca26\"],[1.0,\"#f0f921\"]]}],\"heatmapgl\":[{\"type\":\"heatmapgl\",\"colorbar\":{\"outlinewidth\":0,\"ticks\":\"\"},\"colorscale\":[[0.0,\"#0d0887\"],[0.1111111111111111,\"#46039f\"],[0.2222222222222222,\"#7201a8\"],[0.3333333333333333,\"#9c179e\"],[0.4444444444444444,\"#bd3786\"],[0.5555555555555556,\"#d8576b\"],[0.6666666666666666,\"#ed7953\"],[0.7777777777777778,\"#fb9f3a\"],[0.8888888888888888,\"#fdca26\"],[1.0,\"#f0f921\"]]}],\"contourcarpet\":[{\"type\":\"contourcarpet\",\"colorbar\":{\"outlinewidth\":0,\"ticks\":\"\"}}],\"contour\":[{\"type\":\"contour\",\"colorbar\":{\"outlinewidth\":0,\"ticks\":\"\"},\"colorscale\":[[0.0,\"#0d0887\"],[0.1111111111111111,\"#46039f\"],[0.2222222222222222,\"#7201a8\"],[0.3333333333333333,\"#9c179e\"],[0.4444444444444444,\"#bd3786\"],[0.5555555555555556,\"#d8576b\"],[0.6666666666666666,\"#ed7953\"],[0.7777777777777778,\"#fb9f3a\"],[0.8888888888888888,\"#fdca26\"],[1.0,\"#f0f921\"]]}],\"surface\":[{\"type\":\"surface\",\"colorbar\":{\"outlinewidth\":0,\"ticks\":\"\"},\"colorscale\":[[0.0,\"#0d0887\"],[0.1111111111111111,\"#46039f\"],[0.2222222222222222,\"#7201a8\"],[0.3333333333333333,\"#9c179e\"],[0.4444444444444444,\"#bd3786\"],[0.5555555555555556,\"#d8576b\"],[0.6666666666666666,\"#ed7953\"],[0.7777777777777778,\"#fb9f3a\"],[0.8888888888888888,\"#fdca26\"],[1.0,\"#f0f921\"]]}],\"mesh3d\":[{\"type\":\"mesh3d\",\"colorbar\":{\"outlinewidth\":0,\"ticks\":\"\"}}],\"scatter\":[{\"fillpattern\":{\"fillmode\":\"overlay\",\"size\":10,\"solidity\":0.2},\"type\":\"scatter\"}],\"parcoords\":[{\"type\":\"parcoords\",\"line\":{\"colorbar\":{\"outlinewidth\":0,\"ticks\":\"\"}}}],\"scatterpolargl\":[{\"type\":\"scatterpolargl\",\"marker\":{\"colorbar\":{\"outlinewidth\":0,\"ticks\":\"\"}}}],\"bar\":[{\"error_x\":{\"color\":\"#2a3f5f\"},\"error_y\":{\"color\":\"#2a3f5f\"},\"marker\":{\"line\":{\"color\":\"#E5ECF6\",\"width\":0.5},\"pattern\":{\"fillmode\":\"overlay\",\"size\":10,\"solidity\":0.2}},\"type\":\"bar\"}],\"scattergeo\":[{\"type\":\"scattergeo\",\"marker\":{\"colorbar\":{\"outlinewidth\":0,\"ticks\":\"\"}}}],\"scatterpolar\":[{\"type\":\"scatterpolar\",\"marker\":{\"colorbar\":{\"outlinewidth\":0,\"ticks\":\"\"}}}],\"histogram\":[{\"marker\":{\"pattern\":{\"fillmode\":\"overlay\",\"size\":10,\"solidity\":0.2}},\"type\":\"histogram\"}],\"scattergl\":[{\"type\":\"scattergl\",\"marker\":{\"colorbar\":{\"outlinewidth\":0,\"ticks\":\"\"}}}],\"scatter3d\":[{\"type\":\"scatter3d\",\"line\":{\"colorbar\":{\"outlinewidth\":0,\"ticks\":\"\"}},\"marker\":{\"colorbar\":{\"outlinewidth\":0,\"ticks\":\"\"}}}],\"scattermapbox\":[{\"type\":\"scattermapbox\",\"marker\":{\"colorbar\":{\"outlinewidth\":0,\"ticks\":\"\"}}}],\"scatterternary\":[{\"type\":\"scatterternary\",\"marker\":{\"colorbar\":{\"outlinewidth\":0,\"ticks\":\"\"}}}],\"scattercarpet\":[{\"type\":\"scattercarpet\",\"marker\":{\"colorbar\":{\"outlinewidth\":0,\"ticks\":\"\"}}}],\"carpet\":[{\"aaxis\":{\"endlinecolor\":\"#2a3f5f\",\"gridcolor\":\"white\",\"linecolor\":\"white\",\"minorgridcolor\":\"white\",\"startlinecolor\":\"#2a3f5f\"},\"baxis\":{\"endlinecolor\":\"#2a3f5f\",\"gridcolor\":\"white\",\"linecolor\":\"white\",\"minorgridcolor\":\"white\",\"startlinecolor\":\"#2a3f5f\"},\"type\":\"carpet\"}],\"table\":[{\"cells\":{\"fill\":{\"color\":\"#EBF0F8\"},\"line\":{\"color\":\"white\"}},\"header\":{\"fill\":{\"color\":\"#C8D4E3\"},\"line\":{\"color\":\"white\"}},\"type\":\"table\"}],\"barpolar\":[{\"marker\":{\"line\":{\"color\":\"#E5ECF6\",\"width\":0.5},\"pattern\":{\"fillmode\":\"overlay\",\"size\":10,\"solidity\":0.2}},\"type\":\"barpolar\"}],\"pie\":[{\"automargin\":true,\"type\":\"pie\"}]},\"layout\":{\"autotypenumbers\":\"strict\",\"colorway\":[\"#636efa\",\"#EF553B\",\"#00cc96\",\"#ab63fa\",\"#FFA15A\",\"#19d3f3\",\"#FF6692\",\"#B6E880\",\"#FF97FF\",\"#FECB52\"],\"font\":{\"color\":\"#2a3f5f\"},\"hovermode\":\"closest\",\"hoverlabel\":{\"align\":\"left\"},\"paper_bgcolor\":\"white\",\"plot_bgcolor\":\"#E5ECF6\",\"polar\":{\"bgcolor\":\"#E5ECF6\",\"angularaxis\":{\"gridcolor\":\"white\",\"linecolor\":\"white\",\"ticks\":\"\"},\"radialaxis\":{\"gridcolor\":\"white\",\"linecolor\":\"white\",\"ticks\":\"\"}},\"ternary\":{\"bgcolor\":\"#E5ECF6\",\"aaxis\":{\"gridcolor\":\"white\",\"linecolor\":\"white\",\"ticks\":\"\"},\"baxis\":{\"gridcolor\":\"white\",\"linecolor\":\"white\",\"ticks\":\"\"},\"caxis\":{\"gridcolor\":\"white\",\"linecolor\":\"white\",\"ticks\":\"\"}},\"coloraxis\":{\"colorbar\":{\"outlinewidth\":0,\"ticks\":\"\"}},\"colorscale\":{\"sequential\":[[0.0,\"#0d0887\"],[0.1111111111111111,\"#46039f\"],[0.2222222222222222,\"#7201a8\"],[0.3333333333333333,\"#9c179e\"],[0.4444444444444444,\"#bd3786\"],[0.5555555555555556,\"#d8576b\"],[0.6666666666666666,\"#ed7953\"],[0.7777777777777778,\"#fb9f3a\"],[0.8888888888888888,\"#fdca26\"],[1.0,\"#f0f921\"]],\"sequentialminus\":[[0.0,\"#0d0887\"],[0.1111111111111111,\"#46039f\"],[0.2222222222222222,\"#7201a8\"],[0.3333333333333333,\"#9c179e\"],[0.4444444444444444,\"#bd3786\"],[0.5555555555555556,\"#d8576b\"],[0.6666666666666666,\"#ed7953\"],[0.7777777777777778,\"#fb9f3a\"],[0.8888888888888888,\"#fdca26\"],[1.0,\"#f0f921\"]],\"diverging\":[[0,\"#8e0152\"],[0.1,\"#c51b7d\"],[0.2,\"#de77ae\"],[0.3,\"#f1b6da\"],[0.4,\"#fde0ef\"],[0.5,\"#f7f7f7\"],[0.6,\"#e6f5d0\"],[0.7,\"#b8e186\"],[0.8,\"#7fbc41\"],[0.9,\"#4d9221\"],[1,\"#276419\"]]},\"xaxis\":{\"gridcolor\":\"white\",\"linecolor\":\"white\",\"ticks\":\"\",\"title\":{\"standoff\":15},\"zerolinecolor\":\"white\",\"automargin\":true,\"zerolinewidth\":2},\"yaxis\":{\"gridcolor\":\"white\",\"linecolor\":\"white\",\"ticks\":\"\",\"title\":{\"standoff\":15},\"zerolinecolor\":\"white\",\"automargin\":true,\"zerolinewidth\":2},\"scene\":{\"xaxis\":{\"backgroundcolor\":\"#E5ECF6\",\"gridcolor\":\"white\",\"linecolor\":\"white\",\"showbackground\":true,\"ticks\":\"\",\"zerolinecolor\":\"white\",\"gridwidth\":2},\"yaxis\":{\"backgroundcolor\":\"#E5ECF6\",\"gridcolor\":\"white\",\"linecolor\":\"white\",\"showbackground\":true,\"ticks\":\"\",\"zerolinecolor\":\"white\",\"gridwidth\":2},\"zaxis\":{\"backgroundcolor\":\"#E5ECF6\",\"gridcolor\":\"white\",\"linecolor\":\"white\",\"showbackground\":true,\"ticks\":\"\",\"zerolinecolor\":\"white\",\"gridwidth\":2}},\"shapedefaults\":{\"line\":{\"color\":\"#2a3f5f\"}},\"annotationdefaults\":{\"arrowcolor\":\"#2a3f5f\",\"arrowhead\":0,\"arrowwidth\":1},\"geo\":{\"bgcolor\":\"white\",\"landcolor\":\"#E5ECF6\",\"subunitcolor\":\"white\",\"showland\":true,\"showlakes\":true,\"lakecolor\":\"white\"},\"title\":{\"x\":0.05},\"mapbox\":{\"style\":\"light\"}}},\"xaxis\":{\"anchor\":\"y\",\"domain\":[0.0,0.94],\"title\":{\"text\":\"Date\"}},\"yaxis\":{\"anchor\":\"x\",\"domain\":[0.0,1.0],\"title\":{\"text\":\"Close Price (USD)\"}},\"yaxis2\":{\"anchor\":\"x\",\"overlaying\":\"y\",\"side\":\"right\",\"title\":{\"text\":\"Volume\"}},\"title\":{\"text\":\"BTC Price and Volume Trend\"}},                        {\"responsive\": true}                    ).then(function(){\n",
       "                            \n",
       "var gd = document.getElementById('2515294c-134e-4735-97c1-7f45e857414e');\n",
       "var x = new MutationObserver(function (mutations, observer) {{\n",
       "        var display = window.getComputedStyle(gd).display;\n",
       "        if (!display || display === 'none') {{\n",
       "            console.log([gd, 'removed!']);\n",
       "            Plotly.purge(gd);\n",
       "            observer.disconnect();\n",
       "        }}\n",
       "}});\n",
       "\n",
       "// Listen for the removal of the full notebook cells\n",
       "var notebookContainer = gd.closest('#notebook-container');\n",
       "if (notebookContainer) {{\n",
       "    x.observe(notebookContainer, {childList: true});\n",
       "}}\n",
       "\n",
       "// Listen for the clearing of the current output cell\n",
       "var outputEl = gd.closest('.output');\n",
       "if (outputEl) {{\n",
       "    x.observe(outputEl, {childList: true});\n",
       "}}\n",
       "\n",
       "                        })                };                });            </script>        </div>"
      ]
     },
     "metadata": {},
     "output_type": "display_data"
    }
   ],
   "source": [
    "# Convert next_day to a format that matches your data index\n",
    "next_day_formatted = pd.to_datetime(next_day)\n",
    "\n",
    "# Ensure data index is in datetime format for proper plotting\n",
    "data.index = pd.to_datetime(data.index)\n",
    "\n",
    "fig = make_subplots(specs=[[{\"secondary_y\": True}]])\n",
    "\n",
    "# Historical data traces\n",
    "fig.add_trace(go.Scatter(x=data.index[-time_step:], y=data['Close'].dropna()[-time_step:], name='Historical Daily Close Price'), secondary_y=False)\n",
    "fig.add_trace(go.Scatter(x=data.index[-time_step:], y=data['Volume'].dropna()[-time_step:], name='Trading Volume', marker=dict(color='orange')), secondary_y=True)\n",
    "\n",
    "# Prediction trace\n",
    "# Check if next_day_formatted is within the range of your data index\n",
    "if next_day_formatted in data.index:\n",
    "    fig.add_trace(go.Scatter(x=[next_day_formatted], y=[predicted_close_price], mode='markers', name='Predicted Next Day Price', marker=dict(color='red', size=10)), secondary_y=False)\n",
    "else:\n",
    "    print(\"Next day date is out of range\")\n",
    "\n",
    "# Figure layout settings\n",
    "fig.update_layout(title_text=\"BTC Price and Volume Trend\")\n",
    "fig.update_xaxes(title_text=\"Date\")\n",
    "fig.update_yaxes(title_text=\"Close Price (USD)\", secondary_y=False)\n",
    "fig.update_yaxes(title_text=\"Volume\", secondary_y=True)\n",
    "\n",
    "fig.show()"
   ]
  },
  {
   "cell_type": "code",
   "execution_count": 15,
   "id": "21ae8a14",
   "metadata": {},
   "outputs": [
    {
     "data": {
      "image/png": "[encoded data removed]",
      "text/plain": [
       "<Figure size 1000x600 with 1 Axes>"
      ]
     },
     "metadata": {},
     "output_type": "display_data"
    }
   ],
   "source": [
    "# EDA: Volatility Analysis\n",
    "data['Close'].dropna().rolling(window=30).std().plot(figsize=(10, 6), title='Bitcoin 30-Day Rolling Volatility')  # Drop NaN values\n",
    "plt.xlabel('Date')\n",
    "plt.ylabel('Standard Deviation of Close Prices')\n",
    "plt.show()"
   ]
  },
  {
   "cell_type": "code",
   "execution_count": 16,
   "id": "222f7800",
   "metadata": {},
   "outputs": [
    {
     "name": "stdout",
     "output_type": "stream",
     "text": [
      "Median (50th percentile): 22722096615.0\n",
      "First quartile (25th percentile): 15152659888.0\n",
      "Third quartile (75th percentile): 30706097734.5\n",
      "Interquartile Range (IQR): 15553437846.5\n",
      "Lower Whisker: -8177496881.75\n",
      "Upper Whisker: 54036254504.25\n",
      "Outliers:\n",
      "Date\n",
      "2022-01-07    8.419661e+10\n",
      "2022-05-09    6.335549e+10\n",
      "2022-05-10    5.981104e+10\n",
      "2022-05-11    7.038886e+10\n",
      "2022-05-12    6.698917e+10\n",
      "2022-06-13    6.820456e+10\n",
      "2022-06-15    5.491201e+10\n",
      "2022-09-27    5.857144e+10\n",
      "2022-10-26    5.889595e+10\n",
      "2022-11-02    5.555217e+10\n",
      "2022-11-04    6.407273e+10\n",
      "2022-11-08    1.189925e+11\n",
      "2022-11-09    1.029052e+11\n",
      "2022-11-10    8.320228e+10\n",
      "2022-11-11    5.587162e+10\n",
      "2023-03-14    5.462223e+10\n",
      "Name: Volume, dtype: float64\n"
     ]
    },
    {
     "data": {
      "image/png": "[encoded data removed]",
      "text/plain": [
       "<Figure size 1000x600 with 1 Axes>"
      ]
     },
     "metadata": {},
     "output_type": "display_data"
    }
   ],
   "source": [
    "quartiles = data['Volume'].quantile([0.25, 0.5, 0.75])\n",
    "iqr = quartiles[0.75] - quartiles[0.25]\n",
    "lower_whisker = quartiles[0.25] - 1.5 * iqr\n",
    "upper_whisker = quartiles[0.75] + 1.5 * iqr\n",
    "\n",
    "print(f\"Median (50th percentile): {quartiles[0.5]}\")\n",
    "print(f\"First quartile (25th percentile): {quartiles[0.25]}\")\n",
    "print(f\"Third quartile (75th percentile): {quartiles[0.75]}\")\n",
    "print(f\"Interquartile Range (IQR): {iqr}\")\n",
    "print(f\"Lower Whisker: {lower_whisker}\")\n",
    "print(f\"Upper Whisker: {upper_whisker}\")\n",
    "\n",
    "# Detecting outliers\n",
    "outliers = data['Volume'][(data['Volume'] < lower_whisker) | (data['Volume'] > upper_whisker)]\n",
    "print(f\"Outliers:\\n{outliers}\")\n",
    "\n",
    "# Assuming data['Volume'] is already in a proper numeric format\n",
    "plt.figure(figsize=(10, 6))\n",
    "sns.boxplot(x=data['Volume'])\n",
    "plt.title('Box Plot of Bitcoin Trading Volume')\n",
    "plt.xlabel('Volume')\n",
    "plt.show()"
   ]
  },
  {
   "cell_type": "code",
   "execution_count": 17,
   "id": "70d13b8f",
   "metadata": {},
   "outputs": [],
   "source": [
    "# # EDA: Time Series Decomposition Plots\n",
    "# decomposition = seasonal_decompose(data['Close'].dropna(), model='additive', period=30)  # Drop NaN values\n",
    "# fig = decomposition.plot()\n",
    "# fig.set_size_inches(10, 8)\n",
    "# fig.suptitle('Time Series Decomposition of Bitcoin Closing Price')\n",
    "# plt.show()"
   ]
  },
  {
   "cell_type": "code",
   "execution_count": 18,
   "id": "b1947e44",
   "metadata": {},
   "outputs": [
    {
     "data": {
      "image/png": "[encoded data removed]",
      "text/plain": [
       "<Figure size 1000x800 with 2 Axes>"
      ]
     },
     "metadata": {},
     "output_type": "display_data"
    }
   ],
   "source": [
    "# EDA: Correlation Heatmaps\n",
    "plt.figure(figsize=(10, 8))\n",
    "sns.heatmap(data.dropna().corr(), annot=True, cmap='coolwarm', fmt=\".2f\")  # Drop NaN values\n",
    "plt.title('Correlation Heatmap')\n",
    "plt.show()\n"
   ]
  },
  {
   "cell_type": "code",
   "execution_count": 19,
   "id": "3f654a46",
   "metadata": {},
   "outputs": [],
   "source": [
    "# Model Selection and Development\n",
    "from sklearn.linear_model import LinearRegression\n",
    "from sklearn.ensemble import RandomForestRegressor\n",
    "from sklearn.neural_network import MLPRegressor\n",
    "from sklearn.model_selection import train_test_split, TimeSeriesSplit, GridSearchCV\n",
    "from sklearn.metrics import mean_squared_error, mean_absolute_error, r2_score"
   ]
  },
  {
   "cell_type": "code",
   "execution_count": 20,
   "id": "b40f0c82",
   "metadata": {},
   "outputs": [],
   "source": [
    "# Preparing data for additional models\n",
    "X = scaled_data[:, :-1]  # All features except the target\n",
    "y = scaled_data[:, 3]   # 'Close' price as the target"
   ]
  },
  {
   "cell_type": "code",
   "execution_count": 21,
   "id": "d683375a",
   "metadata": {},
   "outputs": [],
   "source": [
    "# Train-Test Split\n",
    "X_train, X_test, y_train, y_test = train_test_split(X, y, test_size=0.2, shuffle=False)\n"
   ]
  },
  {
   "cell_type": "code",
   "execution_count": 22,
   "id": "78be4514",
   "metadata": {},
   "outputs": [],
   "source": [
    "# Linear Regression\n",
    "lr_model = LinearRegression()\n",
    "lr_model.fit(X_train, y_train)\n",
    "lr_predictions = lr_model.predict(X_test)\n"
   ]
  },
  {
   "cell_type": "code",
   "execution_count": 23,
   "id": "97a95b75",
   "metadata": {},
   "outputs": [],
   "source": [
    "# Random Forest\n",
    "rf_model = RandomForestRegressor()\n",
    "rf_model.fit(X_train, y_train)\n",
    "rf_predictions = rf_model.predict(X_test)\n"
   ]
  },
  {
   "cell_type": "code",
   "execution_count": 24,
   "id": "fea20951",
   "metadata": {},
   "outputs": [],
   "source": [
    "# Neural Network\n",
    "nn_model = MLPRegressor(hidden_layer_sizes=(50, 50), max_iter=500)\n",
    "nn_model.fit(X_train, y_train)\n",
    "nn_predictions = nn_model.predict(X_test)"
   ]
  },
  {
   "cell_type": "code",
   "execution_count": 25,
   "id": "a04b9923",
   "metadata": {},
   "outputs": [
    {
     "name": "stdout",
     "output_type": "stream",
     "text": [
      "Linear Regression MSE: 1.5632365679989826e-32\n",
      "Random Forest MSE: 4.3142181537693265e-05\n",
      "Neural Network MSE: 6.322479456224125e-05\n"
     ]
    }
   ],
   "source": [
    "# Model Evaluation\n",
    "print(\"Linear Regression MSE:\", mean_squared_error(y_test, lr_predictions))\n",
    "print(\"Random Forest MSE:\", mean_squared_error(y_test, rf_predictions))\n",
    "print(\"Neural Network MSE:\", mean_squared_error(y_test, nn_predictions))"
   ]
  },
  {
   "cell_type": "code",
   "execution_count": 26,
   "id": "edd3d84f",
   "metadata": {},
   "outputs": [
    {
     "name": "stderr",
     "output_type": "stream",
     "text": [
      "C:\\Users\\64724\\anaconda3\\envs\\dev\\lib\\site-packages\\sklearn\\ensemble\\_forest.py:413: FutureWarning: `max_features='auto'` has been deprecated in 1.1 and will be removed in 1.3. To keep the past behaviour, explicitly set `max_features=1.0` or remove this parameter as it is also the default value for RandomForestRegressors and ExtraTreesRegressors.\n",
      "  warn(\n"
     ]
    },
    {
     "name": "stdout",
     "output_type": "stream",
     "text": [
      "Best Parameters for Random Forest: {'max_depth': 10, 'max_features': 'auto', 'n_estimators': 100}\n"
     ]
    }
   ],
   "source": [
    "# Model Evaluation and Refinement: Cross-Validation, Hyperparameter Tuning (Example for Random Forest)\n",
    "tscv = TimeSeriesSplit(n_splits=5)\n",
    "param_grid = {'n_estimators': [100, 200], 'max_features': ['auto', 'sqrt'], 'max_depth': [10, 20]}\n",
    "grid_search = GridSearchCV(estimator=rf_model, param_grid=param_grid, cv=tscv, n_jobs=-1)\n",
    "grid_search.fit(X_train, y_train)\n",
    "print(\"Best Parameters for Random Forest:\", grid_search.best_params_)"
   ]
  },
  {
   "cell_type": "code",
   "execution_count": 27,
   "id": "f4c067e6",
   "metadata": {},
   "outputs": [],
   "source": [
    "# Calculate the 10-day Simple Moving Average\n",
    "data['SMA_10'] = data['Close'].rolling(window=10).mean()\n"
   ]
  },
  {
   "cell_type": "code",
   "execution_count": 28,
   "id": "cbeb3828",
   "metadata": {},
   "outputs": [
    {
     "name": "stderr",
     "output_type": "stream",
     "text": [
      "C:\\Users\\64724\\AppData\\Local\\Temp\\ipykernel_27560\\2789256201.py:3: SettingWithCopyWarning: \n",
      "A value is trying to be set on a copy of a slice from a DataFrame\n",
      "\n",
      "See the caveats in the documentation: https://pandas.pydata.org/pandas-docs/stable/user_guide/indexing.html#returning-a-view-versus-a-copy\n",
      "  data['strategy_signal'][data['Close'] > data['SMA_10']] = 1  # Buy signal\n",
      "C:\\Users\\64724\\AppData\\Local\\Temp\\ipykernel_27560\\2789256201.py:4: SettingWithCopyWarning: \n",
      "A value is trying to be set on a copy of a slice from a DataFrame\n",
      "\n",
      "See the caveats in the documentation: https://pandas.pydata.org/pandas-docs/stable/user_guide/indexing.html#returning-a-view-versus-a-copy\n",
      "  data['strategy_signal'][data['Close'] < data['SMA_10']] = -1  # Sell signal\n"
     ]
    }
   ],
   "source": [
    "# Define trading signals\n",
    "data['strategy_signal'] = 0  # Default to no position\n",
    "data['strategy_signal'][data['Close'] > data['SMA_10']] = 1  # Buy signal\n",
    "data['strategy_signal'][data['Close'] < data['SMA_10']] = -1  # Sell signal\n"
   ]
  },
  {
   "cell_type": "code",
   "execution_count": 29,
   "id": "273a1d5b",
   "metadata": {},
   "outputs": [],
   "source": [
    "# Calculate daily returns\n",
    "data['strategy_return'] = data['strategy_signal'].shift(1) * data['Close'].pct_change()"
   ]
  },
  {
   "cell_type": "code",
   "execution_count": 30,
   "id": "93930765",
   "metadata": {},
   "outputs": [],
   "source": [
    "# Calculate cumulative returns\n",
    "data['cumulative_strategy_return'] = (1 + data['strategy_return']).cumprod()\n",
    "data['cumulative_market_return'] = (1 + data['Close'].pct_change()).cumprod()"
   ]
  },
  {
   "cell_type": "code",
   "execution_count": 31,
   "id": "76608aec",
   "metadata": {},
   "outputs": [],
   "source": [
    "# plt.figure(figsize=(12, 6))\n",
    "\n",
    "# # Plotting the market and strategy cumulative returns\n",
    "# plt.plot(data['cumulative_market_return'], label='Market Returns (Buy and Hold)')\n",
    "# plt.plot(data['cumulative_strategy_return'], label='Strategy Returns')\n",
    "\n",
    "# # Setting up a secondary y-axis for SMA\n",
    "# ax2 = plt.gca().twinx()\n",
    "# ax2.plot(data['Close'], color='lightgray', linestyle='--', label='Close Price')\n",
    "# ax2.plot(data['SMA_10'], color='orange', linestyle='-', label='SMA 10')\n",
    "# ax2.set_ylabel('Close Price and SMA 10')\n",
    "\n",
    "# # Marking trade points\n",
    "# # Buy signals: Close < SMA_10, Sell signals: Close > SMA_10\n",
    "# buy_signals = data['Close'] > data['SMA_10']\n",
    "# sell_signals = data['Close'] < data['SMA_10']\n",
    "\n",
    "# ax2.plot(data[buy_signals].index, data['Close'][buy_signals], 'g^', label='Buy Signal', markersize=8)  # Green triangles for buy\n",
    "# ax2.plot(data[sell_signals].index, data['Close'][sell_signals], 'rv', label='Sell Signal', markersize=8)  # Red triangles for sell\n",
    "\n",
    "# # Adding legends\n",
    "# lines, labels = plt.gca().get_legend_handles_labels()\n",
    "# lines2, labels2 = ax2.get_legend_handles_labels()\n",
    "# ax2.legend(lines + lines2, labels + labels2, loc='upper left')\n",
    "\n",
    "# # Setting titles and labels\n",
    "# plt.title('Backtesting Trading Strategy with SMA')\n",
    "# plt.xlabel('Date')\n",
    "# plt.ylabel('Cumulative Returns')\n",
    "\n",
    "# plt.show()\n"
   ]
  },
  {
   "cell_type": "code",
   "execution_count": 32,
   "id": "1aa1f19a",
   "metadata": {},
   "outputs": [],
   "source": [
    "# # Performance Metrics\n",
    "# total_strategy_return = data['cumulative_strategy_return'].iloc[-1] - 1\n",
    "# total_market_return = data['cumulative_market_return'].iloc[-1] - 1\n",
    "# print(f\"Total Strategy Return: {total_strategy_return:.2f}\") \n",
    "# print(f\"Total Market Return: {total_market_return:.2f}\")\n"
   ]
  },
  {
   "cell_type": "code",
   "execution_count": null,
   "id": "5078a1b0",
   "metadata": {},
   "outputs": [],
   "source": []
  },
  {
   "cell_type": "code",
   "execution_count": null,
   "id": "441c7cc2",
   "metadata": {},
   "outputs": [],
   "source": []
  },
  {
   "cell_type": "code",
   "execution_count": null,
   "id": "6e1d0203",
   "metadata": {},
   "outputs": [],
   "source": []
  },
  {
   "cell_type": "code",
   "execution_count": null,
   "id": "fe912c5c",
   "metadata": {},
   "outputs": [],
   "source": []
  },
  {
   "cell_type": "code",
   "execution_count": null,
   "id": "539e9857",
   "metadata": {},
   "outputs": [],
   "source": []
  }
 ],
 "metadata": {
  "kernelspec": {
   "display_name": "Python 3 (ipykernel)",
   "language": "python",
   "name": "python3"
  },
  "language_info": {
   "codemirror_mode": {
    "name": "ipython",
    "version": 3
   },
   "file_extension": ".py",
   "mimetype": "text/x-python",
   "name": "python",
   "nbconvert_exporter": "python",
   "pygments_lexer": "ipython3",
   "version": "3.10.11"
  }
 },
 "nbformat": 4,
 "nbformat_minor": 5
}
