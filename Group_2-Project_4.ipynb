{
 "cells": [
  {
   "cell_type": "code",
   "execution_count": 1,
   "id": "be674c32",
   "metadata": {},
   "outputs": [],
   "source": [
    "import numpy as np\n",
    "import pandas as pd\n",
    "import matplotlib.pyplot as plt\n",
    "import plotly.graph_objects as go\n",
    "from plotly.subplots import make_subplots\n",
    "from plotly import express as px_colors\n",
    "import seaborn as sns\n",
    "import yfinance as yf\n",
    "import ta  # Technical Analysis library for financial indicators\n",
    "from sklearn.preprocessing import MinMaxScaler\n",
    "from sklearn.model_selection import train_test_split\n",
    "from sklearn.metrics import mean_squared_error, mean_absolute_error, r2_score\n",
    "from tensorflow.keras.models import Sequential\n",
    "from tensorflow.keras.layers import LSTM, Dense, Dropout\n",
    "from tensorflow.keras.callbacks import EarlyStopping, ReduceLROnPlateau\n",
    "from tensorflow.keras.regularizers import l2\n",
    "import plotly.express as px"
   ]
  },
  {
   "cell_type": "code",
   "execution_count": 2,
   "id": "bea9e77e",
   "metadata": {},
   "outputs": [
    {
     "name": "stdout",
     "output_type": "stream",
     "text": [
      "[*********************100%***********************]  1 of 1 completed\n"
     ]
    }
   ],
   "source": [
    "# Data Collection\n",
    "data = yf.download('BTC-USD', start='2022-01-01', end='2023-11-15')\n",
    "data = data[['Open', 'High', 'Low', 'Close', 'Volume']]  # Using multiple features\n"
   ]
  },
  {
   "cell_type": "code",
   "execution_count": 3,
   "id": "b9a15ed6",
   "metadata": {},
   "outputs": [],
   "source": [
    "# Save the DataFrame to a CSV file\n",
    "data.to_csv('bitcoin_trading_data.csv', index=True)"
   ]
  },
  {
   "cell_type": "code",
   "execution_count": 4,
   "id": "b9625507",
   "metadata": {},
   "outputs": [],
   "source": [
    "# Read the DataFrame from the CSV file\n",
    "data = pd.read_csv('bitcoin_trading_data.csv', index_col=0)"
   ]
  },
  {
   "cell_type": "code",
   "execution_count": 5,
   "id": "d3ab7daf",
   "metadata": {},
   "outputs": [],
   "source": [
    "# Preprocessing\n",
    "scaler = MinMaxScaler(feature_range=(0, 1))\n",
    "scaled_data = scaler.fit_transform(data)"
   ]
  },
  {
   "cell_type": "code",
   "execution_count": 6,
   "id": "f8dfdefa",
   "metadata": {},
   "outputs": [],
   "source": [
    "def create_dataset(dataset, time_step=1):\n",
    "    X, Y = [], []\n",
    "    for i in range(len(dataset) - time_step - 1):\n",
    "        X.append(dataset[i:(i + time_step), :])\n",
    "        Y.append(dataset[i + time_step, 3])  # Target is still the 'Close' price\n",
    "    return np.array(X), np.array(Y)\n",
    "\n",
    "time_step = 60\n",
    "X, y = create_dataset(scaled_data, time_step)\n",
    "X_train, X_test, y_train, y_test = train_test_split(X, y, test_size=0.2, random_state=42)\n",
    "\n",
    "\n"
   ]
  },
  {
   "cell_type": "code",
   "execution_count": 7,
   "id": "63826e55",
   "metadata": {},
   "outputs": [],
   "source": [
    "# LSTM Model\n",
    "model = Sequential()\n",
    "model.add(LSTM(100, return_sequences=True, input_shape=(time_step, X_train.shape[2])))\n",
    "model.add(Dropout(0.2))\n",
    "model.add(LSTM(100, return_sequences=False))\n",
    "model.add(Dropout(0.2))\n",
    "model.add(Dense(1))\n"
   ]
  },
  {
   "cell_type": "code",
   "execution_count": 8,
   "id": "b0709975",
   "metadata": {},
   "outputs": [],
   "source": [
    "# Compile the model\n",
    "model.compile(optimizer='adam', loss='mean_squared_error')"
   ]
  },
  {
   "cell_type": "code",
   "execution_count": 9,
   "id": "e2a972c7",
   "metadata": {
    "scrolled": false
   },
   "outputs": [
    {
     "name": "stdout",
     "output_type": "stream",
     "text": [
      "Epoch 1/200\n",
      "14/14 [==============================] - 5s 120ms/step - loss: 0.0287 - val_loss: 0.0066 - lr: 0.0010\n",
      "Epoch 2/200\n",
      "14/14 [==============================] - 1s 66ms/step - loss: 0.0059 - val_loss: 0.0043 - lr: 0.0010\n",
      "Epoch 3/200\n",
      "14/14 [==============================] - 1s 64ms/step - loss: 0.0041 - val_loss: 0.0041 - lr: 0.0010\n",
      "Epoch 4/200\n",
      "14/14 [==============================] - 1s 64ms/step - loss: 0.0041 - val_loss: 0.0037 - lr: 0.0010\n",
      "Epoch 5/200\n",
      "14/14 [==============================] - 1s 67ms/step - loss: 0.0039 - val_loss: 0.0032 - lr: 0.0010\n",
      "Epoch 6/200\n",
      "14/14 [==============================] - 1s 62ms/step - loss: 0.0033 - val_loss: 0.0031 - lr: 0.0010\n",
      "Epoch 7/200\n",
      "14/14 [==============================] - 1s 59ms/step - loss: 0.0033 - val_loss: 0.0029 - lr: 0.0010\n",
      "Epoch 8/200\n",
      "14/14 [==============================] - 1s 64ms/step - loss: 0.0033 - val_loss: 0.0027 - lr: 0.0010\n",
      "Epoch 9/200\n",
      "14/14 [==============================] - 1s 59ms/step - loss: 0.0033 - val_loss: 0.0028 - lr: 0.0010\n",
      "Epoch 10/200\n",
      "14/14 [==============================] - 1s 67ms/step - loss: 0.0034 - val_loss: 0.0027 - lr: 0.0010\n",
      "Epoch 11/200\n",
      "14/14 [==============================] - 1s 63ms/step - loss: 0.0034 - val_loss: 0.0025 - lr: 0.0010\n",
      "Epoch 12/200\n",
      "14/14 [==============================] - 1s 63ms/step - loss: 0.0036 - val_loss: 0.0034 - lr: 0.0010\n",
      "Epoch 13/200\n",
      "14/14 [==============================] - 1s 65ms/step - loss: 0.0035 - val_loss: 0.0026 - lr: 0.0010\n",
      "Epoch 14/200\n",
      "14/14 [==============================] - 1s 68ms/step - loss: 0.0028 - val_loss: 0.0032 - lr: 0.0010\n",
      "Epoch 15/200\n",
      "14/14 [==============================] - 1s 65ms/step - loss: 0.0030 - val_loss: 0.0024 - lr: 0.0010\n",
      "Epoch 16/200\n",
      "14/14 [==============================] - 1s 64ms/step - loss: 0.0027 - val_loss: 0.0023 - lr: 0.0010\n",
      "Epoch 17/200\n",
      "14/14 [==============================] - 1s 65ms/step - loss: 0.0029 - val_loss: 0.0020 - lr: 0.0010\n",
      "Epoch 18/200\n",
      "14/14 [==============================] - 1s 61ms/step - loss: 0.0026 - val_loss: 0.0022 - lr: 0.0010\n",
      "Epoch 19/200\n",
      "14/14 [==============================] - 1s 63ms/step - loss: 0.0027 - val_loss: 0.0022 - lr: 0.0010\n",
      "Epoch 20/200\n",
      "14/14 [==============================] - 1s 62ms/step - loss: 0.0026 - val_loss: 0.0019 - lr: 0.0010\n",
      "Epoch 21/200\n",
      "14/14 [==============================] - 1s 64ms/step - loss: 0.0024 - val_loss: 0.0019 - lr: 0.0010\n",
      "Epoch 22/200\n",
      "14/14 [==============================] - 1s 63ms/step - loss: 0.0024 - val_loss: 0.0019 - lr: 0.0010\n",
      "Epoch 23/200\n",
      "14/14 [==============================] - 1s 65ms/step - loss: 0.0024 - val_loss: 0.0019 - lr: 0.0010\n",
      "Epoch 24/200\n",
      "14/14 [==============================] - 1s 61ms/step - loss: 0.0023 - val_loss: 0.0026 - lr: 0.0010\n",
      "Epoch 25/200\n",
      "14/14 [==============================] - 1s 62ms/step - loss: 0.0023 - val_loss: 0.0018 - lr: 0.0010\n",
      "Epoch 26/200\n",
      "14/14 [==============================] - 1s 66ms/step - loss: 0.0026 - val_loss: 0.0017 - lr: 0.0010\n",
      "Epoch 27/200\n",
      "14/14 [==============================] - 1s 63ms/step - loss: 0.0024 - val_loss: 0.0017 - lr: 0.0010\n",
      "Epoch 28/200\n",
      "14/14 [==============================] - 1s 66ms/step - loss: 0.0023 - val_loss: 0.0016 - lr: 0.0010\n",
      "Epoch 29/200\n",
      "14/14 [==============================] - 1s 72ms/step - loss: 0.0028 - val_loss: 0.0020 - lr: 0.0010\n",
      "Epoch 30/200\n",
      "14/14 [==============================] - 1s 68ms/step - loss: 0.0022 - val_loss: 0.0016 - lr: 0.0010\n",
      "Epoch 31/200\n",
      "14/14 [==============================] - 1s 67ms/step - loss: 0.0025 - val_loss: 0.0018 - lr: 0.0010\n",
      "Epoch 32/200\n",
      "14/14 [==============================] - 1s 67ms/step - loss: 0.0025 - val_loss: 0.0016 - lr: 0.0010\n",
      "Epoch 33/200\n",
      "14/14 [==============================] - 1s 64ms/step - loss: 0.0023 - val_loss: 0.0018 - lr: 0.0010\n",
      "Epoch 34/200\n",
      "14/14 [==============================] - 1s 66ms/step - loss: 0.0026 - val_loss: 0.0020 - lr: 0.0010\n",
      "Epoch 35/200\n",
      "14/14 [==============================] - 1s 68ms/step - loss: 0.0021 - val_loss: 0.0019 - lr: 0.0010\n",
      "Epoch 36/200\n",
      "14/14 [==============================] - 1s 66ms/step - loss: 0.0022 - val_loss: 0.0015 - lr: 0.0010\n",
      "Epoch 37/200\n",
      "14/14 [==============================] - 1s 66ms/step - loss: 0.0020 - val_loss: 0.0015 - lr: 0.0010\n",
      "Epoch 38/200\n",
      "14/14 [==============================] - 1s 62ms/step - loss: 0.0019 - val_loss: 0.0016 - lr: 0.0010\n",
      "Epoch 39/200\n",
      "14/14 [==============================] - 1s 68ms/step - loss: 0.0023 - val_loss: 0.0023 - lr: 0.0010\n",
      "Epoch 40/200\n",
      "14/14 [==============================] - 1s 69ms/step - loss: 0.0027 - val_loss: 0.0022 - lr: 0.0010\n",
      "Epoch 41/200\n",
      "14/14 [==============================] - 1s 69ms/step - loss: 0.0024 - val_loss: 0.0015 - lr: 0.0010\n",
      "Epoch 42/200\n",
      "14/14 [==============================] - 1s 64ms/step - loss: 0.0027 - val_loss: 0.0025 - lr: 0.0010\n",
      "Epoch 43/200\n",
      "14/14 [==============================] - 1s 68ms/step - loss: 0.0026 - val_loss: 0.0013 - lr: 0.0010\n",
      "Epoch 44/200\n",
      "14/14 [==============================] - 1s 65ms/step - loss: 0.0017 - val_loss: 0.0014 - lr: 0.0010\n",
      "Epoch 45/200\n",
      "14/14 [==============================] - 1s 67ms/step - loss: 0.0019 - val_loss: 0.0014 - lr: 0.0010\n",
      "Epoch 46/200\n",
      "14/14 [==============================] - 1s 68ms/step - loss: 0.0018 - val_loss: 0.0014 - lr: 0.0010\n",
      "Epoch 47/200\n",
      "14/14 [==============================] - 1s 68ms/step - loss: 0.0018 - val_loss: 0.0014 - lr: 0.0010\n",
      "Epoch 48/200\n",
      "14/14 [==============================] - 1s 65ms/step - loss: 0.0016 - val_loss: 0.0013 - lr: 0.0010\n",
      "Epoch 49/200\n",
      "14/14 [==============================] - 1s 65ms/step - loss: 0.0020 - val_loss: 0.0014 - lr: 0.0010\n",
      "Epoch 50/200\n",
      "14/14 [==============================] - 1s 67ms/step - loss: 0.0024 - val_loss: 0.0012 - lr: 0.0010\n",
      "Epoch 51/200\n",
      "14/14 [==============================] - 1s 65ms/step - loss: 0.0022 - val_loss: 0.0015 - lr: 0.0010\n",
      "Epoch 52/200\n",
      "14/14 [==============================] - 1s 67ms/step - loss: 0.0021 - val_loss: 0.0013 - lr: 0.0010\n",
      "Epoch 53/200\n",
      "14/14 [==============================] - 1s 63ms/step - loss: 0.0017 - val_loss: 0.0013 - lr: 0.0010\n",
      "Epoch 54/200\n",
      "14/14 [==============================] - 1s 66ms/step - loss: 0.0017 - val_loss: 0.0013 - lr: 0.0010\n",
      "Epoch 55/200\n",
      "14/14 [==============================] - 1s 64ms/step - loss: 0.0019 - val_loss: 0.0011 - lr: 0.0010\n",
      "Epoch 56/200\n",
      "14/14 [==============================] - 1s 64ms/step - loss: 0.0021 - val_loss: 0.0018 - lr: 0.0010\n",
      "Epoch 57/200\n",
      "14/14 [==============================] - 1s 68ms/step - loss: 0.0018 - val_loss: 0.0013 - lr: 0.0010\n",
      "Epoch 58/200\n",
      "14/14 [==============================] - 1s 66ms/step - loss: 0.0018 - val_loss: 0.0017 - lr: 0.0010\n",
      "Epoch 59/200\n",
      "14/14 [==============================] - 1s 70ms/step - loss: 0.0019 - val_loss: 0.0013 - lr: 0.0010\n",
      "Epoch 60/200\n",
      "14/14 [==============================] - 1s 73ms/step - loss: 0.0017 - val_loss: 0.0017 - lr: 0.0010\n",
      "Epoch 61/200\n",
      "14/14 [==============================] - 1s 68ms/step - loss: 0.0016 - val_loss: 0.0011 - lr: 0.0010\n",
      "Epoch 62/200\n",
      "14/14 [==============================] - 1s 63ms/step - loss: 0.0020 - val_loss: 0.0012 - lr: 0.0010\n",
      "Epoch 63/200\n",
      "14/14 [==============================] - 1s 70ms/step - loss: 0.0017 - val_loss: 0.0012 - lr: 0.0010\n",
      "Epoch 64/200\n",
      "14/14 [==============================] - 1s 63ms/step - loss: 0.0016 - val_loss: 0.0011 - lr: 0.0010\n",
      "Epoch 65/200\n",
      "14/14 [==============================] - 1s 67ms/step - loss: 0.0017 - val_loss: 0.0012 - lr: 0.0010\n",
      "Epoch 66/200\n",
      "14/14 [==============================] - 1s 64ms/step - loss: 0.0016 - val_loss: 0.0018 - lr: 0.0010\n",
      "Epoch 67/200\n",
      "14/14 [==============================] - 1s 63ms/step - loss: 0.0016 - val_loss: 0.0020 - lr: 0.0010\n",
      "Epoch 68/200\n",
      "14/14 [==============================] - 1s 65ms/step - loss: 0.0018 - val_loss: 0.0011 - lr: 0.0010\n",
      "4/4 [==============================] - 1s 15ms/step\n",
      "R-Squared score: 0.9724185346319573\n",
      "MSE: 1254919.4385138482\n",
      "MAE: 880.7139394183404\n"
     ]
    }
   ],
   "source": [
    "# Define early stopping callback\n",
    "early_stopping = EarlyStopping(monitor='val_loss', patience=7, restore_best_weights=True)\n",
    "reduce_lr = ReduceLROnPlateau(monitor='val_loss', factor=0.2, patience=5, min_lr=0.001)\n",
    "\n",
    "# Training with potentially adjusted batch size and epochs\n",
    "model.fit(X_train, y_train, epochs=200, batch_size=32, validation_split=0.1, callbacks=[early_stopping, reduce_lr])\n",
    "\n",
    "# Prediction and Evaluation\n",
    "y_pred = model.predict(X_test)\n",
    "y_test_scaled_back = scaler.inverse_transform(np.concatenate((np.zeros_like(y_test).reshape(-1,1), y_test.reshape(-1,1), np.zeros((len(y_test), scaled_data.shape[1] - 2))), axis=1))[:, 1]\n",
    "dummy_test = np.zeros((len(y_pred), scaled_data.shape[1]))\n",
    "dummy_test[:, 3] = y_pred.flatten()\n",
    "y_pred_transformed = scaler.inverse_transform(dummy_test)[:, 3]\n",
    "\n",
    "r_squared = r2_score(y_test_scaled_back, y_pred_transformed)\n",
    "mse = mean_squared_error(y_test_scaled_back, y_pred_transformed)\n",
    "mae = mean_absolute_error(y_test_scaled_back, y_pred_transformed)\n",
    "\n",
    "print(\"R-Squared score:\", r_squared)\n",
    "print(\"MSE:\", mse)\n",
    "print(\"MAE:\", mae)\n"
   ]
  },
  {
   "cell_type": "code",
   "execution_count": 10,
   "id": "8f39e9fd",
   "metadata": {},
   "outputs": [
    {
     "name": "stdout",
     "output_type": "stream",
     "text": [
      "1/1 [==============================] - 0s 28ms/step\n",
      "Predicted Next Day Price: [36143.81722756]\n"
     ]
    }
   ],
   "source": [
    "# Predict the next day's closing price\n",
    "last_sequence = scaled_data[-time_step:]\n",
    "last_sequence = last_sequence.reshape(1, time_step, scaled_data.shape[1])\n",
    "next_day_prediction = model.predict(last_sequence)\n",
    "next_day_dummy = np.zeros((1, scaled_data.shape[1]))\n",
    "next_day_dummy[:, 3] = next_day_prediction.flatten()\n",
    "predicted_close_price = scaler.inverse_transform(next_day_dummy)[:, 3]\n",
    "\n",
    "print(\"Predicted Next Day Price:\", predicted_close_price)"
   ]
  },
  {
   "cell_type": "code",
   "execution_count": 11,
   "id": "8e5c42f6",
   "metadata": {},
   "outputs": [
    {
     "name": "stdout",
     "output_type": "stream",
     "text": [
      "1/1 [==============================] - 0s 28ms/step\n"
     ]
    }
   ],
   "source": [
    "# Predict the next day\n",
    "last_sequence = scaled_data[-time_step:]\n",
    "last_sequence = last_sequence.reshape(1, time_step, 5)\n",
    "next_day_prediction = model.predict(last_sequence)\n",
    "predicted_close_price = scaler.inverse_transform(np.concatenate((next_day_prediction, np.zeros((1, 4))), axis=1))[:, 0]"
   ]
  },
  {
   "cell_type": "code",
   "execution_count": 12,
   "id": "93200428",
   "metadata": {},
   "outputs": [
    {
     "name": "stdout",
     "output_type": "stream",
     "text": [
      "1/1 [==============================] - 0s 24ms/step\n",
      "Predicted Next Day Price: [36143.81722756]\n",
      "Actual values: [0.1611059  0.38842895 0.17996516 0.03325575 0.15085655 0.14727457\n",
      " 0.1091179  0.10283383 0.33608436 0.25256181]\n",
      "Predicted values: [20398.36133531 27958.06861341 21146.59547659 17243.27024884\n",
      " 19651.41061206 20516.53514073 19107.26869665 19130.91377261\n",
      " 26609.52614304 21649.50711225]\n",
      "X_test shape: (125, 60, 5)\n"
     ]
    }
   ],
   "source": [
    "# Predict the next day's closing price\n",
    "last_sequence = scaled_data[-time_step:]\n",
    "last_sequence = last_sequence.reshape(1, time_step, 5)\n",
    "next_day_prediction = model.predict(last_sequence)\n",
    "\n",
    "# Adjust the shape of next_day_prediction for inverse transformation\n",
    "next_day_dummy = np.zeros((1, scaled_data.shape[1]))\n",
    "next_day_dummy[:, 3] = next_day_prediction.flatten()\n",
    "predicted_close_price = scaler.inverse_transform(next_day_dummy)[:, 3]\n",
    "\n",
    "# Print the predicted next day price\n",
    "print(\"Predicted Next Day Price:\", predicted_close_price)\n",
    "print(\"Actual values:\", y_test[:10])\n",
    "print(\"Predicted values:\", y_pred_transformed[:10])\n",
    "print(\"X_test shape:\", X_test.shape)\n"
   ]
  },
  {
   "cell_type": "code",
   "execution_count": 13,
   "id": "078f4b6d",
   "metadata": {},
   "outputs": [],
   "source": [
    "# Add the predicted price to the DataFrame\n",
    "# Convert the index to datetime if it's not already\n",
    "data.index = pd.to_datetime(data.index)\n",
    "\n",
    "# Now, adding a Timedelta should work\n",
    "next_day = data.index[-1] + pd.Timedelta(days=1)\n",
    "data.loc[next_day] = [np.nan, np.nan, np.nan, predicted_close_price, np.nan]"
   ]
  },
  {
   "cell_type": "code",
   "execution_count": 14,
   "id": "39a2c162",
   "metadata": {},
   "outputs": [
    {
     "data": {
      "application/vnd.plotly.v1+json": {
       "config": {
        "plotlyServerURL": "https://plot.ly"
       },
       "data": [
        {
         "name": "Historical Daily Close Price",
         "type": "scatter",
         "x": [
          "2023-09-17T00:00:00",
          "2023-09-18T00:00:00",
          "2023-09-19T00:00:00",
          "2023-09-20T00:00:00",
          "2023-09-21T00:00:00",
          "2023-09-22T00:00:00",
          "2023-09-23T00:00:00",
          "2023-09-24T00:00:00",
          "2023-09-25T00:00:00",
          "2023-09-26T00:00:00",
          "2023-09-27T00:00:00",
          "2023-09-28T00:00:00",
          "2023-09-29T00:00:00",
          "2023-09-30T00:00:00",
          "2023-10-01T00:00:00",
          "2023-10-02T00:00:00",
          "2023-10-03T00:00:00",
          "2023-10-04T00:00:00",
          "2023-10-05T00:00:00",
          "2023-10-06T00:00:00",
          "2023-10-07T00:00:00",
          "2023-10-08T00:00:00",
          "2023-10-09T00:00:00",
          "2023-10-10T00:00:00",
          "2023-10-11T00:00:00",
          "2023-10-12T00:00:00",
          "2023-10-13T00:00:00",
          "2023-10-14T00:00:00",
          "2023-10-15T00:00:00",
          "2023-10-16T00:00:00",
          "2023-10-17T00:00:00",
          "2023-10-18T00:00:00",
          "2023-10-19T00:00:00",
          "2023-10-20T00:00:00",
          "2023-10-21T00:00:00",
          "2023-10-22T00:00:00",
          "2023-10-23T00:00:00",
          "2023-10-24T00:00:00",
          "2023-10-25T00:00:00",
          "2023-10-26T00:00:00",
          "2023-10-27T00:00:00",
          "2023-10-28T00:00:00",
          "2023-10-29T00:00:00",
          "2023-10-30T00:00:00",
          "2023-10-31T00:00:00",
          "2023-11-01T00:00:00",
          "2023-11-02T00:00:00",
          "2023-11-03T00:00:00",
          "2023-11-04T00:00:00",
          "2023-11-05T00:00:00",
          "2023-11-06T00:00:00",
          "2023-11-07T00:00:00",
          "2023-11-08T00:00:00",
          "2023-11-09T00:00:00",
          "2023-11-10T00:00:00",
          "2023-11-11T00:00:00",
          "2023-11-12T00:00:00",
          "2023-11-13T00:00:00",
          "2023-11-14T00:00:00",
          "2023-11-15T00:00:00"
         ],
         "xaxis": "x",
         "y": [
          26534.1875,
          26754.28125,
          27211.1171875,
          27132.0078125,
          26567.6328125,
          26579.568359375,
          26579.390625,
          26256.826171875,
          26298.48046875,
          26217.25,
          26352.716796875,
          27021.546875,
          26911.720703125,
          26967.916015625,
          27983.75,
          27530.78515625,
          27429.978515625,
          27799.39453125,
          27415.912109375,
          27946.59765625,
          27968.83984375,
          27935.08984375,
          27583.677734375,
          27391.01953125,
          26873.3203125,
          26756.798828125,
          26862.375,
          26861.70703125,
          27159.65234375,
          28519.466796875,
          28415.748046875,
          28328.341796875,
          28719.806640625,
          29682.94921875,
          29918.412109375,
          29993.896484375,
          33086.234375,
          33901.52734375,
          34502.8203125,
          34156.6484375,
          33909.80078125,
          34089.57421875,
          34538.48046875,
          34502.36328125,
          34667.78125,
          35437.25390625,
          34938.2421875,
          34732.32421875,
          35082.1953125,
          35049.35546875,
          35037.37109375,
          35443.5625,
          35655.27734375,
          36693.125,
          37313.96875,
          37138.05078125,
          37054.51953125,
          36502.35546875,
          35537.640625,
          [
           36143.81722755969
          ]
         ],
         "yaxis": "y"
        },
        {
         "marker": {
          "color": "orange"
         },
         "name": "Trading Volume",
         "type": "scatter",
         "x": [
          "2023-09-17T00:00:00",
          "2023-09-18T00:00:00",
          "2023-09-19T00:00:00",
          "2023-09-20T00:00:00",
          "2023-09-21T00:00:00",
          "2023-09-22T00:00:00",
          "2023-09-23T00:00:00",
          "2023-09-24T00:00:00",
          "2023-09-25T00:00:00",
          "2023-09-26T00:00:00",
          "2023-09-27T00:00:00",
          "2023-09-28T00:00:00",
          "2023-09-29T00:00:00",
          "2023-09-30T00:00:00",
          "2023-10-01T00:00:00",
          "2023-10-02T00:00:00",
          "2023-10-03T00:00:00",
          "2023-10-04T00:00:00",
          "2023-10-05T00:00:00",
          "2023-10-06T00:00:00",
          "2023-10-07T00:00:00",
          "2023-10-08T00:00:00",
          "2023-10-09T00:00:00",
          "2023-10-10T00:00:00",
          "2023-10-11T00:00:00",
          "2023-10-12T00:00:00",
          "2023-10-13T00:00:00",
          "2023-10-14T00:00:00",
          "2023-10-15T00:00:00",
          "2023-10-16T00:00:00",
          "2023-10-17T00:00:00",
          "2023-10-18T00:00:00",
          "2023-10-19T00:00:00",
          "2023-10-20T00:00:00",
          "2023-10-21T00:00:00",
          "2023-10-22T00:00:00",
          "2023-10-23T00:00:00",
          "2023-10-24T00:00:00",
          "2023-10-25T00:00:00",
          "2023-10-26T00:00:00",
          "2023-10-27T00:00:00",
          "2023-10-28T00:00:00",
          "2023-10-29T00:00:00",
          "2023-10-30T00:00:00",
          "2023-10-31T00:00:00",
          "2023-11-01T00:00:00",
          "2023-11-02T00:00:00",
          "2023-11-03T00:00:00",
          "2023-11-04T00:00:00",
          "2023-11-05T00:00:00",
          "2023-11-06T00:00:00",
          "2023-11-07T00:00:00",
          "2023-11-08T00:00:00",
          "2023-11-09T00:00:00",
          "2023-11-10T00:00:00",
          "2023-11-11T00:00:00",
          "2023-11-12T00:00:00",
          "2023-11-13T00:00:00",
          "2023-11-14T00:00:00",
          "2023-11-15T00:00:00"
         ],
         "xaxis": "x",
         "y": [
          7402031417,
          6774210670,
          15615339655,
          13807690550,
          13281116604,
          13371443708,
          10578746709,
          7404700301,
          8192867686,
          11997833257,
          9985498161,
          11718380997,
          14079002707,
          10396435377,
          5331172801,
          9503917434,
          19793041322,
          11407814187,
          11143355314,
          11877253670,
          13492391599,
          6553044316,
          7916875290,
          12007668568,
          9973350678,
          13648094333,
          9392909295,
          15165312851,
          5388116782,
          7098201980,
          27833876539,
          14872527508,
          12724128586,
          14448058195,
          21536125230,
          11541146996,
          10446520040,
          38363572311,
          44934999645,
          25254318008,
          19427195376,
          16418032871,
          10160330825,
          11160323986,
          17184860315,
          15758270810,
          22446272005,
          20998158544,
          17158456701,
          9561294264,
          12412743996,
          12693436420,
          18834737789,
          17295394918,
          37762672382,
          22711265155,
          13924272142,
          11545715999,
          19057712790,
          23857403554
         ],
         "yaxis": "y2"
        },
        {
         "marker": {
          "color": "red",
          "size": 10
         },
         "mode": "markers",
         "name": "Predicted Next Day Price",
         "type": "scatter",
         "x": [
          "2023-11-15T00:00:00"
         ],
         "xaxis": "x",
         "y": [
          [
           36143.81722755969
          ]
         ],
         "yaxis": "y"
        }
       ],
       "layout": {
        "template": {
         "data": {
          "bar": [
           {
            "error_x": {
             "color": "#2a3f5f"
            },
            "error_y": {
             "color": "#2a3f5f"
            },
            "marker": {
             "line": {
              "color": "#E5ECF6",
              "width": 0.5
             },
             "pattern": {
              "fillmode": "overlay",
              "size": 10,
              "solidity": 0.2
             }
            },
            "type": "bar"
           }
          ],
          "barpolar": [
           {
            "marker": {
             "line": {
              "color": "#E5ECF6",
              "width": 0.5
             },
             "pattern": {
              "fillmode": "overlay",
              "size": 10,
              "solidity": 0.2
             }
            },
            "type": "barpolar"
           }
          ],
          "carpet": [
           {
            "aaxis": {
             "endlinecolor": "#2a3f5f",
             "gridcolor": "white",
             "linecolor": "white",
             "minorgridcolor": "white",
             "startlinecolor": "#2a3f5f"
            },
            "baxis": {
             "endlinecolor": "#2a3f5f",
             "gridcolor": "white",
             "linecolor": "white",
             "minorgridcolor": "white",
             "startlinecolor": "#2a3f5f"
            },
            "type": "carpet"
           }
          ],
          "choropleth": [
           {
            "colorbar": {
             "outlinewidth": 0,
             "ticks": ""
            },
            "type": "choropleth"
           }
          ],
          "contour": [
           {
            "colorbar": {
             "outlinewidth": 0,
             "ticks": ""
            },
            "colorscale": [
             [
              0,
              "#0d0887"
             ],
             [
              0.1111111111111111,
              "#46039f"
             ],
             [
              0.2222222222222222,
              "#7201a8"
             ],
             [
              0.3333333333333333,
              "#9c179e"
             ],
             [
              0.4444444444444444,
              "#bd3786"
             ],
             [
              0.5555555555555556,
              "#d8576b"
             ],
             [
              0.6666666666666666,
              "#ed7953"
             ],
             [
              0.7777777777777778,
              "#fb9f3a"
             ],
             [
              0.8888888888888888,
              "#fdca26"
             ],
             [
              1,
              "#f0f921"
             ]
            ],
            "type": "contour"
           }
          ],
          "contourcarpet": [
           {
            "colorbar": {
             "outlinewidth": 0,
             "ticks": ""
            },
            "type": "contourcarpet"
           }
          ],
          "heatmap": [
           {
            "colorbar": {
             "outlinewidth": 0,
             "ticks": ""
            },
            "colorscale": [
             [
              0,
              "#0d0887"
             ],
             [
              0.1111111111111111,
              "#46039f"
             ],
             [
              0.2222222222222222,
              "#7201a8"
             ],
             [
              0.3333333333333333,
              "#9c179e"
             ],
             [
              0.4444444444444444,
              "#bd3786"
             ],
             [
              0.5555555555555556,
              "#d8576b"
             ],
             [
              0.6666666666666666,
              "#ed7953"
             ],
             [
              0.7777777777777778,
              "#fb9f3a"
             ],
             [
              0.8888888888888888,
              "#fdca26"
             ],
             [
              1,
              "#f0f921"
             ]
            ],
            "type": "heatmap"
           }
          ],
          "heatmapgl": [
           {
            "colorbar": {
             "outlinewidth": 0,
             "ticks": ""
            },
            "colorscale": [
             [
              0,
              "#0d0887"
             ],
             [
              0.1111111111111111,
              "#46039f"
             ],
             [
              0.2222222222222222,
              "#7201a8"
             ],
             [
              0.3333333333333333,
              "#9c179e"
             ],
             [
              0.4444444444444444,
              "#bd3786"
             ],
             [
              0.5555555555555556,
              "#d8576b"
             ],
             [
              0.6666666666666666,
              "#ed7953"
             ],
             [
              0.7777777777777778,
              "#fb9f3a"
             ],
             [
              0.8888888888888888,
              "#fdca26"
             ],
             [
              1,
              "#f0f921"
             ]
            ],
            "type": "heatmapgl"
           }
          ],
          "histogram": [
           {
            "marker": {
             "pattern": {
              "fillmode": "overlay",
              "size": 10,
              "solidity": 0.2
             }
            },
            "type": "histogram"
           }
          ],
          "histogram2d": [
           {
            "colorbar": {
             "outlinewidth": 0,
             "ticks": ""
            },
            "colorscale": [
             [
              0,
              "#0d0887"
             ],
             [
              0.1111111111111111,
              "#46039f"
             ],
             [
              0.2222222222222222,
              "#7201a8"
             ],
             [
              0.3333333333333333,
              "#9c179e"
             ],
             [
              0.4444444444444444,
              "#bd3786"
             ],
             [
              0.5555555555555556,
              "#d8576b"
             ],
             [
              0.6666666666666666,
              "#ed7953"
             ],
             [
              0.7777777777777778,
              "#fb9f3a"
             ],
             [
              0.8888888888888888,
              "#fdca26"
             ],
             [
              1,
              "#f0f921"
             ]
            ],
            "type": "histogram2d"
           }
          ],
          "histogram2dcontour": [
           {
            "colorbar": {
             "outlinewidth": 0,
             "ticks": ""
            },
            "colorscale": [
             [
              0,
              "#0d0887"
             ],
             [
              0.1111111111111111,
              "#46039f"
             ],
             [
              0.2222222222222222,
              "#7201a8"
             ],
             [
              0.3333333333333333,
              "#9c179e"
             ],
             [
              0.4444444444444444,
              "#bd3786"
             ],
             [
              0.5555555555555556,
              "#d8576b"
             ],
             [
              0.6666666666666666,
              "#ed7953"
             ],
             [
              0.7777777777777778,
              "#fb9f3a"
             ],
             [
              0.8888888888888888,
              "#fdca26"
             ],
             [
              1,
              "#f0f921"
             ]
            ],
            "type": "histogram2dcontour"
           }
          ],
          "mesh3d": [
           {
            "colorbar": {
             "outlinewidth": 0,
             "ticks": ""
            },
            "type": "mesh3d"
           }
          ],
          "parcoords": [
           {
            "line": {
             "colorbar": {
              "outlinewidth": 0,
              "ticks": ""
             }
            },
            "type": "parcoords"
           }
          ],
          "pie": [
           {
            "automargin": true,
            "type": "pie"
           }
          ],
          "scatter": [
           {
            "fillpattern": {
             "fillmode": "overlay",
             "size": 10,
             "solidity": 0.2
            },
            "type": "scatter"
           }
          ],
          "scatter3d": [
           {
            "line": {
             "colorbar": {
              "outlinewidth": 0,
              "ticks": ""
             }
            },
            "marker": {
             "colorbar": {
              "outlinewidth": 0,
              "ticks": ""
             }
            },
            "type": "scatter3d"
           }
          ],
          "scattercarpet": [
           {
            "marker": {
             "colorbar": {
              "outlinewidth": 0,
              "ticks": ""
             }
            },
            "type": "scattercarpet"
           }
          ],
          "scattergeo": [
           {
            "marker": {
             "colorbar": {
              "outlinewidth": 0,
              "ticks": ""
             }
            },
            "type": "scattergeo"
           }
          ],
          "scattergl": [
           {
            "marker": {
             "colorbar": {
              "outlinewidth": 0,
              "ticks": ""
             }
            },
            "type": "scattergl"
           }
          ],
          "scattermapbox": [
           {
            "marker": {
             "colorbar": {
              "outlinewidth": 0,
              "ticks": ""
             }
            },
            "type": "scattermapbox"
           }
          ],
          "scatterpolar": [
           {
            "marker": {
             "colorbar": {
              "outlinewidth": 0,
              "ticks": ""
             }
            },
            "type": "scatterpolar"
           }
          ],
          "scatterpolargl": [
           {
            "marker": {
             "colorbar": {
              "outlinewidth": 0,
              "ticks": ""
             }
            },
            "type": "scatterpolargl"
           }
          ],
          "scatterternary": [
           {
            "marker": {
             "colorbar": {
              "outlinewidth": 0,
              "ticks": ""
             }
            },
            "type": "scatterternary"
           }
          ],
          "surface": [
           {
            "colorbar": {
             "outlinewidth": 0,
             "ticks": ""
            },
            "colorscale": [
             [
              0,
              "#0d0887"
             ],
             [
              0.1111111111111111,
              "#46039f"
             ],
             [
              0.2222222222222222,
              "#7201a8"
             ],
             [
              0.3333333333333333,
              "#9c179e"
             ],
             [
              0.4444444444444444,
              "#bd3786"
             ],
             [
              0.5555555555555556,
              "#d8576b"
             ],
             [
              0.6666666666666666,
              "#ed7953"
             ],
             [
              0.7777777777777778,
              "#fb9f3a"
             ],
             [
              0.8888888888888888,
              "#fdca26"
             ],
             [
              1,
              "#f0f921"
             ]
            ],
            "type": "surface"
           }
          ],
          "table": [
           {
            "cells": {
             "fill": {
              "color": "#EBF0F8"
             },
             "line": {
              "color": "white"
             }
            },
            "header": {
             "fill": {
              "color": "#C8D4E3"
             },
             "line": {
              "color": "white"
             }
            },
            "type": "table"
           }
          ]
         },
         "layout": {
          "annotationdefaults": {
           "arrowcolor": "#2a3f5f",
           "arrowhead": 0,
           "arrowwidth": 1
          },
          "autotypenumbers": "strict",
          "coloraxis": {
           "colorbar": {
            "outlinewidth": 0,
            "ticks": ""
           }
          },
          "colorscale": {
           "diverging": [
            [
             0,
             "#8e0152"
            ],
            [
             0.1,
             "#c51b7d"
            ],
            [
             0.2,
             "#de77ae"
            ],
            [
             0.3,
             "#f1b6da"
            ],
            [
             0.4,
             "#fde0ef"
            ],
            [
             0.5,
             "#f7f7f7"
            ],
            [
             0.6,
             "#e6f5d0"
            ],
            [
             0.7,
             "#b8e186"
            ],
            [
             0.8,
             "#7fbc41"
            ],
            [
             0.9,
             "#4d9221"
            ],
            [
             1,
             "#276419"
            ]
           ],
           "sequential": [
            [
             0,
             "#0d0887"
            ],
            [
             0.1111111111111111,
             "#46039f"
            ],
            [
             0.2222222222222222,
             "#7201a8"
            ],
            [
             0.3333333333333333,
             "#9c179e"
            ],
            [
             0.4444444444444444,
             "#bd3786"
            ],
            [
             0.5555555555555556,
             "#d8576b"
            ],
            [
             0.6666666666666666,
             "#ed7953"
            ],
            [
             0.7777777777777778,
             "#fb9f3a"
            ],
            [
             0.8888888888888888,
             "#fdca26"
            ],
            [
             1,
             "#f0f921"
            ]
           ],
           "sequentialminus": [
            [
             0,
             "#0d0887"
            ],
            [
             0.1111111111111111,
             "#46039f"
            ],
            [
             0.2222222222222222,
             "#7201a8"
            ],
            [
             0.3333333333333333,
             "#9c179e"
            ],
            [
             0.4444444444444444,
             "#bd3786"
            ],
            [
             0.5555555555555556,
             "#d8576b"
            ],
            [
             0.6666666666666666,
             "#ed7953"
            ],
            [
             0.7777777777777778,
             "#fb9f3a"
            ],
            [
             0.8888888888888888,
             "#fdca26"
            ],
            [
             1,
             "#f0f921"
            ]
           ]
          },
          "colorway": [
           "#636efa",
           "#EF553B",
           "#00cc96",
           "#ab63fa",
           "#FFA15A",
           "#19d3f3",
           "#FF6692",
           "#B6E880",
           "#FF97FF",
           "#FECB52"
          ],
          "font": {
           "color": "#2a3f5f"
          },
          "geo": {
           "bgcolor": "white",
           "lakecolor": "white",
           "landcolor": "#E5ECF6",
           "showlakes": true,
           "showland": true,
           "subunitcolor": "white"
          },
          "hoverlabel": {
           "align": "left"
          },
          "hovermode": "closest",
          "mapbox": {
           "style": "light"
          },
          "paper_bgcolor": "white",
          "plot_bgcolor": "#E5ECF6",
          "polar": {
           "angularaxis": {
            "gridcolor": "white",
            "linecolor": "white",
            "ticks": ""
           },
           "bgcolor": "#E5ECF6",
           "radialaxis": {
            "gridcolor": "white",
            "linecolor": "white",
            "ticks": ""
           }
          },
          "scene": {
           "xaxis": {
            "backgroundcolor": "#E5ECF6",
            "gridcolor": "white",
            "gridwidth": 2,
            "linecolor": "white",
            "showbackground": true,
            "ticks": "",
            "zerolinecolor": "white"
           },
           "yaxis": {
            "backgroundcolor": "#E5ECF6",
            "gridcolor": "white",
            "gridwidth": 2,
            "linecolor": "white",
            "showbackground": true,
            "ticks": "",
            "zerolinecolor": "white"
           },
           "zaxis": {
            "backgroundcolor": "#E5ECF6",
            "gridcolor": "white",
            "gridwidth": 2,
            "linecolor": "white",
            "showbackground": true,
            "ticks": "",
            "zerolinecolor": "white"
           }
          },
          "shapedefaults": {
           "line": {
            "color": "#2a3f5f"
           }
          },
          "ternary": {
           "aaxis": {
            "gridcolor": "white",
            "linecolor": "white",
            "ticks": ""
           },
           "baxis": {
            "gridcolor": "white",
            "linecolor": "white",
            "ticks": ""
           },
           "bgcolor": "#E5ECF6",
           "caxis": {
            "gridcolor": "white",
            "linecolor": "white",
            "ticks": ""
           }
          },
          "title": {
           "x": 0.05
          },
          "xaxis": {
           "automargin": true,
           "gridcolor": "white",
           "linecolor": "white",
           "ticks": "",
           "title": {
            "standoff": 15
           },
           "zerolinecolor": "white",
           "zerolinewidth": 2
          },
          "yaxis": {
           "automargin": true,
           "gridcolor": "white",
           "linecolor": "white",
           "ticks": "",
           "title": {
            "standoff": 15
           },
           "zerolinecolor": "white",
           "zerolinewidth": 2
          }
         }
        },
        "title": {
         "text": "BTC Price and Volume Trend"
        },
        "xaxis": {
         "anchor": "y",
         "domain": [
          0,
          0.94
         ],
         "title": {
          "text": "Date"
         }
        },
        "yaxis": {
         "anchor": "x",
         "domain": [
          0,
          1
         ],
         "title": {
          "text": "Close Price (USD)"
         }
        },
        "yaxis2": {
         "anchor": "x",
         "overlaying": "y",
         "side": "right",
         "title": {
          "text": "Volume"
         }
        }
       }
      }
     },
     "metadata": {},
     "output_type": "display_data"
    }
   ],
   "source": [
    "# Convert next_day to a format that matches your data index\n",
    "next_day_formatted = pd.to_datetime(next_day)\n",
    "\n",
    "# Ensure data index is in datetime format for proper plotting\n",
    "data.index = pd.to_datetime(data.index)\n",
    "\n",
    "fig = make_subplots(specs=[[{\"secondary_y\": True}]])\n",
    "\n",
    "# Historical data traces\n",
    "fig.add_trace(go.Scatter(x=data.index[-time_step:], y=data['Close'].dropna()[-time_step:], name='Historical Daily Close Price'), secondary_y=False)\n",
    "fig.add_trace(go.Scatter(x=data.index[-time_step:], y=data['Volume'].dropna()[-time_step:], name='Trading Volume', marker=dict(color='orange')), secondary_y=True)\n",
    "\n",
    "# Prediction trace\n",
    "# Check if next_day_formatted is within the range of your data index\n",
    "if next_day_formatted in data.index:\n",
    "    fig.add_trace(go.Scatter(x=[next_day_formatted], y=[predicted_close_price], mode='markers', name='Predicted Next Day Price', marker=dict(color='red', size=10)), secondary_y=False)\n",
    "else:\n",
    "    print(\"Next day date is out of range\")\n",
    "\n",
    "# Figure layout settings\n",
    "fig.update_layout(title_text=\"BTC Price and Volume Trend\")\n",
    "fig.update_xaxes(title_text=\"Date\")\n",
    "fig.update_yaxes(title_text=\"Close Price (USD)\", secondary_y=False)\n",
    "fig.update_yaxes(title_text=\"Volume\", secondary_y=True)\n",
    "\n",
    "fig.show()"
   ]
  },
  {
   "cell_type": "code",
   "execution_count": 15,
   "id": "21ae8a14",
   "metadata": {},
   "outputs": [
    {
     "data": {
      "application/vnd.plotly.v1+json": {
       "config": {
        "plotlyServerURL": "https://plot.ly"
       },
       "data": [
        {
         "hovertemplate": "Date=%{x}<br>30d_Rolling_Std=%{y}<extra></extra>",
         "legendgroup": "",
         "line": {
          "color": "#636efa",
          "dash": "solid"
         },
         "marker": {
          "symbol": "circle"
         },
         "mode": "lines",
         "name": "",
         "orientation": "v",
         "showlegend": false,
         "type": "scatter",
         "x": [
          "2022-01-01T00:00:00",
          "2022-01-02T00:00:00",
          "2022-01-03T00:00:00",
          "2022-01-04T00:00:00",
          "2022-01-05T00:00:00",
          "2022-01-06T00:00:00",
          "2022-01-07T00:00:00",
          "2022-01-08T00:00:00",
          "2022-01-09T00:00:00",
          "2022-01-10T00:00:00",
          "2022-01-11T00:00:00",
          "2022-01-12T00:00:00",
          "2022-01-13T00:00:00",
          "2022-01-14T00:00:00",
          "2022-01-15T00:00:00",
          "2022-01-16T00:00:00",
          "2022-01-17T00:00:00",
          "2022-01-18T00:00:00",
          "2022-01-19T00:00:00",
          "2022-01-20T00:00:00",
          "2022-01-21T00:00:00",
          "2022-01-22T00:00:00",
          "2022-01-23T00:00:00",
          "2022-01-24T00:00:00",
          "2022-01-25T00:00:00",
          "2022-01-26T00:00:00",
          "2022-01-27T00:00:00",
          "2022-01-28T00:00:00",
          "2022-01-29T00:00:00",
          "2022-01-30T00:00:00",
          "2022-01-31T00:00:00",
          "2022-02-01T00:00:00",
          "2022-02-02T00:00:00",
          "2022-02-03T00:00:00",
          "2022-02-04T00:00:00",
          "2022-02-05T00:00:00",
          "2022-02-06T00:00:00",
          "2022-02-07T00:00:00",
          "2022-02-08T00:00:00",
          "2022-02-09T00:00:00",
          "2022-02-10T00:00:00",
          "2022-02-11T00:00:00",
          "2022-02-12T00:00:00",
          "2022-02-13T00:00:00",
          "2022-02-14T00:00:00",
          "2022-02-15T00:00:00",
          "2022-02-16T00:00:00",
          "2022-02-17T00:00:00",
          "2022-02-18T00:00:00",
          "2022-02-19T00:00:00",
          "2022-02-20T00:00:00",
          "2022-02-21T00:00:00",
          "2022-02-22T00:00:00",
          "2022-02-23T00:00:00",
          "2022-02-24T00:00:00",
          "2022-02-25T00:00:00",
          "2022-02-26T00:00:00",
          "2022-02-27T00:00:00",
          "2022-02-28T00:00:00",
          "2022-03-01T00:00:00",
          "2022-03-02T00:00:00",
          "2022-03-03T00:00:00",
          "2022-03-04T00:00:00",
          "2022-03-05T00:00:00",
          "2022-03-06T00:00:00",
          "2022-03-07T00:00:00",
          "2022-03-08T00:00:00",
          "2022-03-09T00:00:00",
          "2022-03-10T00:00:00",
          "2022-03-11T00:00:00",
          "2022-03-12T00:00:00",
          "2022-03-13T00:00:00",
          "2022-03-14T00:00:00",
          "2022-03-15T00:00:00",
          "2022-03-16T00:00:00",
          "2022-03-17T00:00:00",
          "2022-03-18T00:00:00",
          "2022-03-19T00:00:00",
          "2022-03-20T00:00:00",
          "2022-03-21T00:00:00",
          "2022-03-22T00:00:00",
          "2022-03-23T00:00:00",
          "2022-03-24T00:00:00",
          "2022-03-25T00:00:00",
          "2022-03-26T00:00:00",
          "2022-03-27T00:00:00",
          "2022-03-28T00:00:00",
          "2022-03-29T00:00:00",
          "2022-03-30T00:00:00",
          "2022-03-31T00:00:00",
          "2022-04-01T00:00:00",
          "2022-04-02T00:00:00",
          "2022-04-03T00:00:00",
          "2022-04-04T00:00:00",
          "2022-04-05T00:00:00",
          "2022-04-06T00:00:00",
          "2022-04-07T00:00:00",
          "2022-04-08T00:00:00",
          "2022-04-09T00:00:00",
          "2022-04-10T00:00:00",
          "2022-04-11T00:00:00",
          "2022-04-12T00:00:00",
          "2022-04-13T00:00:00",
          "2022-04-14T00:00:00",
          "2022-04-15T00:00:00",
          "2022-04-16T00:00:00",
          "2022-04-17T00:00:00",
          "2022-04-18T00:00:00",
          "2022-04-19T00:00:00",
          "2022-04-20T00:00:00",
          "2022-04-21T00:00:00",
          "2022-04-22T00:00:00",
          "2022-04-23T00:00:00",
          "2022-04-24T00:00:00",
          "2022-04-25T00:00:00",
          "2022-04-26T00:00:00",
          "2022-04-27T00:00:00",
          "2022-04-28T00:00:00",
          "2022-04-29T00:00:00",
          "2022-04-30T00:00:00",
          "2022-05-01T00:00:00",
          "2022-05-02T00:00:00",
          "2022-05-03T00:00:00",
          "2022-05-04T00:00:00",
          "2022-05-05T00:00:00",
          "2022-05-06T00:00:00",
          "2022-05-07T00:00:00",
          "2022-05-08T00:00:00",
          "2022-05-09T00:00:00",
          "2022-05-10T00:00:00",
          "2022-05-11T00:00:00",
          "2022-05-12T00:00:00",
          "2022-05-13T00:00:00",
          "2022-05-14T00:00:00",
          "2022-05-15T00:00:00",
          "2022-05-16T00:00:00",
          "2022-05-17T00:00:00",
          "2022-05-18T00:00:00",
          "2022-05-19T00:00:00",
          "2022-05-20T00:00:00",
          "2022-05-21T00:00:00",
          "2022-05-22T00:00:00",
          "2022-05-23T00:00:00",
          "2022-05-24T00:00:00",
          "2022-05-25T00:00:00",
          "2022-05-26T00:00:00",
          "2022-05-27T00:00:00",
          "2022-05-28T00:00:00",
          "2022-05-29T00:00:00",
          "2022-05-30T00:00:00",
          "2022-05-31T00:00:00",
          "2022-06-01T00:00:00",
          "2022-06-02T00:00:00",
          "2022-06-03T00:00:00",
          "2022-06-04T00:00:00",
          "2022-06-05T00:00:00",
          "2022-06-06T00:00:00",
          "2022-06-07T00:00:00",
          "2022-06-08T00:00:00",
          "2022-06-09T00:00:00",
          "2022-06-10T00:00:00",
          "2022-06-11T00:00:00",
          "2022-06-12T00:00:00",
          "2022-06-13T00:00:00",
          "2022-06-14T00:00:00",
          "2022-06-15T00:00:00",
          "2022-06-16T00:00:00",
          "2022-06-17T00:00:00",
          "2022-06-18T00:00:00",
          "2022-06-19T00:00:00",
          "2022-06-20T00:00:00",
          "2022-06-21T00:00:00",
          "2022-06-22T00:00:00",
          "2022-06-23T00:00:00",
          "2022-06-24T00:00:00",
          "2022-06-25T00:00:00",
          "2022-06-26T00:00:00",
          "2022-06-27T00:00:00",
          "2022-06-28T00:00:00",
          "2022-06-29T00:00:00",
          "2022-06-30T00:00:00",
          "2022-07-01T00:00:00",
          "2022-07-02T00:00:00",
          "2022-07-03T00:00:00",
          "2022-07-04T00:00:00",
          "2022-07-05T00:00:00",
          "2022-07-06T00:00:00",
          "2022-07-07T00:00:00",
          "2022-07-08T00:00:00",
          "2022-07-09T00:00:00",
          "2022-07-10T00:00:00",
          "2022-07-11T00:00:00",
          "2022-07-12T00:00:00",
          "2022-07-13T00:00:00",
          "2022-07-14T00:00:00",
          "2022-07-15T00:00:00",
          "2022-07-16T00:00:00",
          "2022-07-17T00:00:00",
          "2022-07-18T00:00:00",
          "2022-07-19T00:00:00",
          "2022-07-20T00:00:00",
          "2022-07-21T00:00:00",
          "2022-07-22T00:00:00",
          "2022-07-23T00:00:00",
          "2022-07-24T00:00:00",
          "2022-07-25T00:00:00",
          "2022-07-26T00:00:00",
          "2022-07-27T00:00:00",
          "2022-07-28T00:00:00",
          "2022-07-29T00:00:00",
          "2022-07-30T00:00:00",
          "2022-07-31T00:00:00",
          "2022-08-01T00:00:00",
          "2022-08-02T00:00:00",
          "2022-08-03T00:00:00",
          "2022-08-04T00:00:00",
          "2022-08-05T00:00:00",
          "2022-08-06T00:00:00",
          "2022-08-07T00:00:00",
          "2022-08-08T00:00:00",
          "2022-08-09T00:00:00",
          "2022-08-10T00:00:00",
          "2022-08-11T00:00:00",
          "2022-08-12T00:00:00",
          "2022-08-13T00:00:00",
          "2022-08-14T00:00:00",
          "2022-08-15T00:00:00",
          "2022-08-16T00:00:00",
          "2022-08-17T00:00:00",
          "2022-08-18T00:00:00",
          "2022-08-19T00:00:00",
          "2022-08-20T00:00:00",
          "2022-08-21T00:00:00",
          "2022-08-22T00:00:00",
          "2022-08-23T00:00:00",
          "2022-08-24T00:00:00",
          "2022-08-25T00:00:00",
          "2022-08-26T00:00:00",
          "2022-08-27T00:00:00",
          "2022-08-28T00:00:00",
          "2022-08-29T00:00:00",
          "2022-08-30T00:00:00",
          "2022-08-31T00:00:00",
          "2022-09-01T00:00:00",
          "2022-09-02T00:00:00",
          "2022-09-03T00:00:00",
          "2022-09-04T00:00:00",
          "2022-09-05T00:00:00",
          "2022-09-06T00:00:00",
          "2022-09-07T00:00:00",
          "2022-09-08T00:00:00",
          "2022-09-09T00:00:00",
          "2022-09-10T00:00:00",
          "2022-09-11T00:00:00",
          "2022-09-12T00:00:00",
          "2022-09-13T00:00:00",
          "2022-09-14T00:00:00",
          "2022-09-15T00:00:00",
          "2022-09-16T00:00:00",
          "2022-09-17T00:00:00",
          "2022-09-18T00:00:00",
          "2022-09-19T00:00:00",
          "2022-09-20T00:00:00",
          "2022-09-21T00:00:00",
          "2022-09-22T00:00:00",
          "2022-09-23T00:00:00",
          "2022-09-24T00:00:00",
          "2022-09-25T00:00:00",
          "2022-09-26T00:00:00",
          "2022-09-27T00:00:00",
          "2022-09-28T00:00:00",
          "2022-09-29T00:00:00",
          "2022-09-30T00:00:00",
          "2022-10-01T00:00:00",
          "2022-10-02T00:00:00",
          "2022-10-03T00:00:00",
          "2022-10-04T00:00:00",
          "2022-10-05T00:00:00",
          "2022-10-06T00:00:00",
          "2022-10-07T00:00:00",
          "2022-10-08T00:00:00",
          "2022-10-09T00:00:00",
          "2022-10-10T00:00:00",
          "2022-10-11T00:00:00",
          "2022-10-12T00:00:00",
          "2022-10-13T00:00:00",
          "2022-10-14T00:00:00",
          "2022-10-15T00:00:00",
          "2022-10-16T00:00:00",
          "2022-10-17T00:00:00",
          "2022-10-18T00:00:00",
          "2022-10-19T00:00:00",
          "2022-10-20T00:00:00",
          "2022-10-21T00:00:00",
          "2022-10-22T00:00:00",
          "2022-10-23T00:00:00",
          "2022-10-24T00:00:00",
          "2022-10-25T00:00:00",
          "2022-10-26T00:00:00",
          "2022-10-27T00:00:00",
          "2022-10-28T00:00:00",
          "2022-10-29T00:00:00",
          "2022-10-30T00:00:00",
          "2022-10-31T00:00:00",
          "2022-11-01T00:00:00",
          "2022-11-02T00:00:00",
          "2022-11-03T00:00:00",
          "2022-11-04T00:00:00",
          "2022-11-05T00:00:00",
          "2022-11-06T00:00:00",
          "2022-11-07T00:00:00",
          "2022-11-08T00:00:00",
          "2022-11-09T00:00:00",
          "2022-11-10T00:00:00",
          "2022-11-11T00:00:00",
          "2022-11-12T00:00:00",
          "2022-11-13T00:00:00",
          "2022-11-14T00:00:00",
          "2022-11-15T00:00:00",
          "2022-11-16T00:00:00",
          "2022-11-17T00:00:00",
          "2022-11-18T00:00:00",
          "2022-11-19T00:00:00",
          "2022-11-20T00:00:00",
          "2022-11-21T00:00:00",
          "2022-11-22T00:00:00",
          "2022-11-23T00:00:00",
          "2022-11-24T00:00:00",
          "2022-11-25T00:00:00",
          "2022-11-26T00:00:00",
          "2022-11-27T00:00:00",
          "2022-11-28T00:00:00",
          "2022-11-29T00:00:00",
          "2022-11-30T00:00:00",
          "2022-12-01T00:00:00",
          "2022-12-02T00:00:00",
          "2022-12-03T00:00:00",
          "2022-12-04T00:00:00",
          "2022-12-05T00:00:00",
          "2022-12-06T00:00:00",
          "2022-12-07T00:00:00",
          "2022-12-08T00:00:00",
          "2022-12-09T00:00:00",
          "2022-12-10T00:00:00",
          "2022-12-11T00:00:00",
          "2022-12-12T00:00:00",
          "2022-12-13T00:00:00",
          "2022-12-14T00:00:00",
          "2022-12-15T00:00:00",
          "2022-12-16T00:00:00",
          "2022-12-17T00:00:00",
          "2022-12-18T00:00:00",
          "2022-12-19T00:00:00",
          "2022-12-20T00:00:00",
          "2022-12-21T00:00:00",
          "2022-12-22T00:00:00",
          "2022-12-23T00:00:00",
          "2022-12-24T00:00:00",
          "2022-12-25T00:00:00",
          "2022-12-26T00:00:00",
          "2022-12-27T00:00:00",
          "2022-12-28T00:00:00",
          "2022-12-29T00:00:00",
          "2022-12-30T00:00:00",
          "2022-12-31T00:00:00",
          "2023-01-01T00:00:00",
          "2023-01-02T00:00:00",
          "2023-01-03T00:00:00",
          "2023-01-04T00:00:00",
          "2023-01-05T00:00:00",
          "2023-01-06T00:00:00",
          "2023-01-07T00:00:00",
          "2023-01-08T00:00:00",
          "2023-01-09T00:00:00",
          "2023-01-10T00:00:00",
          "2023-01-11T00:00:00",
          "2023-01-12T00:00:00",
          "2023-01-13T00:00:00",
          "2023-01-14T00:00:00",
          "2023-01-15T00:00:00",
          "2023-01-16T00:00:00",
          "2023-01-17T00:00:00",
          "2023-01-18T00:00:00",
          "2023-01-19T00:00:00",
          "2023-01-20T00:00:00",
          "2023-01-21T00:00:00",
          "2023-01-22T00:00:00",
          "2023-01-23T00:00:00",
          "2023-01-24T00:00:00",
          "2023-01-25T00:00:00",
          "2023-01-26T00:00:00",
          "2023-01-27T00:00:00",
          "2023-01-28T00:00:00",
          "2023-01-29T00:00:00",
          "2023-01-30T00:00:00",
          "2023-01-31T00:00:00",
          "2023-02-01T00:00:00",
          "2023-02-02T00:00:00",
          "2023-02-03T00:00:00",
          "2023-02-04T00:00:00",
          "2023-02-05T00:00:00",
          "2023-02-06T00:00:00",
          "2023-02-07T00:00:00",
          "2023-02-08T00:00:00",
          "2023-02-09T00:00:00",
          "2023-02-10T00:00:00",
          "2023-02-11T00:00:00",
          "2023-02-12T00:00:00",
          "2023-02-13T00:00:00",
          "2023-02-14T00:00:00",
          "2023-02-15T00:00:00",
          "2023-02-16T00:00:00",
          "2023-02-17T00:00:00",
          "2023-02-18T00:00:00",
          "2023-02-19T00:00:00",
          "2023-02-20T00:00:00",
          "2023-02-21T00:00:00",
          "2023-02-22T00:00:00",
          "2023-02-23T00:00:00",
          "2023-02-24T00:00:00",
          "2023-02-25T00:00:00",
          "2023-02-26T00:00:00",
          "2023-02-27T00:00:00",
          "2023-02-28T00:00:00",
          "2023-03-01T00:00:00",
          "2023-03-02T00:00:00",
          "2023-03-03T00:00:00",
          "2023-03-04T00:00:00",
          "2023-03-05T00:00:00",
          "2023-03-06T00:00:00",
          "2023-03-07T00:00:00",
          "2023-03-08T00:00:00",
          "2023-03-09T00:00:00",
          "2023-03-10T00:00:00",
          "2023-03-11T00:00:00",
          "2023-03-12T00:00:00",
          "2023-03-13T00:00:00",
          "2023-03-14T00:00:00",
          "2023-03-15T00:00:00",
          "2023-03-16T00:00:00",
          "2023-03-17T00:00:00",
          "2023-03-18T00:00:00",
          "2023-03-19T00:00:00",
          "2023-03-20T00:00:00",
          "2023-03-21T00:00:00",
          "2023-03-22T00:00:00",
          "2023-03-23T00:00:00",
          "2023-03-24T00:00:00",
          "2023-03-25T00:00:00",
          "2023-03-26T00:00:00",
          "2023-03-27T00:00:00",
          "2023-03-28T00:00:00",
          "2023-03-29T00:00:00",
          "2023-03-30T00:00:00",
          "2023-03-31T00:00:00",
          "2023-04-01T00:00:00",
          "2023-04-02T00:00:00",
          "2023-04-03T00:00:00",
          "2023-04-04T00:00:00",
          "2023-04-05T00:00:00",
          "2023-04-06T00:00:00",
          "2023-04-07T00:00:00",
          "2023-04-08T00:00:00",
          "2023-04-09T00:00:00",
          "2023-04-10T00:00:00",
          "2023-04-11T00:00:00",
          "2023-04-12T00:00:00",
          "2023-04-13T00:00:00",
          "2023-04-14T00:00:00",
          "2023-04-15T00:00:00",
          "2023-04-16T00:00:00",
          "2023-04-17T00:00:00",
          "2023-04-18T00:00:00",
          "2023-04-19T00:00:00",
          "2023-04-20T00:00:00",
          "2023-04-21T00:00:00",
          "2023-04-22T00:00:00",
          "2023-04-23T00:00:00",
          "2023-04-24T00:00:00",
          "2023-04-25T00:00:00",
          "2023-04-26T00:00:00",
          "2023-04-27T00:00:00",
          "2023-04-28T00:00:00",
          "2023-04-29T00:00:00",
          "2023-04-30T00:00:00",
          "2023-05-01T00:00:00",
          "2023-05-02T00:00:00",
          "2023-05-03T00:00:00",
          "2023-05-04T00:00:00",
          "2023-05-05T00:00:00",
          "2023-05-06T00:00:00",
          "2023-05-07T00:00:00",
          "2023-05-08T00:00:00",
          "2023-05-09T00:00:00",
          "2023-05-10T00:00:00",
          "2023-05-11T00:00:00",
          "2023-05-12T00:00:00",
          "2023-05-13T00:00:00",
          "2023-05-14T00:00:00",
          "2023-05-15T00:00:00",
          "2023-05-16T00:00:00",
          "2023-05-17T00:00:00",
          "2023-05-18T00:00:00",
          "2023-05-19T00:00:00",
          "2023-05-20T00:00:00",
          "2023-05-21T00:00:00",
          "2023-05-22T00:00:00",
          "2023-05-23T00:00:00",
          "2023-05-24T00:00:00",
          "2023-05-25T00:00:00",
          "2023-05-26T00:00:00",
          "2023-05-27T00:00:00",
          "2023-05-28T00:00:00",
          "2023-05-29T00:00:00",
          "2023-05-30T00:00:00",
          "2023-05-31T00:00:00",
          "2023-06-01T00:00:00",
          "2023-06-02T00:00:00",
          "2023-06-03T00:00:00",
          "2023-06-04T00:00:00",
          "2023-06-05T00:00:00",
          "2023-06-06T00:00:00",
          "2023-06-07T00:00:00",
          "2023-06-08T00:00:00",
          "2023-06-09T00:00:00",
          "2023-06-10T00:00:00",
          "2023-06-11T00:00:00",
          "2023-06-12T00:00:00",
          "2023-06-13T00:00:00",
          "2023-06-14T00:00:00",
          "2023-06-15T00:00:00",
          "2023-06-16T00:00:00",
          "2023-06-17T00:00:00",
          "2023-06-18T00:00:00",
          "2023-06-19T00:00:00",
          "2023-06-20T00:00:00",
          "2023-06-21T00:00:00",
          "2023-06-22T00:00:00",
          "2023-06-23T00:00:00",
          "2023-06-24T00:00:00",
          "2023-06-25T00:00:00",
          "2023-06-26T00:00:00",
          "2023-06-27T00:00:00",
          "2023-06-28T00:00:00",
          "2023-06-29T00:00:00",
          "2023-06-30T00:00:00",
          "2023-07-01T00:00:00",
          "2023-07-02T00:00:00",
          "2023-07-03T00:00:00",
          "2023-07-04T00:00:00",
          "2023-07-05T00:00:00",
          "2023-07-06T00:00:00",
          "2023-07-07T00:00:00",
          "2023-07-08T00:00:00",
          "2023-07-09T00:00:00",
          "2023-07-10T00:00:00",
          "2023-07-11T00:00:00",
          "2023-07-12T00:00:00",
          "2023-07-13T00:00:00",
          "2023-07-14T00:00:00",
          "2023-07-15T00:00:00",
          "2023-07-16T00:00:00",
          "2023-07-17T00:00:00",
          "2023-07-18T00:00:00",
          "2023-07-19T00:00:00",
          "2023-07-20T00:00:00",
          "2023-07-21T00:00:00",
          "2023-07-22T00:00:00",
          "2023-07-23T00:00:00",
          "2023-07-24T00:00:00",
          "2023-07-25T00:00:00",
          "2023-07-26T00:00:00",
          "2023-07-27T00:00:00",
          "2023-07-28T00:00:00",
          "2023-07-29T00:00:00",
          "2023-07-30T00:00:00",
          "2023-07-31T00:00:00",
          "2023-08-01T00:00:00",
          "2023-08-02T00:00:00",
          "2023-08-03T00:00:00",
          "2023-08-04T00:00:00",
          "2023-08-05T00:00:00",
          "2023-08-06T00:00:00",
          "2023-08-07T00:00:00",
          "2023-08-08T00:00:00",
          "2023-08-09T00:00:00",
          "2023-08-10T00:00:00",
          "2023-08-11T00:00:00",
          "2023-08-12T00:00:00",
          "2023-08-13T00:00:00",
          "2023-08-14T00:00:00",
          "2023-08-15T00:00:00",
          "2023-08-16T00:00:00",
          "2023-08-17T00:00:00",
          "2023-08-18T00:00:00",
          "2023-08-19T00:00:00",
          "2023-08-20T00:00:00",
          "2023-08-21T00:00:00",
          "2023-08-22T00:00:00",
          "2023-08-23T00:00:00",
          "2023-08-24T00:00:00",
          "2023-08-25T00:00:00",
          "2023-08-26T00:00:00",
          "2023-08-27T00:00:00",
          "2023-08-28T00:00:00",
          "2023-08-29T00:00:00",
          "2023-08-30T00:00:00",
          "2023-08-31T00:00:00",
          "2023-09-01T00:00:00",
          "2023-09-02T00:00:00",
          "2023-09-03T00:00:00",
          "2023-09-04T00:00:00",
          "2023-09-05T00:00:00",
          "2023-09-06T00:00:00",
          "2023-09-07T00:00:00",
          "2023-09-08T00:00:00",
          "2023-09-09T00:00:00",
          "2023-09-10T00:00:00",
          "2023-09-11T00:00:00",
          "2023-09-12T00:00:00",
          "2023-09-13T00:00:00",
          "2023-09-14T00:00:00",
          "2023-09-15T00:00:00",
          "2023-09-16T00:00:00",
          "2023-09-17T00:00:00",
          "2023-09-18T00:00:00",
          "2023-09-19T00:00:00",
          "2023-09-20T00:00:00",
          "2023-09-21T00:00:00",
          "2023-09-22T00:00:00",
          "2023-09-23T00:00:00",
          "2023-09-24T00:00:00",
          "2023-09-25T00:00:00",
          "2023-09-26T00:00:00",
          "2023-09-27T00:00:00",
          "2023-09-28T00:00:00",
          "2023-09-29T00:00:00",
          "2023-09-30T00:00:00",
          "2023-10-01T00:00:00",
          "2023-10-02T00:00:00",
          "2023-10-03T00:00:00",
          "2023-10-04T00:00:00",
          "2023-10-05T00:00:00",
          "2023-10-06T00:00:00",
          "2023-10-07T00:00:00",
          "2023-10-08T00:00:00",
          "2023-10-09T00:00:00",
          "2023-10-10T00:00:00",
          "2023-10-11T00:00:00",
          "2023-10-12T00:00:00",
          "2023-10-13T00:00:00",
          "2023-10-14T00:00:00",
          "2023-10-15T00:00:00",
          "2023-10-16T00:00:00",
          "2023-10-17T00:00:00",
          "2023-10-18T00:00:00",
          "2023-10-19T00:00:00",
          "2023-10-20T00:00:00",
          "2023-10-21T00:00:00",
          "2023-10-22T00:00:00",
          "2023-10-23T00:00:00",
          "2023-10-24T00:00:00",
          "2023-10-25T00:00:00",
          "2023-10-26T00:00:00",
          "2023-10-27T00:00:00",
          "2023-10-28T00:00:00",
          "2023-10-29T00:00:00",
          "2023-10-30T00:00:00",
          "2023-10-31T00:00:00",
          "2023-11-01T00:00:00",
          "2023-11-02T00:00:00",
          "2023-11-03T00:00:00",
          "2023-11-04T00:00:00",
          "2023-11-05T00:00:00",
          "2023-11-06T00:00:00",
          "2023-11-07T00:00:00",
          "2023-11-08T00:00:00",
          "2023-11-09T00:00:00",
          "2023-11-10T00:00:00",
          "2023-11-11T00:00:00",
          "2023-11-12T00:00:00",
          "2023-11-13T00:00:00",
          "2023-11-14T00:00:00",
          "2023-11-15T00:00:00"
         ],
         "xaxis": "x",
         "y": [
          null,
          null,
          null,
          null,
          null,
          null,
          null,
          null,
          null,
          null,
          null,
          null,
          null,
          null,
          null,
          null,
          null,
          null,
          null,
          null,
          null,
          null,
          null,
          null,
          null,
          null,
          null,
          null,
          null,
          3509.165645771041,
          3319.90543149932,
          3108.3615962071394,
          2973.0440961038876,
          2829.6435988727058,
          2764.1378247249186,
          2712.1961467456067,
          2734.8824242319247,
          2809.538537435434,
          2889.797141249405,
          2978.31527942204,
          3007.041585762974,
          2952.7132162159123,
          2943.304971675779,
          2916.028348991601,
          2896.2204908836925,
          2961.1720921160154,
          3020.0478694641192,
          2991.8742398848904,
          2975.5082224693283,
          2973.0616649220437,
          2912.864795082087,
          2812.8309179624807,
          2740.469073515909,
          2714.0766599707886,
          2667.8629542156586,
          2597.054419387293,
          2537.0222075157203,
          2539.734468017222,
          2550.5117125839756,
          2588.1981003787164,
          2610.269491480286,
          2587.9906999236923,
          2496.02619025981,
          2402.916722522349,
          2457.4764864363065,
          2520.6383067963798,
          2541.088428894026,
          2489.6403305949098,
          2424.2136226907483,
          2347.6790474856807,
          2292.7465823805182,
          2303.629267499086,
          2273.0742716623295,
          2242.961305168808,
          2201.340534053098,
          2033.6830554704247,
          1918.4701079225263,
          1963.884946234662,
          1980.3577213072776,
          1991.9522356273515,
          2019.7898137304676,
          2003.7268719701894,
          2079.141230316712,
          2110.9207578218534,
          2175.1864842599944,
          2406.3089874208285,
          2611.1252589593146,
          2740.8851684880365,
          2899.1661821036782,
          2942.2188350353995,
          3028.727170734247,
          3110.8024155419953,
          3158.649390643945,
          3203.1412524897823,
          3149.3244737137875,
          3019.749420188812,
          2912.6955432157015,
          2909.079283142174,
          2825.0831229404293,
          2705.537732397727,
          2672.538738965106,
          2538.792006608936,
          2475.411669898984,
          2442.890008158641,
          2465.0864987435325,
          2485.7650338768376,
          2562.715962296363,
          2597.28957237082,
          2590.475990650823,
          2581.9052739065455,
          2628.601026479357,
          2708.838223992392,
          2789.394425882379,
          2854.641454856814,
          2872.898661410544,
          2890.9388825422666,
          2812.85263120162,
          2666.299848032214,
          2554.728431324646,
          2548.272272701111,
          2432.4966276048494,
          2310.1235906678207,
          2132.205346438034,
          1813.1771726187308,
          1669.866250309306,
          1723.2759169630713,
          1760.4773924502338,
          1957.924259554499,
          2461.1167818553936,
          2772.433884125696,
          3271.925408763882,
          3649.075744202382,
          3908.885722040805,
          4098.653834116786,
          4176.621390980289,
          4302.6395358242435,
          4391.699068080765,
          4499.6797819155545,
          4467.534402394207,
          4454.175687160064,
          4435.065473155774,
          4389.72673982171,
          4372.805609002363,
          4309.4078111869785,
          4167.004148099277,
          4121.535924611175,
          4015.0366105470534,
          3831.7029918503217,
          3665.441981262986,
          3497.213482042719,
          3255.9210081968495,
          2982.901013493623,
          2714.855596953582,
          2160.5316894227813,
          1846.9499945378861,
          1508.1380881949058,
          1152.555242463979,
          897.7285389255337,
          896.7540528491119,
          874.2167824252733,
          868.9121424027669,
          901.1927331500401,
          1063.462998682155,
          1706.743116706098,
          2139.62441228616,
          2458.718917275418,
          2903.577547169101,
          3267.409529082361,
          3666.3808032723664,
          3903.3184234377095,
          4099.486954476311,
          4240.076830494627,
          4416.519851344914,
          4503.19598489157,
          4566.553522551619,
          4609.979524650702,
          4669.033248681932,
          4718.673030554967,
          4749.436714682402,
          4669.652315925794,
          4561.581307367,
          4535.555401555525,
          4448.588192199554,
          4365.884267466707,
          4220.8656651671245,
          4040.9021658717033,
          3706.3941757161847,
          3308.894852947694,
          2921.6029347588646,
          2452.8998489088376,
          1981.4436723183624,
          1448.9679382451434,
          959.435954444879,
          894.5605377654882,
          837.8475022831283,
          743.742716090209,
          756.3699115321918,
          758.6188092523539,
          793.1126770289694,
          943.8308067408719,
          1052.1974450729683,
          1139.3657995484202,
          1176.393951689492,
          1208.7845578741624,
          1244.0596632524653,
          1242.4925043594183,
          1243.0942584161064,
          1288.6247969249935,
          1371.285320961717,
          1431.8956899087996,
          1460.1150027559022,
          1436.4856970057497,
          1396.381952627849,
          1333.6699430469528,
          1307.8567732827087,
          1269.2752722368198,
          1256.6430636366215,
          1261.8669201661653,
          1271.7790406855102,
          1297.8649223675156,
          1277.7878469651066,
          1224.8047005710398,
          1094.5599488536996,
          1036.8400174526926,
          988.2495928430455,
          936.8866291085536,
          888.6868602674178,
          777.3984443388215,
          763.9859314524344,
          763.7747832155238,
          880.0992312796293,
          954.8061055412778,
          995.8190025299635,
          1036.9703017148283,
          1071.1005223616162,
          1069.3422799222537,
          1050.5148068217939,
          1165.9316330642475,
          1266.5687753588693,
          1379.2744272249702,
          1432.0282396434295,
          1509.6800358913126,
          1561.5135064647145,
          1607.0923233130256,
          1654.750362892738,
          1704.4872190864032,
          1728.2008911456053,
          1759.40062708539,
          1822.5726349934819,
          1828.1701135562728,
          1844.6704073864155,
          1781.4667697768007,
          1712.6970431465427,
          1609.9844848713335,
          1506.9111766305434,
          1384.0393363665478,
          1252.2186272852782,
          1127.2167813965634,
          1021.7331918114922,
          894.1213366633041,
          910.66033839165,
          913.0491617719571,
          924.0143975350561,
          951.0956185362834,
          926.0639617075341,
          904.8980059101642,
          877.0714366136639,
          899.6678212460234,
          907.7996766183354,
          917.4908560582243,
          916.9995640920049,
          918.21190029117,
          919.9346634532144,
          922.1188247737033,
          930.9122492299182,
          931.0315429035309,
          936.412402161788,
          939.3486767348408,
          923.4092259486737,
          919.703803571851,
          918.2811336368205,
          870.9840641699407,
          796.8576369336689,
          697.3878951386084,
          458.67164014831695,
          431.0420888847037,
          405.2391037569996,
          405.4732659200717,
          398.9623368068504,
          373.87474775009315,
          373.5904290824582,
          373.2449333524067,
          367.84202989804743,
          338.43777142777105,
          339.2281050163893,
          341.4815244930527,
          332.2913658161096,
          340.1929292874845,
          418.9069603818659,
          439.3094412692601,
          482.15002552561066,
          535.6765280794631,
          568.1246849666943,
          586.6359398023164,
          593.279119867623,
          598.6363943718865,
          594.6199122034551,
          644.7950549440322,
          701.9278868416726,
          729.3867572530401,
          737.3809520526722,
          773.6210142126254,
          1055.2560425176175,
          1120.4285433188863,
          1218.538434336041,
          1323.2430269053098,
          1444.9519222354802,
          1533.6189006057934,
          1599.1761071616563,
          1667.7820209437177,
          1728.777396595108,
          1783.5504283003324,
          1832.628280965741,
          1894.5723728908533,
          1973.3499177200931,
          2019.8706575680728,
          2047.5065610355216,
          2054.560479133137,
          2032.7094627782456,
          2021.7740509747637,
          1989.9475193983778,
          1942.352607708936,
          1885.060982303594,
          1812.078750195684,
          1730.9965563832588,
          1656.4914388251398,
          1569.4617635143097,
          1388.2618662295597,
          1146.4158245342599,
          874.2472665142741,
          516.2718685033174,
          401.4202314789477,
          378.0518583811668,
          350.8955812153914,
          353.25485534066405,
          363.8389000130623,
          402.90636649101384,
          442.9361455768018,
          453.6436491055329,
          453.9507234821548,
          453.111159432099,
          452.566244397923,
          458.07609463702164,
          446.3688654659226,
          398.0780738377142,
          375.5719756904042,
          371.89214571115417,
          367.3751295238373,
          359.7043399105414,
          348.3727301073952,
          338.0025489310325,
          317.37288649790173,
          307.9054390815456,
          313.36327886596104,
          322.40833611575977,
          326.56759372247365,
          329.60625720679,
          330.2451041104728,
          330.1324554090549,
          328.54911251858243,
          328.54079471958187,
          322.7517769623345,
          321.7647384841006,
          323.7189229367082,
          337.1219782198169,
          382.6970168124528,
          499.84314457679096,
          720.1933392089993,
          1017.5289306790523,
          1218.2738291738906,
          1403.7605751537828,
          1552.0381187478604,
          1635.1045109049185,
          1737.288741167094,
          1933.076169684332,
          2099.7303101440175,
          2231.3518943181984,
          2352.9256097022694,
          2434.5452892292374,
          2525.6796779917504,
          2585.7648092366535,
          2623.0724556630694,
          2642.950869393715,
          2676.7423817450567,
          2647.7478352789058,
          2615.24052292548,
          2588.883072122597,
          2530.005748592467,
          2458.4408501962625,
          2358.380587979862,
          2230.7347681666365,
          2071.8262693669694,
          1901.7596873225766,
          1692.8969129297589,
          1453.3103922466528,
          1215.7446144483938,
          1030.654606680718,
          923.8338903321365,
          888.596292101061,
          835.4818146210263,
          851.1872437097355,
          818.9417632939741,
          787.632638744036,
          775.8509027547137,
          810.0395180244597,
          870.3043948349206,
          898.9287821457434,
          916.1677540598197,
          918.5961008872376,
          918.2709328200409,
          917.3841270271289,
          918.1083087940631,
          917.7521102342124,
          913.8091087068547,
          912.1751902925229,
          912.0651377837115,
          925.1310903437546,
          939.405024121688,
          949.7555622606677,
          959.8340429599742,
          974.9207499423462,
          1007.3361868152991,
          1124.9911207481637,
          1238.2326279826996,
          1292.6180273303676,
          1279.0203617522914,
          1284.6834007945545,
          1303.2338739164159,
          1301.0671196840694,
          1332.4311628334838,
          1524.463453631455,
          1660.1107376949606,
          1849.0366500956168,
          1992.6948611869789,
          2152.205599528291,
          2237.9478859580117,
          2378.4495610057475,
          2460.806964210144,
          2534.978654939903,
          2615.3074625364097,
          2649.899627999451,
          2687.9907372187845,
          2759.71645696121,
          2800.145759990187,
          2857.6973883967207,
          2898.7977042873886,
          2888.593377914108,
          2853.0798448805526,
          2818.22762521172,
          2769.3274548934196,
          2691.8009892243203,
          2564.3662694787877,
          2299.709387723834,
          1953.8902029340982,
          1599.9363427377605,
          1365.2811832227526,
          1285.711222067307,
          1238.802675637577,
          1124.4166730965878,
          1027.142820286479,
          1071.9560412980304,
          1049.228897486018,
          1098.4687996376751,
          1087.4801653131544,
          1086.5166878046332,
          1087.8259792223903,
          1096.948078050833,
          1093.5941004773865,
          1092.511355476609,
          1087.7032559205302,
          1051.244219308509,
          1025.6128311281898,
          1027.9493987516107,
          1020.9993482994245,
          1021.7796037018667,
          1028.2381865503062,
          1021.5184304921992,
          1001.4121876344426,
          991.8434418941059,
          987.4680368375431,
          971.9819780804415,
          956.4950749773237,
          967.3321944590359,
          991.1258486554296,
          1013.1796254052653,
          1040.0374523640728,
          1070.9346007712907,
          1076.5407662823059,
          1054.9378969739582,
          1018.9114541969675,
          976.5620045346037,
          961.3863607823313,
          895.8675271201935,
          908.5688657440398,
          920.7643968995523,
          938.8992328996609,
          959.6429389685736,
          966.1203444800724,
          1005.5632164370567,
          1032.5207668093592,
          1043.667194867522,
          1001.9529174012957,
          954.1310905064881,
          903.2885412142275,
          844.5172062782797,
          838.7473122997417,
          815.3432321475974,
          758.3995856648916,
          705.6294976105241,
          565.832028898082,
          533.1994396302192,
          470.29663713984866,
          473.3933254332069,
          467.18602374258035,
          460.45285736056286,
          502.2476297435091,
          532.6418710340861,
          561.9453925180537,
          587.1262703445213,
          659.1407317674013,
          690.6730685911198,
          681.1851728672357,
          681.0600072259499,
          682.0686520859347,
          677.0505374966878,
          744.5220949119566,
          963.0091143210899,
          1117.5396673897542,
          1311.1931735693256,
          1455.4200729445904,
          1573.3822834102139,
          1662.4442989589797,
          1764.3236202861526,
          1826.881286110586,
          1901.2166005484737,
          1967.3936318013732,
          2024.6436674378926,
          2080.7165065904733,
          2150.3360533865875,
          2193.899463644251,
          2178.803060235715,
          2183.5252016115505,
          2169.012435872291,
          2150.7285953008054,
          2120.8271887221204,
          2058.1490696835294,
          1991.2924648230219,
          1901.8293036473224,
          1825.5221339630896,
          1629.0081433363468,
          1432.5087626431173,
          1268.2617980594177,
          1084.3178875973063,
          819.4034505492466,
          519.5079064848255,
          372.3968587529186,
          376.9059403954608,
          383.71903838736137,
          382.3118443989071,
          436.45331618056974,
          477.4665241177065,
          505.6437575703386,
          531.4021487569958,
          554.3693311412993,
          570.5259677575104,
          586.9120665270203,
          598.9565624728682,
          592.1559555169348,
          570.8322896042703,
          564.677456413835,
          570.7976447912026,
          588.8441912708784,
          596.2196934952481,
          597.0393249056136,
          591.2855765679501,
          576.9372433334532,
          550.9824396606062,
          534.4278009335463,
          403.496127817254,
          377.6310718712573,
          347.7096758124746,
          320.4251681677192,
          320.2435029285215,
          584.2698174876081,
          820.6422178853347,
          984.1373949459966,
          1098.5533863213525,
          1197.9569818920834,
          1273.6122322113904,
          1332.4227447198841,
          1396.1080363062154,
          1452.9033534816615,
          1504.6258672983788,
          1540.5077712969367,
          1566.1627414216587,
          1549.2253557487059,
          1535.6295494174365,
          1539.8972937066726,
          1559.2742089698856,
          1566.679977039464,
          1566.435321424731,
          1565.3974428331892,
          1557.7310985718354,
          1536.8092823175377,
          1461.7514943156848,
          1393.209234836981,
          1319.0744793775507,
          1232.765850559252,
          1146.4203658352308,
          1026.2422579656793,
          855.0729910983314,
          663.738307924111,
          476.24117222927316,
          472.89481320121865,
          478.0743298326274,
          490.33873659203215,
          525.621638126826,
          551.6065653782406,
          553.230906993449,
          555.4679552322884,
          558.0243081455857,
          556.3402907774573,
          553.8686802267456,
          552.7227271443307,
          551.576693091436,
          501.74488518077476,
          479.3458293002899,
          491.19091070478754,
          569.236628145101,
          598.02634482531,
          617.998008813544,
          649.3338147218403,
          651.195958817674,
          675.1026858323349,
          709.4455331396059,
          724.2903054331196,
          716.9736175590647,
          696.225166924225,
          613.2592958090042,
          576.4459238113935,
          558.5942275577818,
          552.1162702921861,
          546.7552913809303,
          601.0319163387461,
          635.675840832335,
          663.9849940707986,
          717.5836603238326,
          840.2334260868344,
          946.6952678059523,
          1036.2539639543315,
          1425.4342553551387,
          1778.475550401289,
          2099.839599306697,
          2313.243307261782,
          2466.552468680369,
          2618.6359750059883,
          2766.2462576075154,
          2882.92865085594,
          3009.827092048381,
          3145.9969179540763,
          3225.6764110527342,
          3285.9981653994278,
          3330.8554291323794,
          3372.0842028097954,
          3396.076599453228,
          3417.082302173394,
          3412.751206534033,
          3420.252112548851,
          3399.390837823127,
          3325.8470223906725,
          3215.9596852128816,
          3042.84076564269,
          2819.774775373278,
          2671.6390587558217
         ],
         "yaxis": "y"
        }
       ],
       "layout": {
        "legend": {
         "tracegroupgap": 0
        },
        "template": {
         "data": {
          "bar": [
           {
            "error_x": {
             "color": "#2a3f5f"
            },
            "error_y": {
             "color": "#2a3f5f"
            },
            "marker": {
             "line": {
              "color": "#E5ECF6",
              "width": 0.5
             },
             "pattern": {
              "fillmode": "overlay",
              "size": 10,
              "solidity": 0.2
             }
            },
            "type": "bar"
           }
          ],
          "barpolar": [
           {
            "marker": {
             "line": {
              "color": "#E5ECF6",
              "width": 0.5
             },
             "pattern": {
              "fillmode": "overlay",
              "size": 10,
              "solidity": 0.2
             }
            },
            "type": "barpolar"
           }
          ],
          "carpet": [
           {
            "aaxis": {
             "endlinecolor": "#2a3f5f",
             "gridcolor": "white",
             "linecolor": "white",
             "minorgridcolor": "white",
             "startlinecolor": "#2a3f5f"
            },
            "baxis": {
             "endlinecolor": "#2a3f5f",
             "gridcolor": "white",
             "linecolor": "white",
             "minorgridcolor": "white",
             "startlinecolor": "#2a3f5f"
            },
            "type": "carpet"
           }
          ],
          "choropleth": [
           {
            "colorbar": {
             "outlinewidth": 0,
             "ticks": ""
            },
            "type": "choropleth"
           }
          ],
          "contour": [
           {
            "colorbar": {
             "outlinewidth": 0,
             "ticks": ""
            },
            "colorscale": [
             [
              0,
              "#0d0887"
             ],
             [
              0.1111111111111111,
              "#46039f"
             ],
             [
              0.2222222222222222,
              "#7201a8"
             ],
             [
              0.3333333333333333,
              "#9c179e"
             ],
             [
              0.4444444444444444,
              "#bd3786"
             ],
             [
              0.5555555555555556,
              "#d8576b"
             ],
             [
              0.6666666666666666,
              "#ed7953"
             ],
             [
              0.7777777777777778,
              "#fb9f3a"
             ],
             [
              0.8888888888888888,
              "#fdca26"
             ],
             [
              1,
              "#f0f921"
             ]
            ],
            "type": "contour"
           }
          ],
          "contourcarpet": [
           {
            "colorbar": {
             "outlinewidth": 0,
             "ticks": ""
            },
            "type": "contourcarpet"
           }
          ],
          "heatmap": [
           {
            "colorbar": {
             "outlinewidth": 0,
             "ticks": ""
            },
            "colorscale": [
             [
              0,
              "#0d0887"
             ],
             [
              0.1111111111111111,
              "#46039f"
             ],
             [
              0.2222222222222222,
              "#7201a8"
             ],
             [
              0.3333333333333333,
              "#9c179e"
             ],
             [
              0.4444444444444444,
              "#bd3786"
             ],
             [
              0.5555555555555556,
              "#d8576b"
             ],
             [
              0.6666666666666666,
              "#ed7953"
             ],
             [
              0.7777777777777778,
              "#fb9f3a"
             ],
             [
              0.8888888888888888,
              "#fdca26"
             ],
             [
              1,
              "#f0f921"
             ]
            ],
            "type": "heatmap"
           }
          ],
          "heatmapgl": [
           {
            "colorbar": {
             "outlinewidth": 0,
             "ticks": ""
            },
            "colorscale": [
             [
              0,
              "#0d0887"
             ],
             [
              0.1111111111111111,
              "#46039f"
             ],
             [
              0.2222222222222222,
              "#7201a8"
             ],
             [
              0.3333333333333333,
              "#9c179e"
             ],
             [
              0.4444444444444444,
              "#bd3786"
             ],
             [
              0.5555555555555556,
              "#d8576b"
             ],
             [
              0.6666666666666666,
              "#ed7953"
             ],
             [
              0.7777777777777778,
              "#fb9f3a"
             ],
             [
              0.8888888888888888,
              "#fdca26"
             ],
             [
              1,
              "#f0f921"
             ]
            ],
            "type": "heatmapgl"
           }
          ],
          "histogram": [
           {
            "marker": {
             "pattern": {
              "fillmode": "overlay",
              "size": 10,
              "solidity": 0.2
             }
            },
            "type": "histogram"
           }
          ],
          "histogram2d": [
           {
            "colorbar": {
             "outlinewidth": 0,
             "ticks": ""
            },
            "colorscale": [
             [
              0,
              "#0d0887"
             ],
             [
              0.1111111111111111,
              "#46039f"
             ],
             [
              0.2222222222222222,
              "#7201a8"
             ],
             [
              0.3333333333333333,
              "#9c179e"
             ],
             [
              0.4444444444444444,
              "#bd3786"
             ],
             [
              0.5555555555555556,
              "#d8576b"
             ],
             [
              0.6666666666666666,
              "#ed7953"
             ],
             [
              0.7777777777777778,
              "#fb9f3a"
             ],
             [
              0.8888888888888888,
              "#fdca26"
             ],
             [
              1,
              "#f0f921"
             ]
            ],
            "type": "histogram2d"
           }
          ],
          "histogram2dcontour": [
           {
            "colorbar": {
             "outlinewidth": 0,
             "ticks": ""
            },
            "colorscale": [
             [
              0,
              "#0d0887"
             ],
             [
              0.1111111111111111,
              "#46039f"
             ],
             [
              0.2222222222222222,
              "#7201a8"
             ],
             [
              0.3333333333333333,
              "#9c179e"
             ],
             [
              0.4444444444444444,
              "#bd3786"
             ],
             [
              0.5555555555555556,
              "#d8576b"
             ],
             [
              0.6666666666666666,
              "#ed7953"
             ],
             [
              0.7777777777777778,
              "#fb9f3a"
             ],
             [
              0.8888888888888888,
              "#fdca26"
             ],
             [
              1,
              "#f0f921"
             ]
            ],
            "type": "histogram2dcontour"
           }
          ],
          "mesh3d": [
           {
            "colorbar": {
             "outlinewidth": 0,
             "ticks": ""
            },
            "type": "mesh3d"
           }
          ],
          "parcoords": [
           {
            "line": {
             "colorbar": {
              "outlinewidth": 0,
              "ticks": ""
             }
            },
            "type": "parcoords"
           }
          ],
          "pie": [
           {
            "automargin": true,
            "type": "pie"
           }
          ],
          "scatter": [
           {
            "fillpattern": {
             "fillmode": "overlay",
             "size": 10,
             "solidity": 0.2
            },
            "type": "scatter"
           }
          ],
          "scatter3d": [
           {
            "line": {
             "colorbar": {
              "outlinewidth": 0,
              "ticks": ""
             }
            },
            "marker": {
             "colorbar": {
              "outlinewidth": 0,
              "ticks": ""
             }
            },
            "type": "scatter3d"
           }
          ],
          "scattercarpet": [
           {
            "marker": {
             "colorbar": {
              "outlinewidth": 0,
              "ticks": ""
             }
            },
            "type": "scattercarpet"
           }
          ],
          "scattergeo": [
           {
            "marker": {
             "colorbar": {
              "outlinewidth": 0,
              "ticks": ""
             }
            },
            "type": "scattergeo"
           }
          ],
          "scattergl": [
           {
            "marker": {
             "colorbar": {
              "outlinewidth": 0,
              "ticks": ""
             }
            },
            "type": "scattergl"
           }
          ],
          "scattermapbox": [
           {
            "marker": {
             "colorbar": {
              "outlinewidth": 0,
              "ticks": ""
             }
            },
            "type": "scattermapbox"
           }
          ],
          "scatterpolar": [
           {
            "marker": {
             "colorbar": {
              "outlinewidth": 0,
              "ticks": ""
             }
            },
            "type": "scatterpolar"
           }
          ],
          "scatterpolargl": [
           {
            "marker": {
             "colorbar": {
              "outlinewidth": 0,
              "ticks": ""
             }
            },
            "type": "scatterpolargl"
           }
          ],
          "scatterternary": [
           {
            "marker": {
             "colorbar": {
              "outlinewidth": 0,
              "ticks": ""
             }
            },
            "type": "scatterternary"
           }
          ],
          "surface": [
           {
            "colorbar": {
             "outlinewidth": 0,
             "ticks": ""
            },
            "colorscale": [
             [
              0,
              "#0d0887"
             ],
             [
              0.1111111111111111,
              "#46039f"
             ],
             [
              0.2222222222222222,
              "#7201a8"
             ],
             [
              0.3333333333333333,
              "#9c179e"
             ],
             [
              0.4444444444444444,
              "#bd3786"
             ],
             [
              0.5555555555555556,
              "#d8576b"
             ],
             [
              0.6666666666666666,
              "#ed7953"
             ],
             [
              0.7777777777777778,
              "#fb9f3a"
             ],
             [
              0.8888888888888888,
              "#fdca26"
             ],
             [
              1,
              "#f0f921"
             ]
            ],
            "type": "surface"
           }
          ],
          "table": [
           {
            "cells": {
             "fill": {
              "color": "#EBF0F8"
             },
             "line": {
              "color": "white"
             }
            },
            "header": {
             "fill": {
              "color": "#C8D4E3"
             },
             "line": {
              "color": "white"
             }
            },
            "type": "table"
           }
          ]
         },
         "layout": {
          "annotationdefaults": {
           "arrowcolor": "#2a3f5f",
           "arrowhead": 0,
           "arrowwidth": 1
          },
          "autotypenumbers": "strict",
          "coloraxis": {
           "colorbar": {
            "outlinewidth": 0,
            "ticks": ""
           }
          },
          "colorscale": {
           "diverging": [
            [
             0,
             "#8e0152"
            ],
            [
             0.1,
             "#c51b7d"
            ],
            [
             0.2,
             "#de77ae"
            ],
            [
             0.3,
             "#f1b6da"
            ],
            [
             0.4,
             "#fde0ef"
            ],
            [
             0.5,
             "#f7f7f7"
            ],
            [
             0.6,
             "#e6f5d0"
            ],
            [
             0.7,
             "#b8e186"
            ],
            [
             0.8,
             "#7fbc41"
            ],
            [
             0.9,
             "#4d9221"
            ],
            [
             1,
             "#276419"
            ]
           ],
           "sequential": [
            [
             0,
             "#0d0887"
            ],
            [
             0.1111111111111111,
             "#46039f"
            ],
            [
             0.2222222222222222,
             "#7201a8"
            ],
            [
             0.3333333333333333,
             "#9c179e"
            ],
            [
             0.4444444444444444,
             "#bd3786"
            ],
            [
             0.5555555555555556,
             "#d8576b"
            ],
            [
             0.6666666666666666,
             "#ed7953"
            ],
            [
             0.7777777777777778,
             "#fb9f3a"
            ],
            [
             0.8888888888888888,
             "#fdca26"
            ],
            [
             1,
             "#f0f921"
            ]
           ],
           "sequentialminus": [
            [
             0,
             "#0d0887"
            ],
            [
             0.1111111111111111,
             "#46039f"
            ],
            [
             0.2222222222222222,
             "#7201a8"
            ],
            [
             0.3333333333333333,
             "#9c179e"
            ],
            [
             0.4444444444444444,
             "#bd3786"
            ],
            [
             0.5555555555555556,
             "#d8576b"
            ],
            [
             0.6666666666666666,
             "#ed7953"
            ],
            [
             0.7777777777777778,
             "#fb9f3a"
            ],
            [
             0.8888888888888888,
             "#fdca26"
            ],
            [
             1,
             "#f0f921"
            ]
           ]
          },
          "colorway": [
           "#636efa",
           "#EF553B",
           "#00cc96",
           "#ab63fa",
           "#FFA15A",
           "#19d3f3",
           "#FF6692",
           "#B6E880",
           "#FF97FF",
           "#FECB52"
          ],
          "font": {
           "color": "#2a3f5f"
          },
          "geo": {
           "bgcolor": "white",
           "lakecolor": "white",
           "landcolor": "#E5ECF6",
           "showlakes": true,
           "showland": true,
           "subunitcolor": "white"
          },
          "hoverlabel": {
           "align": "left"
          },
          "hovermode": "closest",
          "mapbox": {
           "style": "light"
          },
          "paper_bgcolor": "white",
          "plot_bgcolor": "#E5ECF6",
          "polar": {
           "angularaxis": {
            "gridcolor": "white",
            "linecolor": "white",
            "ticks": ""
           },
           "bgcolor": "#E5ECF6",
           "radialaxis": {
            "gridcolor": "white",
            "linecolor": "white",
            "ticks": ""
           }
          },
          "scene": {
           "xaxis": {
            "backgroundcolor": "#E5ECF6",
            "gridcolor": "white",
            "gridwidth": 2,
            "linecolor": "white",
            "showbackground": true,
            "ticks": "",
            "zerolinecolor": "white"
           },
           "yaxis": {
            "backgroundcolor": "#E5ECF6",
            "gridcolor": "white",
            "gridwidth": 2,
            "linecolor": "white",
            "showbackground": true,
            "ticks": "",
            "zerolinecolor": "white"
           },
           "zaxis": {
            "backgroundcolor": "#E5ECF6",
            "gridcolor": "white",
            "gridwidth": 2,
            "linecolor": "white",
            "showbackground": true,
            "ticks": "",
            "zerolinecolor": "white"
           }
          },
          "shapedefaults": {
           "line": {
            "color": "#2a3f5f"
           }
          },
          "ternary": {
           "aaxis": {
            "gridcolor": "white",
            "linecolor": "white",
            "ticks": ""
           },
           "baxis": {
            "gridcolor": "white",
            "linecolor": "white",
            "ticks": ""
           },
           "bgcolor": "#E5ECF6",
           "caxis": {
            "gridcolor": "white",
            "linecolor": "white",
            "ticks": ""
           }
          },
          "title": {
           "x": 0.05
          },
          "xaxis": {
           "automargin": true,
           "gridcolor": "white",
           "linecolor": "white",
           "ticks": "",
           "title": {
            "standoff": 15
           },
           "zerolinecolor": "white",
           "zerolinewidth": 2
          },
          "yaxis": {
           "automargin": true,
           "gridcolor": "white",
           "linecolor": "white",
           "ticks": "",
           "title": {
            "standoff": 15
           },
           "zerolinecolor": "white",
           "zerolinewidth": 2
          }
         }
        },
        "title": {
         "text": "Bitcoin 30-Day Rolling Volatility"
        },
        "xaxis": {
         "anchor": "y",
         "domain": [
          0,
          1
         ],
         "title": {
          "text": "Date"
         }
        },
        "yaxis": {
         "anchor": "x",
         "domain": [
          0,
          1
         ],
         "title": {
          "text": "Standard Deviation of Close Prices"
         }
        }
       }
      }
     },
     "metadata": {},
     "output_type": "display_data"
    }
   ],
   "source": [
    "# EDA: Volatility Analysis\n",
    "data.index = pd.to_datetime(data.index)\n",
    "\n",
    "# Calculate the 30-day rolling standard deviation\n",
    "data['30d_Rolling_Std'] = data['Close'].dropna().rolling(window=30).std()\n",
    "\n",
    "# Create an interactive plot\n",
    "fig = px.line(data, x=data.index, y='30d_Rolling_Std', title='Bitcoin 30-Day Rolling Volatility')\n",
    "fig.update_xaxes(title_text='Date')\n",
    "fig.update_yaxes(title_text='Standard Deviation of Close Prices')\n",
    "fig.show()"
   ]
  },
  {
   "cell_type": "code",
   "execution_count": 16,
   "id": "222f7800",
   "metadata": {},
   "outputs": [
    {
     "data": {
      "application/vnd.plotly.v1+json": {
       "config": {
        "plotlyServerURL": "https://plot.ly"
       },
       "data": [
        {
         "alignmentgroup": "True",
         "hovertemplate": "Volume=%{y}<extra></extra>",
         "legendgroup": "",
         "marker": {
          "color": "#636efa"
         },
         "name": "",
         "notched": false,
         "offsetgroup": "",
         "orientation": "v",
         "showlegend": false,
         "type": "box",
         "x0": " ",
         "xaxis": "x",
         "y": [
          24582667004,
          27951569547,
          33071628362,
          42494677905,
          36851084859,
          30208048289,
          84196607520,
          28066355845,
          21294384372,
          32104232331,
          26327648900,
          33499938689,
          47691135082,
          23577403399,
          18371348298,
          17902097845,
          21690904261,
          22417209227,
          23091543258,
          20382033940,
          43011992031,
          39714385405,
          26017975951,
          41856658597,
          26428189594,
          31324598034,
          25041426629,
          22238830523,
          17194183075,
          14643548444,
          20734730465,
          20288500328,
          19155189416,
          18591534769,
          29412210792,
          19652846215,
          16142097334,
          28641855926,
          33079398868,
          23245887300,
          32142048537,
          26954925781,
          18152390304,
          14741589015,
          20827783012,
          22721659051,
          19792547657,
          26246662813,
          23310007704,
          13736557863,
          18340576452,
          29280402798,
          25493150450,
          21849073843,
          46383802093,
          26545599159,
          17467554129,
          23450127612,
          35690014104,
          32479047645,
          29183112630,
          24967782593,
          28516271427,
          16975917450,
          19745229902,
          28546143503,
          25776583476,
          32284121034,
          31078064711,
          26364890465,
          14616450657,
          17300745310,
          24322159070,
          23934000868,
          39616916192,
          22009601093,
          34421564942,
          19664853187,
          20127946682,
          24615543271,
          32004652376,
          25242943069,
          31042992291,
          30574413034,
          16950455995,
          28160889722,
          36362175703,
          31397059069,
          29333883962,
          33327427106,
          38162644287,
          29336594194,
          25414397610,
          32499785455,
          29640604055,
          39393395788,
          26101973106,
          27215995394,
          16050772496,
          17654475582,
          33949912166,
          30991500854,
          27691105228,
          24342001973,
          21756855753,
          16833150693,
          19087633042,
          33705182072,
          25303206547,
          27819532341,
          35372786395,
          28011716745,
          16138021249,
          17964398167,
          35445730570,
          34569088416,
          30981015184,
          33903704907,
          30882994649,
          23895713731,
          27002760110,
          32922642426,
          27326943244,
          36754404490,
          43106256317,
          37795577489,
          24375896406,
          36763041910,
          63355494961,
          59811038817,
          70388855818,
          66989173272,
          42841124537,
          28579868620,
          25835372065,
          32613897286,
          29101473475,
          31285268319,
          33773447707,
          30749382605,
          17274840442,
          21631532270,
          31483454557,
          26616506245,
          27525063551,
          36774325352,
          36582005748,
          35519577634,
          18093886409,
          39277993274,
          33538210634,
          41135817341,
          29083562061,
          26175547452,
          16588370958,
          17264085441,
          31947336829,
          40770974039,
          30242059107,
          21692004719,
          29867476527,
          27246574439,
          34163220274,
          68204556440,
          50913575242,
          54912007015,
          31183975654,
          27132421514,
          42009436760,
          35329942625,
          30818458597,
          28970212744,
          28574793478,
          26188097173,
          24957784918,
          18372538715,
          18027170497,
          20965695707,
          21381535161,
          23552740328,
          26267239923,
          30767551159,
          18100418740,
          16390821947,
          21594638208,
          26715546990,
          24598943708,
          25814972520,
          49899834488,
          29641127858,
          28688807249,
          24150249025,
          25810220018,
          33042430345,
          31158743333,
          25905575359,
          24302954056,
          22927802083,
          39974475562,
          48765202697,
          42932549127,
          33631012204,
          31421555646,
          24021799169,
          23565495303,
          35574561406,
          28624673855,
          31758955233,
          40212386158,
          35887249746,
          28148218301,
          23553591896,
          25849159141,
          28389250717,
          26288169966,
          25120229769,
          28881249043,
          15978259885,
          15886817043,
          28575544847,
          23555719219,
          32837431722,
          37127036580,
          27265804688,
          22987346289,
          22994133555,
          35123501685,
          27753685646,
          30931623076,
          23747613147,
          40509610260,
          27595671000,
          23102307723,
          31666498758,
          31878280659,
          31962253368,
          31028679593,
          42326789564,
          30116729776,
          24366810591,
          32637854078,
          34483360283,
          33225232872,
          30182031010,
          29123998928,
          23613051457,
          25245861652,
          28813460025,
          43403978910,
          35239757134,
          32194477850,
          48469528171,
          36913738894,
          34493951963,
          50212088965,
          51091116622,
          37872380889,
          36389011503,
          30123362273,
          24957448100,
          31254779144,
          40177002624,
          36791346508,
          46363793975,
          41135767926,
          38896078052,
          26149643168,
          23359966112,
          44148798321,
          58571439619,
          53071298734,
          41037843771,
          43975248085,
          18719537670,
          20765955327,
          30484729489,
          35887278685,
          33223790572,
          34711412966,
          29227315390,
          16437423167,
          16837262532,
          27425022774,
          28711532910,
          24950173846,
          44219840004,
          38452356727,
          16192235532,
          17988916650,
          27472552998,
          30580012344,
          22425387184,
          24493974420,
          32459287866,
          16104440957,
          22128794335,
          30202235805,
          47761524910,
          58895950537,
          49625110402,
          43994715910,
          40369840645,
          31486345556,
          45668466815,
          39819303159,
          55552169483,
          43228750179,
          64072727950,
          37846047609,
          35082693210,
          53510852236,
          118992465607,
          102905151606,
          83202283721,
          55871616488,
          29717699419,
          27209183682,
          49630243054,
          36599436183,
          33925512989,
          27868914022,
          26862218609,
          16106223492,
          21313378652,
          37429485518,
          30726828760,
          32958875628,
          26129037414,
          18678255976,
          18000008764,
          20443898509,
          27743025156,
          23581685468,
          29523576583,
          22895392882,
          19539705127,
          16217776704,
          16824520830,
          22209086834,
          19889922369,
          19675404389,
          20496603770,
          20328426366,
          12706781969,
          14122486832,
          19617581341,
          26634741631,
          25534481470,
          20964448341,
          24031608960,
          14463581825,
          10924354698,
          17221074814,
          22722096615,
          14882945045,
          16441573050,
          15329265213,
          9744636213,
          11656379938,
          11886957804,
          15748580239,
          17005713920,
          14472237479,
          15929162910,
          11239186456,
          9244361700,
          12097775227,
          13903079207,
          18421743322,
          13692758566,
          14413662913,
          7714767174,
          9768827914,
          18624736866,
          15808338949,
          18372283782,
          34971338710,
          29225029694,
          38967784639,
          19298407543,
          26792494050,
          24999983362,
          30005625418,
          21152848261,
          28799154319,
          32442278429,
          24746386230,
          26518700512,
          26405069715,
          30685366709,
          26357839322,
          25383335641,
          14712928379,
          27423687259,
          27205595568,
          22837828665,
          26683255504,
          32066936882,
          27083066007,
          15639298538,
          19564262605,
          23825006542,
          27187964471,
          25371367758,
          32572572185,
          27078406594,
          16356226232,
          17821046406,
          23918742607,
          26792596581,
          32483312909,
          39316664596,
          41358451255,
          19625427158,
          25555105670,
          28987376573,
          31252098714,
          30199996781,
          30476264066,
          26811744928,
          16100721565,
          16644534842,
          22660763494,
          20535363434,
          24662841200,
          20386398516,
          26062404610,
          11166012913,
          13317001733,
          17353192895,
          22765452204,
          22536575684,
          30364664171,
          39578257695,
          30180288176,
          29279035521,
          49466362688,
          54622230164,
          43655701450,
          33866061747,
          50730261335,
          35723036817,
          37769448859,
          44774027664,
          36102192830,
          33382021890,
          24220433689,
          25980310960,
          13383005987,
          13878363192,
          18188895178,
          17783600385,
          20684945906,
          22435349951,
          19001327598,
          10876469901,
          12284641999,
          19556501327,
          15284538859,
          17052315986,
          13837809380,
          10861680497,
          9373255556,
          12175322951,
          19282400094,
          20121259843,
          18651929926,
          17487721001,
          22659995079,
          11940685378,
          12854816417,
          17872186762,
          19480529496,
          24571565421,
          21340360360,
          20759504330,
          13125734602,
          12785446832,
          17703288330,
          17733373139,
          31854242019,
          27153445027,
          17544464887,
          10662634333,
          14652199272,
          18655599976,
          16432924527,
          19122972518,
          15548678514,
          17936566518,
          15913866714,
          11301355486,
          19122903752,
          14128593256,
          20656025026,
          16724343943,
          19313599897,
          9999171605,
          10014858959,
          14413231792,
          12732238816,
          15140006925,
          15222938600,
          11258983301,
          7044911360,
          8647416921,
          11056770492,
          13697203143,
          16299104428,
          13851122697,
          12711619225,
          7892015141,
          14545229578,
          15181308984,
          13251081851,
          15656371534,
          14678970415,
          14837415000,
          8385597470,
          9360912318,
          21513292646,
          21929670693,
          19530045082,
          11904824295,
          11015551640,
          19872933189,
          10732609603,
          11677889997,
          14143474486,
          14265717766,
          15837384409,
          16324646965,
          11090276850,
          9565695129,
          12826986222,
          22211859147,
          33346760979,
          20653160491,
          24115570085,
          12147822496,
          12703464114,
          16493186997,
          16428827944,
          14571500779,
          13180860821,
          26387306197,
          9086606733,
          10533418042,
          15271884873,
          12810828427,
          12481622280,
          21129219509,
          13384770155,
          7509378699,
          7903327692,
          14828209155,
          12151839152,
          14805659717,
          23686079548,
          20917902660,
          8011667756,
          8516564470,
          13240156074,
          13138897269,
          12128602812,
          14655207121,
          10972789818,
          7873300598,
          9220145050,
          15395817395,
          10266772793,
          13497554655,
          10770779217,
          11218474952,
          6481775959,
          8678454527,
          11656781982,
          18272392391,
          19212655598,
          12780357746,
          12036639988,
          6598366353,
          7269806994,
          13618163710,
          17570561357,
          18379521213,
          11865344789,
          10195168197,
          6194358008,
          7329897180,
          14013695304,
          12640195779,
          14949271904,
          31120851211,
          24026236529,
          10631443812,
          9036580420,
          13371557893,
          14503820706,
          16985265785,
          12871532023,
          12406045118,
          6034817316,
          6913768611,
          11002805166,
          29368391712,
          16343655235,
          20181001451,
          17202862221,
          10100387473,
          8962524523,
          10680635106,
          11094740040,
          12752705327,
          11088307100,
          10817356400,
          5481314132,
          7899553047,
          14600006467,
          18657279324,
          13072077070,
          13811359124,
          11479735788,
          7402031417,
          6774210670,
          15615339655,
          13807690550,
          13281116604,
          13371443708,
          10578746709,
          7404700301,
          8192867686,
          11997833257,
          9985498161,
          11718380997,
          14079002707,
          10396435377,
          5331172801,
          9503917434,
          19793041322,
          11407814187,
          11143355314,
          11877253670,
          13492391599,
          6553044316,
          7916875290,
          12007668568,
          9973350678,
          13648094333,
          9392909295,
          15165312851,
          5388116782,
          7098201980,
          27833876539,
          14872527508,
          12724128586,
          14448058195,
          21536125230,
          11541146996,
          10446520040,
          38363572311,
          44934999645,
          25254318008,
          19427195376,
          16418032871,
          10160330825,
          11160323986,
          17184860315,
          15758270810,
          22446272005,
          20998158544,
          17158456701,
          9561294264,
          12412743996,
          12693436420,
          18834737789,
          17295394918,
          37762672382,
          22711265155,
          13924272142,
          11545715999,
          19057712790,
          23857403554,
          null
         ],
         "y0": " ",
         "yaxis": "y"
        }
       ],
       "layout": {
        "boxmode": "group",
        "legend": {
         "tracegroupgap": 0
        },
        "template": {
         "data": {
          "bar": [
           {
            "error_x": {
             "color": "#2a3f5f"
            },
            "error_y": {
             "color": "#2a3f5f"
            },
            "marker": {
             "line": {
              "color": "#E5ECF6",
              "width": 0.5
             },
             "pattern": {
              "fillmode": "overlay",
              "size": 10,
              "solidity": 0.2
             }
            },
            "type": "bar"
           }
          ],
          "barpolar": [
           {
            "marker": {
             "line": {
              "color": "#E5ECF6",
              "width": 0.5
             },
             "pattern": {
              "fillmode": "overlay",
              "size": 10,
              "solidity": 0.2
             }
            },
            "type": "barpolar"
           }
          ],
          "carpet": [
           {
            "aaxis": {
             "endlinecolor": "#2a3f5f",
             "gridcolor": "white",
             "linecolor": "white",
             "minorgridcolor": "white",
             "startlinecolor": "#2a3f5f"
            },
            "baxis": {
             "endlinecolor": "#2a3f5f",
             "gridcolor": "white",
             "linecolor": "white",
             "minorgridcolor": "white",
             "startlinecolor": "#2a3f5f"
            },
            "type": "carpet"
           }
          ],
          "choropleth": [
           {
            "colorbar": {
             "outlinewidth": 0,
             "ticks": ""
            },
            "type": "choropleth"
           }
          ],
          "contour": [
           {
            "colorbar": {
             "outlinewidth": 0,
             "ticks": ""
            },
            "colorscale": [
             [
              0,
              "#0d0887"
             ],
             [
              0.1111111111111111,
              "#46039f"
             ],
             [
              0.2222222222222222,
              "#7201a8"
             ],
             [
              0.3333333333333333,
              "#9c179e"
             ],
             [
              0.4444444444444444,
              "#bd3786"
             ],
             [
              0.5555555555555556,
              "#d8576b"
             ],
             [
              0.6666666666666666,
              "#ed7953"
             ],
             [
              0.7777777777777778,
              "#fb9f3a"
             ],
             [
              0.8888888888888888,
              "#fdca26"
             ],
             [
              1,
              "#f0f921"
             ]
            ],
            "type": "contour"
           }
          ],
          "contourcarpet": [
           {
            "colorbar": {
             "outlinewidth": 0,
             "ticks": ""
            },
            "type": "contourcarpet"
           }
          ],
          "heatmap": [
           {
            "colorbar": {
             "outlinewidth": 0,
             "ticks": ""
            },
            "colorscale": [
             [
              0,
              "#0d0887"
             ],
             [
              0.1111111111111111,
              "#46039f"
             ],
             [
              0.2222222222222222,
              "#7201a8"
             ],
             [
              0.3333333333333333,
              "#9c179e"
             ],
             [
              0.4444444444444444,
              "#bd3786"
             ],
             [
              0.5555555555555556,
              "#d8576b"
             ],
             [
              0.6666666666666666,
              "#ed7953"
             ],
             [
              0.7777777777777778,
              "#fb9f3a"
             ],
             [
              0.8888888888888888,
              "#fdca26"
             ],
             [
              1,
              "#f0f921"
             ]
            ],
            "type": "heatmap"
           }
          ],
          "heatmapgl": [
           {
            "colorbar": {
             "outlinewidth": 0,
             "ticks": ""
            },
            "colorscale": [
             [
              0,
              "#0d0887"
             ],
             [
              0.1111111111111111,
              "#46039f"
             ],
             [
              0.2222222222222222,
              "#7201a8"
             ],
             [
              0.3333333333333333,
              "#9c179e"
             ],
             [
              0.4444444444444444,
              "#bd3786"
             ],
             [
              0.5555555555555556,
              "#d8576b"
             ],
             [
              0.6666666666666666,
              "#ed7953"
             ],
             [
              0.7777777777777778,
              "#fb9f3a"
             ],
             [
              0.8888888888888888,
              "#fdca26"
             ],
             [
              1,
              "#f0f921"
             ]
            ],
            "type": "heatmapgl"
           }
          ],
          "histogram": [
           {
            "marker": {
             "pattern": {
              "fillmode": "overlay",
              "size": 10,
              "solidity": 0.2
             }
            },
            "type": "histogram"
           }
          ],
          "histogram2d": [
           {
            "colorbar": {
             "outlinewidth": 0,
             "ticks": ""
            },
            "colorscale": [
             [
              0,
              "#0d0887"
             ],
             [
              0.1111111111111111,
              "#46039f"
             ],
             [
              0.2222222222222222,
              "#7201a8"
             ],
             [
              0.3333333333333333,
              "#9c179e"
             ],
             [
              0.4444444444444444,
              "#bd3786"
             ],
             [
              0.5555555555555556,
              "#d8576b"
             ],
             [
              0.6666666666666666,
              "#ed7953"
             ],
             [
              0.7777777777777778,
              "#fb9f3a"
             ],
             [
              0.8888888888888888,
              "#fdca26"
             ],
             [
              1,
              "#f0f921"
             ]
            ],
            "type": "histogram2d"
           }
          ],
          "histogram2dcontour": [
           {
            "colorbar": {
             "outlinewidth": 0,
             "ticks": ""
            },
            "colorscale": [
             [
              0,
              "#0d0887"
             ],
             [
              0.1111111111111111,
              "#46039f"
             ],
             [
              0.2222222222222222,
              "#7201a8"
             ],
             [
              0.3333333333333333,
              "#9c179e"
             ],
             [
              0.4444444444444444,
              "#bd3786"
             ],
             [
              0.5555555555555556,
              "#d8576b"
             ],
             [
              0.6666666666666666,
              "#ed7953"
             ],
             [
              0.7777777777777778,
              "#fb9f3a"
             ],
             [
              0.8888888888888888,
              "#fdca26"
             ],
             [
              1,
              "#f0f921"
             ]
            ],
            "type": "histogram2dcontour"
           }
          ],
          "mesh3d": [
           {
            "colorbar": {
             "outlinewidth": 0,
             "ticks": ""
            },
            "type": "mesh3d"
           }
          ],
          "parcoords": [
           {
            "line": {
             "colorbar": {
              "outlinewidth": 0,
              "ticks": ""
             }
            },
            "type": "parcoords"
           }
          ],
          "pie": [
           {
            "automargin": true,
            "type": "pie"
           }
          ],
          "scatter": [
           {
            "fillpattern": {
             "fillmode": "overlay",
             "size": 10,
             "solidity": 0.2
            },
            "type": "scatter"
           }
          ],
          "scatter3d": [
           {
            "line": {
             "colorbar": {
              "outlinewidth": 0,
              "ticks": ""
             }
            },
            "marker": {
             "colorbar": {
              "outlinewidth": 0,
              "ticks": ""
             }
            },
            "type": "scatter3d"
           }
          ],
          "scattercarpet": [
           {
            "marker": {
             "colorbar": {
              "outlinewidth": 0,
              "ticks": ""
             }
            },
            "type": "scattercarpet"
           }
          ],
          "scattergeo": [
           {
            "marker": {
             "colorbar": {
              "outlinewidth": 0,
              "ticks": ""
             }
            },
            "type": "scattergeo"
           }
          ],
          "scattergl": [
           {
            "marker": {
             "colorbar": {
              "outlinewidth": 0,
              "ticks": ""
             }
            },
            "type": "scattergl"
           }
          ],
          "scattermapbox": [
           {
            "marker": {
             "colorbar": {
              "outlinewidth": 0,
              "ticks": ""
             }
            },
            "type": "scattermapbox"
           }
          ],
          "scatterpolar": [
           {
            "marker": {
             "colorbar": {
              "outlinewidth": 0,
              "ticks": ""
             }
            },
            "type": "scatterpolar"
           }
          ],
          "scatterpolargl": [
           {
            "marker": {
             "colorbar": {
              "outlinewidth": 0,
              "ticks": ""
             }
            },
            "type": "scatterpolargl"
           }
          ],
          "scatterternary": [
           {
            "marker": {
             "colorbar": {
              "outlinewidth": 0,
              "ticks": ""
             }
            },
            "type": "scatterternary"
           }
          ],
          "surface": [
           {
            "colorbar": {
             "outlinewidth": 0,
             "ticks": ""
            },
            "colorscale": [
             [
              0,
              "#0d0887"
             ],
             [
              0.1111111111111111,
              "#46039f"
             ],
             [
              0.2222222222222222,
              "#7201a8"
             ],
             [
              0.3333333333333333,
              "#9c179e"
             ],
             [
              0.4444444444444444,
              "#bd3786"
             ],
             [
              0.5555555555555556,
              "#d8576b"
             ],
             [
              0.6666666666666666,
              "#ed7953"
             ],
             [
              0.7777777777777778,
              "#fb9f3a"
             ],
             [
              0.8888888888888888,
              "#fdca26"
             ],
             [
              1,
              "#f0f921"
             ]
            ],
            "type": "surface"
           }
          ],
          "table": [
           {
            "cells": {
             "fill": {
              "color": "#EBF0F8"
             },
             "line": {
              "color": "white"
             }
            },
            "header": {
             "fill": {
              "color": "#C8D4E3"
             },
             "line": {
              "color": "white"
             }
            },
            "type": "table"
           }
          ]
         },
         "layout": {
          "annotationdefaults": {
           "arrowcolor": "#2a3f5f",
           "arrowhead": 0,
           "arrowwidth": 1
          },
          "autotypenumbers": "strict",
          "coloraxis": {
           "colorbar": {
            "outlinewidth": 0,
            "ticks": ""
           }
          },
          "colorscale": {
           "diverging": [
            [
             0,
             "#8e0152"
            ],
            [
             0.1,
             "#c51b7d"
            ],
            [
             0.2,
             "#de77ae"
            ],
            [
             0.3,
             "#f1b6da"
            ],
            [
             0.4,
             "#fde0ef"
            ],
            [
             0.5,
             "#f7f7f7"
            ],
            [
             0.6,
             "#e6f5d0"
            ],
            [
             0.7,
             "#b8e186"
            ],
            [
             0.8,
             "#7fbc41"
            ],
            [
             0.9,
             "#4d9221"
            ],
            [
             1,
             "#276419"
            ]
           ],
           "sequential": [
            [
             0,
             "#0d0887"
            ],
            [
             0.1111111111111111,
             "#46039f"
            ],
            [
             0.2222222222222222,
             "#7201a8"
            ],
            [
             0.3333333333333333,
             "#9c179e"
            ],
            [
             0.4444444444444444,
             "#bd3786"
            ],
            [
             0.5555555555555556,
             "#d8576b"
            ],
            [
             0.6666666666666666,
             "#ed7953"
            ],
            [
             0.7777777777777778,
             "#fb9f3a"
            ],
            [
             0.8888888888888888,
             "#fdca26"
            ],
            [
             1,
             "#f0f921"
            ]
           ],
           "sequentialminus": [
            [
             0,
             "#0d0887"
            ],
            [
             0.1111111111111111,
             "#46039f"
            ],
            [
             0.2222222222222222,
             "#7201a8"
            ],
            [
             0.3333333333333333,
             "#9c179e"
            ],
            [
             0.4444444444444444,
             "#bd3786"
            ],
            [
             0.5555555555555556,
             "#d8576b"
            ],
            [
             0.6666666666666666,
             "#ed7953"
            ],
            [
             0.7777777777777778,
             "#fb9f3a"
            ],
            [
             0.8888888888888888,
             "#fdca26"
            ],
            [
             1,
             "#f0f921"
            ]
           ]
          },
          "colorway": [
           "#636efa",
           "#EF553B",
           "#00cc96",
           "#ab63fa",
           "#FFA15A",
           "#19d3f3",
           "#FF6692",
           "#B6E880",
           "#FF97FF",
           "#FECB52"
          ],
          "font": {
           "color": "#2a3f5f"
          },
          "geo": {
           "bgcolor": "white",
           "lakecolor": "white",
           "landcolor": "#E5ECF6",
           "showlakes": true,
           "showland": true,
           "subunitcolor": "white"
          },
          "hoverlabel": {
           "align": "left"
          },
          "hovermode": "closest",
          "mapbox": {
           "style": "light"
          },
          "paper_bgcolor": "white",
          "plot_bgcolor": "#E5ECF6",
          "polar": {
           "angularaxis": {
            "gridcolor": "white",
            "linecolor": "white",
            "ticks": ""
           },
           "bgcolor": "#E5ECF6",
           "radialaxis": {
            "gridcolor": "white",
            "linecolor": "white",
            "ticks": ""
           }
          },
          "scene": {
           "xaxis": {
            "backgroundcolor": "#E5ECF6",
            "gridcolor": "white",
            "gridwidth": 2,
            "linecolor": "white",
            "showbackground": true,
            "ticks": "",
            "zerolinecolor": "white"
           },
           "yaxis": {
            "backgroundcolor": "#E5ECF6",
            "gridcolor": "white",
            "gridwidth": 2,
            "linecolor": "white",
            "showbackground": true,
            "ticks": "",
            "zerolinecolor": "white"
           },
           "zaxis": {
            "backgroundcolor": "#E5ECF6",
            "gridcolor": "white",
            "gridwidth": 2,
            "linecolor": "white",
            "showbackground": true,
            "ticks": "",
            "zerolinecolor": "white"
           }
          },
          "shapedefaults": {
           "line": {
            "color": "#2a3f5f"
           }
          },
          "ternary": {
           "aaxis": {
            "gridcolor": "white",
            "linecolor": "white",
            "ticks": ""
           },
           "baxis": {
            "gridcolor": "white",
            "linecolor": "white",
            "ticks": ""
           },
           "bgcolor": "#E5ECF6",
           "caxis": {
            "gridcolor": "white",
            "linecolor": "white",
            "ticks": ""
           }
          },
          "title": {
           "x": 0.05
          },
          "xaxis": {
           "automargin": true,
           "gridcolor": "white",
           "linecolor": "white",
           "ticks": "",
           "title": {
            "standoff": 15
           },
           "zerolinecolor": "white",
           "zerolinewidth": 2
          },
          "yaxis": {
           "automargin": true,
           "gridcolor": "white",
           "linecolor": "white",
           "ticks": "",
           "title": {
            "standoff": 15
           },
           "zerolinecolor": "white",
           "zerolinewidth": 2
          }
         }
        },
        "title": {
         "text": "Box Plot of Bitcoin Trading Volume"
        },
        "xaxis": {
         "anchor": "y",
         "domain": [
          0,
          1
         ],
         "title": {
          "text": "Volume"
         }
        },
        "yaxis": {
         "anchor": "x",
         "domain": [
          0,
          1
         ],
         "title": {
          "text": "Value"
         }
        }
       }
      }
     },
     "metadata": {},
     "output_type": "display_data"
    }
   ],
   "source": [
    "# Create an interactive box plot\n",
    "fig = px.box(data, y='Volume', title='Box Plot of Bitcoin Trading Volume')\n",
    "fig.update_xaxes(title_text='Volume')\n",
    "fig.update_yaxes(title_text='Value')\n",
    "fig.show()"
   ]
  },
  {
   "cell_type": "code",
   "execution_count": 17,
   "id": "70d13b8f",
   "metadata": {},
   "outputs": [],
   "source": [
    "# # EDA: Time Series Decomposition Plots\n",
    "# decomposition = seasonal_decompose(data['Close'].dropna(), model='additive', period=30)  # Drop NaN values\n",
    "# fig = decomposition.plot()\n",
    "# fig.set_size_inches(10, 8)\n",
    "# fig.suptitle('Time Series Decomposition of Bitcoin Closing Price')\n",
    "# plt.show()"
   ]
  },
  {
   "cell_type": "code",
   "execution_count": 18,
   "id": "b1947e44",
   "metadata": {},
   "outputs": [
    {
     "name": "stderr",
     "output_type": "stream",
     "text": [
      "C:\\Users\\64724\\AppData\\Local\\Temp\\ipykernel_36432\\3233686602.py:2: FutureWarning:\n",
      "\n",
      "The default value of numeric_only in DataFrame.corr is deprecated. In a future version, it will default to False. Select only valid columns or specify the value of numeric_only to silence this warning.\n",
      "\n"
     ]
    },
    {
     "data": {
      "application/vnd.plotly.v1+json": {
       "config": {
        "plotlyServerURL": "https://plot.ly"
       },
       "data": [
        {
         "coloraxis": "coloraxis",
         "hovertemplate": "x: %{x}<br>y: %{y}<br>color: %{z}<extra></extra>",
         "name": "0",
         "texttemplate": "%{z}",
         "type": "heatmap",
         "x": [
          "Open",
          "High",
          "Low",
          "Volume",
          "30d_Rolling_Std"
         ],
         "xaxis": "x",
         "y": [
          "Open",
          "High",
          "Low",
          "Volume",
          "30d_Rolling_Std"
         ],
         "yaxis": "y",
         "z": [
          [
           1,
           0.9971221077574188,
           0.9968458472975058,
           -0.0995407559437225,
           0.4402669656351228
          ],
          [
           0.9971221077574188,
           1,
           0.9956314487608491,
           -0.07291560501044836,
           0.447248733856696
          ],
          [
           0.9968458472975058,
           0.9956314487608491,
           1,
           -0.13532800222409486,
           0.4287481652406875
          ],
          [
           -0.0995407559437225,
           -0.07291560501044836,
           -0.13532800222409486,
           1,
           0.15673873021434992
          ],
          [
           0.4402669656351228,
           0.447248733856696,
           0.4287481652406875,
           0.15673873021434992,
           1
          ]
         ]
        }
       ],
       "layout": {
        "coloraxis": {
         "colorscale": [
          [
           0,
           "rgb(103,0,31)"
          ],
          [
           0.1,
           "rgb(178,24,43)"
          ],
          [
           0.2,
           "rgb(214,96,77)"
          ],
          [
           0.3,
           "rgb(244,165,130)"
          ],
          [
           0.4,
           "rgb(253,219,199)"
          ],
          [
           0.5,
           "rgb(247,247,247)"
          ],
          [
           0.6,
           "rgb(209,229,240)"
          ],
          [
           0.7,
           "rgb(146,197,222)"
          ],
          [
           0.8,
           "rgb(67,147,195)"
          ],
          [
           0.9,
           "rgb(33,102,172)"
          ],
          [
           1,
           "rgb(5,48,97)"
          ]
         ]
        },
        "margin": {
         "t": 60
        },
        "template": {
         "data": {
          "bar": [
           {
            "error_x": {
             "color": "#2a3f5f"
            },
            "error_y": {
             "color": "#2a3f5f"
            },
            "marker": {
             "line": {
              "color": "#E5ECF6",
              "width": 0.5
             },
             "pattern": {
              "fillmode": "overlay",
              "size": 10,
              "solidity": 0.2
             }
            },
            "type": "bar"
           }
          ],
          "barpolar": [
           {
            "marker": {
             "line": {
              "color": "#E5ECF6",
              "width": 0.5
             },
             "pattern": {
              "fillmode": "overlay",
              "size": 10,
              "solidity": 0.2
             }
            },
            "type": "barpolar"
           }
          ],
          "carpet": [
           {
            "aaxis": {
             "endlinecolor": "#2a3f5f",
             "gridcolor": "white",
             "linecolor": "white",
             "minorgridcolor": "white",
             "startlinecolor": "#2a3f5f"
            },
            "baxis": {
             "endlinecolor": "#2a3f5f",
             "gridcolor": "white",
             "linecolor": "white",
             "minorgridcolor": "white",
             "startlinecolor": "#2a3f5f"
            },
            "type": "carpet"
           }
          ],
          "choropleth": [
           {
            "colorbar": {
             "outlinewidth": 0,
             "ticks": ""
            },
            "type": "choropleth"
           }
          ],
          "contour": [
           {
            "colorbar": {
             "outlinewidth": 0,
             "ticks": ""
            },
            "colorscale": [
             [
              0,
              "#0d0887"
             ],
             [
              0.1111111111111111,
              "#46039f"
             ],
             [
              0.2222222222222222,
              "#7201a8"
             ],
             [
              0.3333333333333333,
              "#9c179e"
             ],
             [
              0.4444444444444444,
              "#bd3786"
             ],
             [
              0.5555555555555556,
              "#d8576b"
             ],
             [
              0.6666666666666666,
              "#ed7953"
             ],
             [
              0.7777777777777778,
              "#fb9f3a"
             ],
             [
              0.8888888888888888,
              "#fdca26"
             ],
             [
              1,
              "#f0f921"
             ]
            ],
            "type": "contour"
           }
          ],
          "contourcarpet": [
           {
            "colorbar": {
             "outlinewidth": 0,
             "ticks": ""
            },
            "type": "contourcarpet"
           }
          ],
          "heatmap": [
           {
            "colorbar": {
             "outlinewidth": 0,
             "ticks": ""
            },
            "colorscale": [
             [
              0,
              "#0d0887"
             ],
             [
              0.1111111111111111,
              "#46039f"
             ],
             [
              0.2222222222222222,
              "#7201a8"
             ],
             [
              0.3333333333333333,
              "#9c179e"
             ],
             [
              0.4444444444444444,
              "#bd3786"
             ],
             [
              0.5555555555555556,
              "#d8576b"
             ],
             [
              0.6666666666666666,
              "#ed7953"
             ],
             [
              0.7777777777777778,
              "#fb9f3a"
             ],
             [
              0.8888888888888888,
              "#fdca26"
             ],
             [
              1,
              "#f0f921"
             ]
            ],
            "type": "heatmap"
           }
          ],
          "heatmapgl": [
           {
            "colorbar": {
             "outlinewidth": 0,
             "ticks": ""
            },
            "colorscale": [
             [
              0,
              "#0d0887"
             ],
             [
              0.1111111111111111,
              "#46039f"
             ],
             [
              0.2222222222222222,
              "#7201a8"
             ],
             [
              0.3333333333333333,
              "#9c179e"
             ],
             [
              0.4444444444444444,
              "#bd3786"
             ],
             [
              0.5555555555555556,
              "#d8576b"
             ],
             [
              0.6666666666666666,
              "#ed7953"
             ],
             [
              0.7777777777777778,
              "#fb9f3a"
             ],
             [
              0.8888888888888888,
              "#fdca26"
             ],
             [
              1,
              "#f0f921"
             ]
            ],
            "type": "heatmapgl"
           }
          ],
          "histogram": [
           {
            "marker": {
             "pattern": {
              "fillmode": "overlay",
              "size": 10,
              "solidity": 0.2
             }
            },
            "type": "histogram"
           }
          ],
          "histogram2d": [
           {
            "colorbar": {
             "outlinewidth": 0,
             "ticks": ""
            },
            "colorscale": [
             [
              0,
              "#0d0887"
             ],
             [
              0.1111111111111111,
              "#46039f"
             ],
             [
              0.2222222222222222,
              "#7201a8"
             ],
             [
              0.3333333333333333,
              "#9c179e"
             ],
             [
              0.4444444444444444,
              "#bd3786"
             ],
             [
              0.5555555555555556,
              "#d8576b"
             ],
             [
              0.6666666666666666,
              "#ed7953"
             ],
             [
              0.7777777777777778,
              "#fb9f3a"
             ],
             [
              0.8888888888888888,
              "#fdca26"
             ],
             [
              1,
              "#f0f921"
             ]
            ],
            "type": "histogram2d"
           }
          ],
          "histogram2dcontour": [
           {
            "colorbar": {
             "outlinewidth": 0,
             "ticks": ""
            },
            "colorscale": [
             [
              0,
              "#0d0887"
             ],
             [
              0.1111111111111111,
              "#46039f"
             ],
             [
              0.2222222222222222,
              "#7201a8"
             ],
             [
              0.3333333333333333,
              "#9c179e"
             ],
             [
              0.4444444444444444,
              "#bd3786"
             ],
             [
              0.5555555555555556,
              "#d8576b"
             ],
             [
              0.6666666666666666,
              "#ed7953"
             ],
             [
              0.7777777777777778,
              "#fb9f3a"
             ],
             [
              0.8888888888888888,
              "#fdca26"
             ],
             [
              1,
              "#f0f921"
             ]
            ],
            "type": "histogram2dcontour"
           }
          ],
          "mesh3d": [
           {
            "colorbar": {
             "outlinewidth": 0,
             "ticks": ""
            },
            "type": "mesh3d"
           }
          ],
          "parcoords": [
           {
            "line": {
             "colorbar": {
              "outlinewidth": 0,
              "ticks": ""
             }
            },
            "type": "parcoords"
           }
          ],
          "pie": [
           {
            "automargin": true,
            "type": "pie"
           }
          ],
          "scatter": [
           {
            "fillpattern": {
             "fillmode": "overlay",
             "size": 10,
             "solidity": 0.2
            },
            "type": "scatter"
           }
          ],
          "scatter3d": [
           {
            "line": {
             "colorbar": {
              "outlinewidth": 0,
              "ticks": ""
             }
            },
            "marker": {
             "colorbar": {
              "outlinewidth": 0,
              "ticks": ""
             }
            },
            "type": "scatter3d"
           }
          ],
          "scattercarpet": [
           {
            "marker": {
             "colorbar": {
              "outlinewidth": 0,
              "ticks": ""
             }
            },
            "type": "scattercarpet"
           }
          ],
          "scattergeo": [
           {
            "marker": {
             "colorbar": {
              "outlinewidth": 0,
              "ticks": ""
             }
            },
            "type": "scattergeo"
           }
          ],
          "scattergl": [
           {
            "marker": {
             "colorbar": {
              "outlinewidth": 0,
              "ticks": ""
             }
            },
            "type": "scattergl"
           }
          ],
          "scattermapbox": [
           {
            "marker": {
             "colorbar": {
              "outlinewidth": 0,
              "ticks": ""
             }
            },
            "type": "scattermapbox"
           }
          ],
          "scatterpolar": [
           {
            "marker": {
             "colorbar": {
              "outlinewidth": 0,
              "ticks": ""
             }
            },
            "type": "scatterpolar"
           }
          ],
          "scatterpolargl": [
           {
            "marker": {
             "colorbar": {
              "outlinewidth": 0,
              "ticks": ""
             }
            },
            "type": "scatterpolargl"
           }
          ],
          "scatterternary": [
           {
            "marker": {
             "colorbar": {
              "outlinewidth": 0,
              "ticks": ""
             }
            },
            "type": "scatterternary"
           }
          ],
          "surface": [
           {
            "colorbar": {
             "outlinewidth": 0,
             "ticks": ""
            },
            "colorscale": [
             [
              0,
              "#0d0887"
             ],
             [
              0.1111111111111111,
              "#46039f"
             ],
             [
              0.2222222222222222,
              "#7201a8"
             ],
             [
              0.3333333333333333,
              "#9c179e"
             ],
             [
              0.4444444444444444,
              "#bd3786"
             ],
             [
              0.5555555555555556,
              "#d8576b"
             ],
             [
              0.6666666666666666,
              "#ed7953"
             ],
             [
              0.7777777777777778,
              "#fb9f3a"
             ],
             [
              0.8888888888888888,
              "#fdca26"
             ],
             [
              1,
              "#f0f921"
             ]
            ],
            "type": "surface"
           }
          ],
          "table": [
           {
            "cells": {
             "fill": {
              "color": "#EBF0F8"
             },
             "line": {
              "color": "white"
             }
            },
            "header": {
             "fill": {
              "color": "#C8D4E3"
             },
             "line": {
              "color": "white"
             }
            },
            "type": "table"
           }
          ]
         },
         "layout": {
          "annotationdefaults": {
           "arrowcolor": "#2a3f5f",
           "arrowhead": 0,
           "arrowwidth": 1
          },
          "autotypenumbers": "strict",
          "coloraxis": {
           "colorbar": {
            "outlinewidth": 0,
            "ticks": ""
           }
          },
          "colorscale": {
           "diverging": [
            [
             0,
             "#8e0152"
            ],
            [
             0.1,
             "#c51b7d"
            ],
            [
             0.2,
             "#de77ae"
            ],
            [
             0.3,
             "#f1b6da"
            ],
            [
             0.4,
             "#fde0ef"
            ],
            [
             0.5,
             "#f7f7f7"
            ],
            [
             0.6,
             "#e6f5d0"
            ],
            [
             0.7,
             "#b8e186"
            ],
            [
             0.8,
             "#7fbc41"
            ],
            [
             0.9,
             "#4d9221"
            ],
            [
             1,
             "#276419"
            ]
           ],
           "sequential": [
            [
             0,
             "#0d0887"
            ],
            [
             0.1111111111111111,
             "#46039f"
            ],
            [
             0.2222222222222222,
             "#7201a8"
            ],
            [
             0.3333333333333333,
             "#9c179e"
            ],
            [
             0.4444444444444444,
             "#bd3786"
            ],
            [
             0.5555555555555556,
             "#d8576b"
            ],
            [
             0.6666666666666666,
             "#ed7953"
            ],
            [
             0.7777777777777778,
             "#fb9f3a"
            ],
            [
             0.8888888888888888,
             "#fdca26"
            ],
            [
             1,
             "#f0f921"
            ]
           ],
           "sequentialminus": [
            [
             0,
             "#0d0887"
            ],
            [
             0.1111111111111111,
             "#46039f"
            ],
            [
             0.2222222222222222,
             "#7201a8"
            ],
            [
             0.3333333333333333,
             "#9c179e"
            ],
            [
             0.4444444444444444,
             "#bd3786"
            ],
            [
             0.5555555555555556,
             "#d8576b"
            ],
            [
             0.6666666666666666,
             "#ed7953"
            ],
            [
             0.7777777777777778,
             "#fb9f3a"
            ],
            [
             0.8888888888888888,
             "#fdca26"
            ],
            [
             1,
             "#f0f921"
            ]
           ]
          },
          "colorway": [
           "#636efa",
           "#EF553B",
           "#00cc96",
           "#ab63fa",
           "#FFA15A",
           "#19d3f3",
           "#FF6692",
           "#B6E880",
           "#FF97FF",
           "#FECB52"
          ],
          "font": {
           "color": "#2a3f5f"
          },
          "geo": {
           "bgcolor": "white",
           "lakecolor": "white",
           "landcolor": "#E5ECF6",
           "showlakes": true,
           "showland": true,
           "subunitcolor": "white"
          },
          "hoverlabel": {
           "align": "left"
          },
          "hovermode": "closest",
          "mapbox": {
           "style": "light"
          },
          "paper_bgcolor": "white",
          "plot_bgcolor": "#E5ECF6",
          "polar": {
           "angularaxis": {
            "gridcolor": "white",
            "linecolor": "white",
            "ticks": ""
           },
           "bgcolor": "#E5ECF6",
           "radialaxis": {
            "gridcolor": "white",
            "linecolor": "white",
            "ticks": ""
           }
          },
          "scene": {
           "xaxis": {
            "backgroundcolor": "#E5ECF6",
            "gridcolor": "white",
            "gridwidth": 2,
            "linecolor": "white",
            "showbackground": true,
            "ticks": "",
            "zerolinecolor": "white"
           },
           "yaxis": {
            "backgroundcolor": "#E5ECF6",
            "gridcolor": "white",
            "gridwidth": 2,
            "linecolor": "white",
            "showbackground": true,
            "ticks": "",
            "zerolinecolor": "white"
           },
           "zaxis": {
            "backgroundcolor": "#E5ECF6",
            "gridcolor": "white",
            "gridwidth": 2,
            "linecolor": "white",
            "showbackground": true,
            "ticks": "",
            "zerolinecolor": "white"
           }
          },
          "shapedefaults": {
           "line": {
            "color": "#2a3f5f"
           }
          },
          "ternary": {
           "aaxis": {
            "gridcolor": "white",
            "linecolor": "white",
            "ticks": ""
           },
           "baxis": {
            "gridcolor": "white",
            "linecolor": "white",
            "ticks": ""
           },
           "bgcolor": "#E5ECF6",
           "caxis": {
            "gridcolor": "white",
            "linecolor": "white",
            "ticks": ""
           }
          },
          "title": {
           "x": 0.05
          },
          "xaxis": {
           "automargin": true,
           "gridcolor": "white",
           "linecolor": "white",
           "ticks": "",
           "title": {
            "standoff": 15
           },
           "zerolinecolor": "white",
           "zerolinewidth": 2
          },
          "yaxis": {
           "automargin": true,
           "gridcolor": "white",
           "linecolor": "white",
           "ticks": "",
           "title": {
            "standoff": 15
           },
           "zerolinecolor": "white",
           "zerolinewidth": 2
          }
         }
        },
        "title": {
         "text": "Correlation Heatmap"
        },
        "xaxis": {
         "anchor": "y",
         "domain": [
          0,
          1
         ],
         "title": {
          "text": "Features"
         }
        },
        "yaxis": {
         "anchor": "x",
         "autorange": "reversed",
         "domain": [
          0,
          1
         ],
         "title": {
          "text": "Features"
         }
        }
       }
      }
     },
     "metadata": {},
     "output_type": "display_data"
    }
   ],
   "source": [
    "# EDA: Correlation Heatmaps\n",
    "corr_matrix = data.dropna().corr()\n",
    "\n",
    "# Create an interactive heatmap\n",
    "fig = px.imshow(corr_matrix, text_auto=True, color_continuous_scale='RdBu', aspect=\"auto\")\n",
    "fig.update_layout(title='Correlation Heatmap', xaxis_title='Features', yaxis_title='Features')\n",
    "fig.show()"
   ]
  },
  {
   "cell_type": "code",
   "execution_count": 19,
   "id": "3f654a46",
   "metadata": {},
   "outputs": [],
   "source": [
    "# Model Selection and Development\n",
    "from sklearn.linear_model import LinearRegression\n",
    "from sklearn.ensemble import RandomForestRegressor\n",
    "from sklearn.neural_network import MLPRegressor\n",
    "from sklearn.model_selection import train_test_split, TimeSeriesSplit, GridSearchCV\n",
    "from sklearn.metrics import mean_squared_error, mean_absolute_error, r2_score"
   ]
  },
  {
   "cell_type": "code",
   "execution_count": 20,
   "id": "b40f0c82",
   "metadata": {},
   "outputs": [],
   "source": [
    "# Preparing data for additional models\n",
    "X = scaled_data[:, :-1]  # All features except the target\n",
    "y = scaled_data[:, 3]   # 'Close' price as the target"
   ]
  },
  {
   "cell_type": "code",
   "execution_count": 21,
   "id": "d683375a",
   "metadata": {},
   "outputs": [],
   "source": [
    "# Train-Test Split\n",
    "X_train, X_test, y_train, y_test = train_test_split(X, y, test_size=0.2, shuffle=False)\n"
   ]
  },
  {
   "cell_type": "code",
   "execution_count": 22,
   "id": "78be4514",
   "metadata": {},
   "outputs": [],
   "source": [
    "# Linear Regression\n",
    "lr_model = LinearRegression()\n",
    "lr_model.fit(X_train, y_train)\n",
    "lr_predictions = lr_model.predict(X_test)\n"
   ]
  },
  {
   "cell_type": "code",
   "execution_count": 23,
   "id": "97a95b75",
   "metadata": {},
   "outputs": [],
   "source": [
    "# Random Forest\n",
    "rf_model = RandomForestRegressor()\n",
    "rf_model.fit(X_train, y_train)\n",
    "rf_predictions = rf_model.predict(X_test)\n"
   ]
  },
  {
   "cell_type": "code",
   "execution_count": 24,
   "id": "fea20951",
   "metadata": {},
   "outputs": [],
   "source": [
    "# Neural Network\n",
    "nn_model = MLPRegressor(hidden_layer_sizes=(50, 50), max_iter=500)\n",
    "nn_model.fit(X_train, y_train)\n",
    "nn_predictions = nn_model.predict(X_test)"
   ]
  },
  {
   "cell_type": "code",
   "execution_count": 25,
   "id": "a04b9923",
   "metadata": {},
   "outputs": [
    {
     "name": "stdout",
     "output_type": "stream",
     "text": [
      "Linear Regression MSE: 1.5632365679989826e-32\n",
      "Random Forest MSE: 9.371083407121153e-05\n",
      "Neural Network MSE: 0.00010604426996717408\n"
     ]
    }
   ],
   "source": [
    "# Model Evaluation\n",
    "print(\"Linear Regression MSE:\", mean_squared_error(y_test, lr_predictions))\n",
    "print(\"Random Forest MSE:\", mean_squared_error(y_test, rf_predictions))\n",
    "print(\"Neural Network MSE:\", mean_squared_error(y_test, nn_predictions))"
   ]
  },
  {
   "cell_type": "code",
   "execution_count": 26,
   "id": "edd3d84f",
   "metadata": {},
   "outputs": [
    {
     "name": "stderr",
     "output_type": "stream",
     "text": [
      "c:\\Users\\64724\\anaconda3\\envs\\dev\\lib\\site-packages\\sklearn\\ensemble\\_forest.py:413: FutureWarning:\n",
      "\n",
      "`max_features='auto'` has been deprecated in 1.1 and will be removed in 1.3. To keep the past behaviour, explicitly set `max_features=1.0` or remove this parameter as it is also the default value for RandomForestRegressors and ExtraTreesRegressors.\n",
      "\n"
     ]
    },
    {
     "name": "stdout",
     "output_type": "stream",
     "text": [
      "Best Parameters for Random Forest: {'max_depth': 10, 'max_features': 'auto', 'n_estimators': 200}\n"
     ]
    }
   ],
   "source": [
    "# Model Evaluation and Refinement: Cross-Validation, Hyperparameter Tuning (Example for Random Forest)\n",
    "tscv = TimeSeriesSplit(n_splits=5)\n",
    "param_grid = {'n_estimators': [100, 200], 'max_features': ['auto', 'sqrt'], 'max_depth': [10, 20]}\n",
    "grid_search = GridSearchCV(estimator=rf_model, param_grid=param_grid, cv=tscv, n_jobs=-1)\n",
    "grid_search.fit(X_train, y_train)\n",
    "print(\"Best Parameters for Random Forest:\", grid_search.best_params_)"
   ]
  },
  {
   "cell_type": "code",
   "execution_count": 27,
   "id": "f4c067e6",
   "metadata": {},
   "outputs": [],
   "source": [
    "# Calculate the 10-day Simple Moving Average\n",
    "data['SMA_10'] = data['Close'].rolling(window=10).mean()\n"
   ]
  },
  {
   "cell_type": "code",
   "execution_count": 28,
   "id": "cbeb3828",
   "metadata": {},
   "outputs": [
    {
     "name": "stderr",
     "output_type": "stream",
     "text": [
      "C:\\Users\\64724\\AppData\\Local\\Temp\\ipykernel_36432\\2789256201.py:3: SettingWithCopyWarning:\n",
      "\n",
      "\n",
      "A value is trying to be set on a copy of a slice from a DataFrame\n",
      "\n",
      "See the caveats in the documentation: https://pandas.pydata.org/pandas-docs/stable/user_guide/indexing.html#returning-a-view-versus-a-copy\n",
      "\n",
      "C:\\Users\\64724\\AppData\\Local\\Temp\\ipykernel_36432\\2789256201.py:4: SettingWithCopyWarning:\n",
      "\n",
      "\n",
      "A value is trying to be set on a copy of a slice from a DataFrame\n",
      "\n",
      "See the caveats in the documentation: https://pandas.pydata.org/pandas-docs/stable/user_guide/indexing.html#returning-a-view-versus-a-copy\n",
      "\n"
     ]
    }
   ],
   "source": [
    "# Define trading signals\n",
    "data['strategy_signal'] = 0  # Default to no position\n",
    "data['strategy_signal'][data['Close'] > data['SMA_10']] = 1  # Buy signal\n",
    "data['strategy_signal'][data['Close'] < data['SMA_10']] = -1  # Sell signal\n"
   ]
  },
  {
   "cell_type": "code",
   "execution_count": 29,
   "id": "273a1d5b",
   "metadata": {},
   "outputs": [],
   "source": [
    "# Calculate daily returns\n",
    "data['strategy_return'] = data['strategy_signal'].shift(1) * data['Close'].pct_change()"
   ]
  },
  {
   "cell_type": "code",
   "execution_count": 30,
   "id": "93930765",
   "metadata": {},
   "outputs": [],
   "source": [
    "# Calculate cumulative returns\n",
    "data['cumulative_strategy_return'] = (1 + data['strategy_return']).cumprod()\n",
    "data['cumulative_market_return'] = (1 + data['Close'].pct_change()).cumprod()"
   ]
  },
  {
   "cell_type": "code",
   "execution_count": 31,
   "id": "76608aec",
   "metadata": {},
   "outputs": [],
   "source": [
    "# plt.figure(figsize=(12, 6))\n",
    "\n",
    "# # Plotting the market and strategy cumulative returns\n",
    "# plt.plot(data['cumulative_market_return'], label='Market Returns (Buy and Hold)')\n",
    "# plt.plot(data['cumulative_strategy_return'], label='Strategy Returns')\n",
    "\n",
    "# # Setting up a secondary y-axis for SMA\n",
    "# ax2 = plt.gca().twinx()\n",
    "# ax2.plot(data['Close'], color='lightgray', linestyle='--', label='Close Price')\n",
    "# ax2.plot(data['SMA_10'], color='orange', linestyle='-', label='SMA 10')\n",
    "# ax2.set_ylabel('Close Price and SMA 10')\n",
    "\n",
    "# # Marking trade points\n",
    "# # Buy signals: Close < SMA_10, Sell signals: Close > SMA_10\n",
    "# buy_signals = data['Close'] > data['SMA_10']\n",
    "# sell_signals = data['Close'] < data['SMA_10']\n",
    "\n",
    "# ax2.plot(data[buy_signals].index, data['Close'][buy_signals], 'g^', label='Buy Signal', markersize=8)  # Green triangles for buy\n",
    "# ax2.plot(data[sell_signals].index, data['Close'][sell_signals], 'rv', label='Sell Signal', markersize=8)  # Red triangles for sell\n",
    "\n",
    "# # Adding legends\n",
    "# lines, labels = plt.gca().get_legend_handles_labels()\n",
    "# lines2, labels2 = ax2.get_legend_handles_labels()\n",
    "# ax2.legend(lines + lines2, labels + labels2, loc='upper left')\n",
    "\n",
    "# # Setting titles and labels\n",
    "# plt.title('Backtesting Trading Strategy with SMA')\n",
    "# plt.xlabel('Date')\n",
    "# plt.ylabel('Cumulative Returns')\n",
    "\n",
    "# plt.show()\n"
   ]
  },
  {
   "cell_type": "code",
   "execution_count": 32,
   "id": "1aa1f19a",
   "metadata": {},
   "outputs": [],
   "source": [
    "# # Performance Metrics\n",
    "# total_strategy_return = data['cumulative_strategy_return'].iloc[-1] - 1\n",
    "# total_market_return = data['cumulative_market_return'].iloc[-1] - 1\n",
    "# print(f\"Total Strategy Return: {total_strategy_return:.2f}\") \n",
    "# print(f\"Total Market Return: {total_market_return:.2f}\")\n"
   ]
  },
  {
   "cell_type": "code",
   "execution_count": null,
   "id": "5078a1b0",
   "metadata": {},
   "outputs": [],
   "source": []
  },
  {
   "cell_type": "code",
   "execution_count": null,
   "id": "441c7cc2",
   "metadata": {},
   "outputs": [],
   "source": []
  },
  {
   "cell_type": "code",
   "execution_count": null,
   "id": "6e1d0203",
   "metadata": {},
   "outputs": [],
   "source": []
  },
  {
   "cell_type": "code",
   "execution_count": null,
   "id": "fe912c5c",
   "metadata": {},
   "outputs": [],
   "source": []
  },
  {
   "cell_type": "code",
   "execution_count": null,
   "id": "539e9857",
   "metadata": {},
   "outputs": [],
   "source": []
  }
 ],
 "metadata": {
  "kernelspec": {
   "display_name": "Python 3 (ipykernel)",
   "language": "python",
   "name": "python3"
  },
  "language_info": {
   "codemirror_mode": {
    "name": "ipython",
    "version": 3
   },
   "file_extension": ".py",
   "mimetype": "text/x-python",
   "name": "python",
   "nbconvert_exporter": "python",
   "pygments_lexer": "ipython3",
   "version": "3.10.11"
  }
 },
 "nbformat": 4,
 "nbformat_minor": 5
}
